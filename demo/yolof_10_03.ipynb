{
 "cells": [
  {
   "cell_type": "markdown",
   "id": "099651a1-c819-453b-9493-1647e62a5a0a",
   "metadata": {
    "jp-MarkdownHeadingCollapsed": true
   },
   "source": [
    "# Model"
   ]
  },
  {
   "cell_type": "code",
   "execution_count": 1,
   "id": "8c14c28d-d901-42ff-958f-a63b504e49f3",
   "metadata": {},
   "outputs": [],
   "source": [
    "from detectron2.model_zoo import get_config\n",
    "from detectron2.config import LazyConfig\n",
    "from detectron2.config.instantiate import instantiate\n",
    "\n",
    "cfg = LazyConfig.load(\"yolof_mask/configs/yolof/yolof_resnet_50_1x.py\")\n",
    "cfg.train.device = 'mps'\n"
   ]
  },
  {
   "cell_type": "code",
   "execution_count": 2,
   "id": "83b2c41a-d49e-458e-9392-b61d6f7fb15b",
   "metadata": {},
   "outputs": [],
   "source": [
    "yolof = instantiate(cfg.model)"
   ]
  },
  {
   "cell_type": "code",
   "execution_count": 3,
   "id": "2c3612e4-b744-4803-a46a-a384410d4ccd",
   "metadata": {},
   "outputs": [
    {
     "data": {
      "text/plain": [
       "device(type='cpu')"
      ]
     },
     "execution_count": 3,
     "metadata": {},
     "output_type": "execute_result"
    }
   ],
   "source": [
    "yolof.device"
   ]
  },
  {
   "cell_type": "code",
   "execution_count": 4,
   "id": "7d99785a-9104-46c6-8a7b-ac2bcc3114d2",
   "metadata": {},
   "outputs": [
    {
     "data": {
      "text/plain": [
       "device(type='cpu')"
      ]
     },
     "execution_count": 4,
     "metadata": {},
     "output_type": "execute_result"
    }
   ],
   "source": [
    "yolof.anchor_generator.base_anchors.device"
   ]
  },
  {
   "cell_type": "code",
   "execution_count": 5,
   "id": "13564a68-14f1-4b77-bdb4-65883be947d4",
   "metadata": {},
   "outputs": [
    {
     "data": {
      "text/plain": [
       "YOLOF(\n",
       "  (backbone): ResNet(\n",
       "    (stem): BasicStem(\n",
       "      (conv1): Conv2d(\n",
       "        3, 64, kernel_size=(7, 7), stride=(2, 2), padding=(3, 3), bias=False\n",
       "        (norm): FrozenBatchNorm2d(num_features=64, eps=1e-05)\n",
       "      )\n",
       "    )\n",
       "    (res2): Sequential(\n",
       "      (0): BottleneckBlock(\n",
       "        (shortcut): Conv2d(\n",
       "          64, 256, kernel_size=(1, 1), stride=(1, 1), bias=False\n",
       "          (norm): FrozenBatchNorm2d(num_features=256, eps=1e-05)\n",
       "        )\n",
       "        (conv1): Conv2d(\n",
       "          64, 64, kernel_size=(1, 1), stride=(1, 1), bias=False\n",
       "          (norm): FrozenBatchNorm2d(num_features=64, eps=1e-05)\n",
       "        )\n",
       "        (conv2): Conv2d(\n",
       "          64, 64, kernel_size=(3, 3), stride=(1, 1), padding=(1, 1), bias=False\n",
       "          (norm): FrozenBatchNorm2d(num_features=64, eps=1e-05)\n",
       "        )\n",
       "        (conv3): Conv2d(\n",
       "          64, 256, kernel_size=(1, 1), stride=(1, 1), bias=False\n",
       "          (norm): FrozenBatchNorm2d(num_features=256, eps=1e-05)\n",
       "        )\n",
       "      )\n",
       "      (1): BottleneckBlock(\n",
       "        (conv1): Conv2d(\n",
       "          256, 64, kernel_size=(1, 1), stride=(1, 1), bias=False\n",
       "          (norm): FrozenBatchNorm2d(num_features=64, eps=1e-05)\n",
       "        )\n",
       "        (conv2): Conv2d(\n",
       "          64, 64, kernel_size=(3, 3), stride=(1, 1), padding=(1, 1), bias=False\n",
       "          (norm): FrozenBatchNorm2d(num_features=64, eps=1e-05)\n",
       "        )\n",
       "        (conv3): Conv2d(\n",
       "          64, 256, kernel_size=(1, 1), stride=(1, 1), bias=False\n",
       "          (norm): FrozenBatchNorm2d(num_features=256, eps=1e-05)\n",
       "        )\n",
       "      )\n",
       "      (2): BottleneckBlock(\n",
       "        (conv1): Conv2d(\n",
       "          256, 64, kernel_size=(1, 1), stride=(1, 1), bias=False\n",
       "          (norm): FrozenBatchNorm2d(num_features=64, eps=1e-05)\n",
       "        )\n",
       "        (conv2): Conv2d(\n",
       "          64, 64, kernel_size=(3, 3), stride=(1, 1), padding=(1, 1), bias=False\n",
       "          (norm): FrozenBatchNorm2d(num_features=64, eps=1e-05)\n",
       "        )\n",
       "        (conv3): Conv2d(\n",
       "          64, 256, kernel_size=(1, 1), stride=(1, 1), bias=False\n",
       "          (norm): FrozenBatchNorm2d(num_features=256, eps=1e-05)\n",
       "        )\n",
       "      )\n",
       "    )\n",
       "    (res3): Sequential(\n",
       "      (0): BottleneckBlock(\n",
       "        (shortcut): Conv2d(\n",
       "          256, 512, kernel_size=(1, 1), stride=(2, 2), bias=False\n",
       "          (norm): FrozenBatchNorm2d(num_features=512, eps=1e-05)\n",
       "        )\n",
       "        (conv1): Conv2d(\n",
       "          256, 128, kernel_size=(1, 1), stride=(2, 2), bias=False\n",
       "          (norm): FrozenBatchNorm2d(num_features=128, eps=1e-05)\n",
       "        )\n",
       "        (conv2): Conv2d(\n",
       "          128, 128, kernel_size=(3, 3), stride=(1, 1), padding=(1, 1), bias=False\n",
       "          (norm): FrozenBatchNorm2d(num_features=128, eps=1e-05)\n",
       "        )\n",
       "        (conv3): Conv2d(\n",
       "          128, 512, kernel_size=(1, 1), stride=(1, 1), bias=False\n",
       "          (norm): FrozenBatchNorm2d(num_features=512, eps=1e-05)\n",
       "        )\n",
       "      )\n",
       "      (1): BottleneckBlock(\n",
       "        (conv1): Conv2d(\n",
       "          512, 128, kernel_size=(1, 1), stride=(1, 1), bias=False\n",
       "          (norm): FrozenBatchNorm2d(num_features=128, eps=1e-05)\n",
       "        )\n",
       "        (conv2): Conv2d(\n",
       "          128, 128, kernel_size=(3, 3), stride=(1, 1), padding=(1, 1), bias=False\n",
       "          (norm): FrozenBatchNorm2d(num_features=128, eps=1e-05)\n",
       "        )\n",
       "        (conv3): Conv2d(\n",
       "          128, 512, kernel_size=(1, 1), stride=(1, 1), bias=False\n",
       "          (norm): FrozenBatchNorm2d(num_features=512, eps=1e-05)\n",
       "        )\n",
       "      )\n",
       "      (2): BottleneckBlock(\n",
       "        (conv1): Conv2d(\n",
       "          512, 128, kernel_size=(1, 1), stride=(1, 1), bias=False\n",
       "          (norm): FrozenBatchNorm2d(num_features=128, eps=1e-05)\n",
       "        )\n",
       "        (conv2): Conv2d(\n",
       "          128, 128, kernel_size=(3, 3), stride=(1, 1), padding=(1, 1), bias=False\n",
       "          (norm): FrozenBatchNorm2d(num_features=128, eps=1e-05)\n",
       "        )\n",
       "        (conv3): Conv2d(\n",
       "          128, 512, kernel_size=(1, 1), stride=(1, 1), bias=False\n",
       "          (norm): FrozenBatchNorm2d(num_features=512, eps=1e-05)\n",
       "        )\n",
       "      )\n",
       "      (3): BottleneckBlock(\n",
       "        (conv1): Conv2d(\n",
       "          512, 128, kernel_size=(1, 1), stride=(1, 1), bias=False\n",
       "          (norm): FrozenBatchNorm2d(num_features=128, eps=1e-05)\n",
       "        )\n",
       "        (conv2): Conv2d(\n",
       "          128, 128, kernel_size=(3, 3), stride=(1, 1), padding=(1, 1), bias=False\n",
       "          (norm): FrozenBatchNorm2d(num_features=128, eps=1e-05)\n",
       "        )\n",
       "        (conv3): Conv2d(\n",
       "          128, 512, kernel_size=(1, 1), stride=(1, 1), bias=False\n",
       "          (norm): FrozenBatchNorm2d(num_features=512, eps=1e-05)\n",
       "        )\n",
       "      )\n",
       "    )\n",
       "    (res4): Sequential(\n",
       "      (0): BottleneckBlock(\n",
       "        (shortcut): Conv2d(\n",
       "          512, 1024, kernel_size=(1, 1), stride=(2, 2), bias=False\n",
       "          (norm): FrozenBatchNorm2d(num_features=1024, eps=1e-05)\n",
       "        )\n",
       "        (conv1): Conv2d(\n",
       "          512, 256, kernel_size=(1, 1), stride=(2, 2), bias=False\n",
       "          (norm): FrozenBatchNorm2d(num_features=256, eps=1e-05)\n",
       "        )\n",
       "        (conv2): Conv2d(\n",
       "          256, 256, kernel_size=(3, 3), stride=(1, 1), padding=(1, 1), bias=False\n",
       "          (norm): FrozenBatchNorm2d(num_features=256, eps=1e-05)\n",
       "        )\n",
       "        (conv3): Conv2d(\n",
       "          256, 1024, kernel_size=(1, 1), stride=(1, 1), bias=False\n",
       "          (norm): FrozenBatchNorm2d(num_features=1024, eps=1e-05)\n",
       "        )\n",
       "      )\n",
       "      (1): BottleneckBlock(\n",
       "        (conv1): Conv2d(\n",
       "          1024, 256, kernel_size=(1, 1), stride=(1, 1), bias=False\n",
       "          (norm): FrozenBatchNorm2d(num_features=256, eps=1e-05)\n",
       "        )\n",
       "        (conv2): Conv2d(\n",
       "          256, 256, kernel_size=(3, 3), stride=(1, 1), padding=(1, 1), bias=False\n",
       "          (norm): FrozenBatchNorm2d(num_features=256, eps=1e-05)\n",
       "        )\n",
       "        (conv3): Conv2d(\n",
       "          256, 1024, kernel_size=(1, 1), stride=(1, 1), bias=False\n",
       "          (norm): FrozenBatchNorm2d(num_features=1024, eps=1e-05)\n",
       "        )\n",
       "      )\n",
       "      (2): BottleneckBlock(\n",
       "        (conv1): Conv2d(\n",
       "          1024, 256, kernel_size=(1, 1), stride=(1, 1), bias=False\n",
       "          (norm): FrozenBatchNorm2d(num_features=256, eps=1e-05)\n",
       "        )\n",
       "        (conv2): Conv2d(\n",
       "          256, 256, kernel_size=(3, 3), stride=(1, 1), padding=(1, 1), bias=False\n",
       "          (norm): FrozenBatchNorm2d(num_features=256, eps=1e-05)\n",
       "        )\n",
       "        (conv3): Conv2d(\n",
       "          256, 1024, kernel_size=(1, 1), stride=(1, 1), bias=False\n",
       "          (norm): FrozenBatchNorm2d(num_features=1024, eps=1e-05)\n",
       "        )\n",
       "      )\n",
       "      (3): BottleneckBlock(\n",
       "        (conv1): Conv2d(\n",
       "          1024, 256, kernel_size=(1, 1), stride=(1, 1), bias=False\n",
       "          (norm): FrozenBatchNorm2d(num_features=256, eps=1e-05)\n",
       "        )\n",
       "        (conv2): Conv2d(\n",
       "          256, 256, kernel_size=(3, 3), stride=(1, 1), padding=(1, 1), bias=False\n",
       "          (norm): FrozenBatchNorm2d(num_features=256, eps=1e-05)\n",
       "        )\n",
       "        (conv3): Conv2d(\n",
       "          256, 1024, kernel_size=(1, 1), stride=(1, 1), bias=False\n",
       "          (norm): FrozenBatchNorm2d(num_features=1024, eps=1e-05)\n",
       "        )\n",
       "      )\n",
       "      (4): BottleneckBlock(\n",
       "        (conv1): Conv2d(\n",
       "          1024, 256, kernel_size=(1, 1), stride=(1, 1), bias=False\n",
       "          (norm): FrozenBatchNorm2d(num_features=256, eps=1e-05)\n",
       "        )\n",
       "        (conv2): Conv2d(\n",
       "          256, 256, kernel_size=(3, 3), stride=(1, 1), padding=(1, 1), bias=False\n",
       "          (norm): FrozenBatchNorm2d(num_features=256, eps=1e-05)\n",
       "        )\n",
       "        (conv3): Conv2d(\n",
       "          256, 1024, kernel_size=(1, 1), stride=(1, 1), bias=False\n",
       "          (norm): FrozenBatchNorm2d(num_features=1024, eps=1e-05)\n",
       "        )\n",
       "      )\n",
       "      (5): BottleneckBlock(\n",
       "        (conv1): Conv2d(\n",
       "          1024, 256, kernel_size=(1, 1), stride=(1, 1), bias=False\n",
       "          (norm): FrozenBatchNorm2d(num_features=256, eps=1e-05)\n",
       "        )\n",
       "        (conv2): Conv2d(\n",
       "          256, 256, kernel_size=(3, 3), stride=(1, 1), padding=(1, 1), bias=False\n",
       "          (norm): FrozenBatchNorm2d(num_features=256, eps=1e-05)\n",
       "        )\n",
       "        (conv3): Conv2d(\n",
       "          256, 1024, kernel_size=(1, 1), stride=(1, 1), bias=False\n",
       "          (norm): FrozenBatchNorm2d(num_features=1024, eps=1e-05)\n",
       "        )\n",
       "      )\n",
       "    )\n",
       "    (res5): Sequential(\n",
       "      (0): BottleneckBlock(\n",
       "        (shortcut): Conv2d(\n",
       "          1024, 2048, kernel_size=(1, 1), stride=(2, 2), bias=False\n",
       "          (norm): FrozenBatchNorm2d(num_features=2048, eps=1e-05)\n",
       "        )\n",
       "        (conv1): Conv2d(\n",
       "          1024, 512, kernel_size=(1, 1), stride=(2, 2), bias=False\n",
       "          (norm): FrozenBatchNorm2d(num_features=512, eps=1e-05)\n",
       "        )\n",
       "        (conv2): Conv2d(\n",
       "          512, 512, kernel_size=(3, 3), stride=(1, 1), padding=(1, 1), bias=False\n",
       "          (norm): FrozenBatchNorm2d(num_features=512, eps=1e-05)\n",
       "        )\n",
       "        (conv3): Conv2d(\n",
       "          512, 2048, kernel_size=(1, 1), stride=(1, 1), bias=False\n",
       "          (norm): FrozenBatchNorm2d(num_features=2048, eps=1e-05)\n",
       "        )\n",
       "      )\n",
       "      (1): BottleneckBlock(\n",
       "        (conv1): Conv2d(\n",
       "          2048, 512, kernel_size=(1, 1), stride=(1, 1), bias=False\n",
       "          (norm): FrozenBatchNorm2d(num_features=512, eps=1e-05)\n",
       "        )\n",
       "        (conv2): Conv2d(\n",
       "          512, 512, kernel_size=(3, 3), stride=(1, 1), padding=(1, 1), bias=False\n",
       "          (norm): FrozenBatchNorm2d(num_features=512, eps=1e-05)\n",
       "        )\n",
       "        (conv3): Conv2d(\n",
       "          512, 2048, kernel_size=(1, 1), stride=(1, 1), bias=False\n",
       "          (norm): FrozenBatchNorm2d(num_features=2048, eps=1e-05)\n",
       "        )\n",
       "      )\n",
       "      (2): BottleneckBlock(\n",
       "        (conv1): Conv2d(\n",
       "          2048, 512, kernel_size=(1, 1), stride=(1, 1), bias=False\n",
       "          (norm): FrozenBatchNorm2d(num_features=512, eps=1e-05)\n",
       "        )\n",
       "        (conv2): Conv2d(\n",
       "          512, 512, kernel_size=(3, 3), stride=(1, 1), padding=(1, 1), bias=False\n",
       "          (norm): FrozenBatchNorm2d(num_features=512, eps=1e-05)\n",
       "        )\n",
       "        (conv3): Conv2d(\n",
       "          512, 2048, kernel_size=(1, 1), stride=(1, 1), bias=False\n",
       "          (norm): FrozenBatchNorm2d(num_features=2048, eps=1e-05)\n",
       "        )\n",
       "      )\n",
       "    )\n",
       "  )\n",
       "  (encoder): DilatedEncoder(\n",
       "    (lateral_conv): Conv2d(2048, 512, kernel_size=(1, 1), stride=(1, 1))\n",
       "    (lateral_norm): BatchNorm2d(512, eps=1e-05, momentum=0.1, affine=True, track_running_stats=True)\n",
       "    (fpn_conv): Conv2d(512, 512, kernel_size=(3, 3), stride=(1, 1), padding=(1, 1))\n",
       "    (fpn_norm): BatchNorm2d(512, eps=1e-05, momentum=0.1, affine=True, track_running_stats=True)\n",
       "    (dilated_encoder_blocks): Sequential(\n",
       "      (0): Bottleneck(\n",
       "        (conv1): Sequential(\n",
       "          (0): Conv2d(512, 128, kernel_size=(1, 1), stride=(1, 1))\n",
       "          (1): BatchNorm2d(128, eps=1e-05, momentum=0.1, affine=True, track_running_stats=True)\n",
       "          (2): ReLU(inplace=True)\n",
       "        )\n",
       "        (conv2): Sequential(\n",
       "          (0): Conv2d(128, 128, kernel_size=(3, 3), stride=(1, 1), padding=(2, 2), dilation=(2, 2))\n",
       "          (1): BatchNorm2d(128, eps=1e-05, momentum=0.1, affine=True, track_running_stats=True)\n",
       "          (2): ReLU(inplace=True)\n",
       "        )\n",
       "        (conv3): Sequential(\n",
       "          (0): Conv2d(128, 512, kernel_size=(1, 1), stride=(1, 1))\n",
       "          (1): BatchNorm2d(512, eps=1e-05, momentum=0.1, affine=True, track_running_stats=True)\n",
       "          (2): ReLU(inplace=True)\n",
       "        )\n",
       "      )\n",
       "      (1): Bottleneck(\n",
       "        (conv1): Sequential(\n",
       "          (0): Conv2d(512, 128, kernel_size=(1, 1), stride=(1, 1))\n",
       "          (1): BatchNorm2d(128, eps=1e-05, momentum=0.1, affine=True, track_running_stats=True)\n",
       "          (2): ReLU(inplace=True)\n",
       "        )\n",
       "        (conv2): Sequential(\n",
       "          (0): Conv2d(128, 128, kernel_size=(3, 3), stride=(1, 1), padding=(4, 4), dilation=(4, 4))\n",
       "          (1): BatchNorm2d(128, eps=1e-05, momentum=0.1, affine=True, track_running_stats=True)\n",
       "          (2): ReLU(inplace=True)\n",
       "        )\n",
       "        (conv3): Sequential(\n",
       "          (0): Conv2d(128, 512, kernel_size=(1, 1), stride=(1, 1))\n",
       "          (1): BatchNorm2d(512, eps=1e-05, momentum=0.1, affine=True, track_running_stats=True)\n",
       "          (2): ReLU(inplace=True)\n",
       "        )\n",
       "      )\n",
       "      (2): Bottleneck(\n",
       "        (conv1): Sequential(\n",
       "          (0): Conv2d(512, 128, kernel_size=(1, 1), stride=(1, 1))\n",
       "          (1): BatchNorm2d(128, eps=1e-05, momentum=0.1, affine=True, track_running_stats=True)\n",
       "          (2): ReLU(inplace=True)\n",
       "        )\n",
       "        (conv2): Sequential(\n",
       "          (0): Conv2d(128, 128, kernel_size=(3, 3), stride=(1, 1), padding=(6, 6), dilation=(6, 6))\n",
       "          (1): BatchNorm2d(128, eps=1e-05, momentum=0.1, affine=True, track_running_stats=True)\n",
       "          (2): ReLU(inplace=True)\n",
       "        )\n",
       "        (conv3): Sequential(\n",
       "          (0): Conv2d(128, 512, kernel_size=(1, 1), stride=(1, 1))\n",
       "          (1): BatchNorm2d(512, eps=1e-05, momentum=0.1, affine=True, track_running_stats=True)\n",
       "          (2): ReLU(inplace=True)\n",
       "        )\n",
       "      )\n",
       "      (3): Bottleneck(\n",
       "        (conv1): Sequential(\n",
       "          (0): Conv2d(512, 128, kernel_size=(1, 1), stride=(1, 1))\n",
       "          (1): BatchNorm2d(128, eps=1e-05, momentum=0.1, affine=True, track_running_stats=True)\n",
       "          (2): ReLU(inplace=True)\n",
       "        )\n",
       "        (conv2): Sequential(\n",
       "          (0): Conv2d(128, 128, kernel_size=(3, 3), stride=(1, 1), padding=(8, 8), dilation=(8, 8))\n",
       "          (1): BatchNorm2d(128, eps=1e-05, momentum=0.1, affine=True, track_running_stats=True)\n",
       "          (2): ReLU(inplace=True)\n",
       "        )\n",
       "        (conv3): Sequential(\n",
       "          (0): Conv2d(128, 512, kernel_size=(1, 1), stride=(1, 1))\n",
       "          (1): BatchNorm2d(512, eps=1e-05, momentum=0.1, affine=True, track_running_stats=True)\n",
       "          (2): ReLU(inplace=True)\n",
       "        )\n",
       "      )\n",
       "    )\n",
       "  )\n",
       "  (decoder): YOLOFDecoder(\n",
       "    (cls_subnet): Sequential(\n",
       "      (0): Conv2d(512, 512, kernel_size=(3, 3), stride=(1, 1), padding=(1, 1))\n",
       "      (1): BatchNorm2d(512, eps=1e-05, momentum=0.1, affine=True, track_running_stats=True)\n",
       "      (2): ReLU(inplace=True)\n",
       "      (3): Conv2d(512, 512, kernel_size=(3, 3), stride=(1, 1), padding=(1, 1))\n",
       "      (4): BatchNorm2d(512, eps=1e-05, momentum=0.1, affine=True, track_running_stats=True)\n",
       "      (5): ReLU(inplace=True)\n",
       "    )\n",
       "    (bbox_subnet): Sequential(\n",
       "      (0): Conv2d(512, 512, kernel_size=(3, 3), stride=(1, 1), padding=(1, 1))\n",
       "      (1): BatchNorm2d(512, eps=1e-05, momentum=0.1, affine=True, track_running_stats=True)\n",
       "      (2): ReLU(inplace=True)\n",
       "      (3): Conv2d(512, 512, kernel_size=(3, 3), stride=(1, 1), padding=(1, 1))\n",
       "      (4): BatchNorm2d(512, eps=1e-05, momentum=0.1, affine=True, track_running_stats=True)\n",
       "      (5): ReLU(inplace=True)\n",
       "      (6): Conv2d(512, 512, kernel_size=(3, 3), stride=(1, 1), padding=(1, 1))\n",
       "      (7): BatchNorm2d(512, eps=1e-05, momentum=0.1, affine=True, track_running_stats=True)\n",
       "      (8): ReLU(inplace=True)\n",
       "      (9): Conv2d(512, 512, kernel_size=(3, 3), stride=(1, 1), padding=(1, 1))\n",
       "      (10): BatchNorm2d(512, eps=1e-05, momentum=0.1, affine=True, track_running_stats=True)\n",
       "      (11): ReLU(inplace=True)\n",
       "    )\n",
       "    (cls_score): Conv2d(512, 400, kernel_size=(3, 3), stride=(1, 1), padding=(1, 1))\n",
       "    (bbox_pred): Conv2d(512, 20, kernel_size=(3, 3), stride=(1, 1), padding=(1, 1))\n",
       "    (object_pred): Conv2d(512, 5, kernel_size=(3, 3), stride=(1, 1), padding=(1, 1))\n",
       "  )\n",
       "  (anchor_generator): YOLOFAnchorGenerator(\n",
       "    (list_anchors): BufferList()\n",
       "  )\n",
       ")"
      ]
     },
     "execution_count": 5,
     "metadata": {},
     "output_type": "execute_result"
    }
   ],
   "source": [
    "yolof.to(cfg.train.device)"
   ]
  },
  {
   "cell_type": "code",
   "execution_count": 6,
   "id": "933651d7-087b-4d41-a524-aa4385d38d16",
   "metadata": {},
   "outputs": [
    {
     "data": {
      "text/plain": [
       "device(type='mps', index=0)"
      ]
     },
     "execution_count": 6,
     "metadata": {},
     "output_type": "execute_result"
    }
   ],
   "source": [
    "yolof.anchor_generator.base_anchors.device"
   ]
  },
  {
   "cell_type": "code",
   "execution_count": 10,
   "id": "918a0861-cb13-4d4a-b800-247447cab2d1",
   "metadata": {},
   "outputs": [
    {
     "data": {
      "text/plain": [
       "YOLOFAnchorGenerator(\n",
       "  (list_anchors): BufferList()\n",
       ")"
      ]
     },
     "execution_count": 10,
     "metadata": {},
     "output_type": "execute_result"
    }
   ],
   "source": [
    "yolof.anchor_generator"
   ]
  },
  {
   "cell_type": "code",
   "execution_count": null,
   "id": "63fa14bb-b575-4d6c-87d0-be71ec17718e",
   "metadata": {},
   "outputs": [],
   "source": []
  },
  {
   "cell_type": "code",
   "execution_count": null,
   "id": "58013e70-6b46-4f0c-b1c2-8bfd65274f59",
   "metadata": {},
   "outputs": [],
   "source": []
  },
  {
   "cell_type": "code",
   "execution_count": null,
   "id": "b703bf37-ab27-4e3e-9c67-102c45c6d107",
   "metadata": {},
   "outputs": [],
   "source": []
  },
  {
   "cell_type": "code",
   "execution_count": null,
   "id": "2a85a4e8-b782-4046-a5ab-e3d709980588",
   "metadata": {},
   "outputs": [],
   "source": []
  },
  {
   "cell_type": "code",
   "execution_count": null,
   "id": "b9cf9e7e-645a-4151-8766-6bb9f150c608",
   "metadata": {},
   "outputs": [],
   "source": []
  },
  {
   "cell_type": "code",
   "execution_count": null,
   "id": "eecce195-2da7-4808-94d5-a76a4bcec698",
   "metadata": {},
   "outputs": [],
   "source": []
  },
  {
   "cell_type": "code",
   "execution_count": null,
   "id": "5b3a565a-6574-48fd-b146-d5c32cb75c0e",
   "metadata": {},
   "outputs": [],
   "source": []
  },
  {
   "cell_type": "code",
   "execution_count": null,
   "id": "b5142acb-7ca1-41dd-8df0-e29a8efded48",
   "metadata": {},
   "outputs": [],
   "source": []
  },
  {
   "cell_type": "code",
   "execution_count": null,
   "id": "a085bdc3-1403-4cce-a236-6a939438eb3c",
   "metadata": {},
   "outputs": [],
   "source": []
  },
  {
   "cell_type": "markdown",
   "id": "bd3a5b92-789b-4006-ba82-3a8b58161337",
   "metadata": {
    "jp-MarkdownHeadingCollapsed": true
   },
   "source": [
    "# Anchor generator"
   ]
  },
  {
   "cell_type": "code",
   "execution_count": 11,
   "id": "c55b9946-6d4c-4520-8af1-40ecc2b1a0a2",
   "metadata": {},
   "outputs": [],
   "source": [
    "from yolof_mask.modeling.anchor_generator import YOLOFAnchorGenerator"
   ]
  },
  {
   "cell_type": "code",
   "execution_count": 12,
   "id": "86d19fd6-4fb9-4b8a-82f3-04b2cbcdf57a",
   "metadata": {},
   "outputs": [],
   "source": [
    "anchor_generator = YOLOFAnchorGenerator(sizes=(32., 64., 128., 256., 512.),\n",
    "                                        aspect_ratio=1.,\n",
    "                                        stride=32,\n",
    "                                        offset=0.0)"
   ]
  },
  {
   "cell_type": "code",
   "execution_count": 13,
   "id": "9eff43f5-286b-408d-9bc5-2ed4c1645225",
   "metadata": {},
   "outputs": [
    {
     "data": {
      "text/plain": [
       "device(type='cpu')"
      ]
     },
     "execution_count": 13,
     "metadata": {},
     "output_type": "execute_result"
    }
   ],
   "source": [
    "anchor_generator.base_anchors.device"
   ]
  },
  {
   "cell_type": "code",
   "execution_count": 14,
   "id": "8c23845d-a4be-4d45-82c5-50793ca83dca",
   "metadata": {},
   "outputs": [],
   "source": [
    "import torch\n",
    "\n",
    "batch_size = 2\n",
    "feature_w = feature_h = 1024 // 32\n",
    "channels = 64\n",
    "\n",
    "feature_map = torch.randn(batch_size, channels, feature_w, feature_h)"
   ]
  },
  {
   "cell_type": "code",
   "execution_count": 16,
   "id": "37acce36-ee21-4ac9-9b16-0b4a235c68b9",
   "metadata": {},
   "outputs": [],
   "source": [
    "anchors = anchor_generator(feature_map)"
   ]
  },
  {
   "cell_type": "code",
   "execution_count": null,
   "id": "a0f4cf4c-0a54-410c-a0fb-4e1c8a2b9912",
   "metadata": {},
   "outputs": [],
   "source": []
  },
  {
   "cell_type": "code",
   "execution_count": 18,
   "id": "0468e1eb-7cc4-4e65-9e88-fb4965b691eb",
   "metadata": {},
   "outputs": [
    {
     "data": {
      "text/plain": [
       "torch.Size([5120, 4])"
      ]
     },
     "execution_count": 18,
     "metadata": {},
     "output_type": "execute_result"
    }
   ],
   "source": [
    "anchors.tensor.shape"
   ]
  },
  {
   "cell_type": "code",
   "execution_count": 19,
   "id": "c3ffdd2b-2607-4511-a3a9-c298769eb023",
   "metadata": {},
   "outputs": [],
   "source": [
    "from detectron2.structures import Boxes"
   ]
  },
  {
   "cell_type": "code",
   "execution_count": 21,
   "id": "649967c9-2997-45b7-95ff-f0dc4794a4f8",
   "metadata": {},
   "outputs": [],
   "source": [
    "from detectron2.layers import cat, ciou_loss, diou_loss"
   ]
  },
  {
   "cell_type": "code",
   "execution_count": null,
   "id": "ba4ffdbb-1265-4e9c-b9bc-14c76efd4819",
   "metadata": {},
   "outputs": [],
   "source": []
  },
  {
   "cell_type": "code",
   "execution_count": null,
   "id": "2cd3f2e3-c32a-498d-ae53-b851d80e333c",
   "metadata": {},
   "outputs": [],
   "source": [
    "if isinstance(anchors[0], Boxes):\n",
    "        anchors = type(anchors[0]).cat(anchors).tensor  # (R, 4)"
   ]
  },
  {
   "cell_type": "code",
   "execution_count": 24,
   "id": "598d4def-bd7a-43a5-a08c-207f6840f3db",
   "metadata": {},
   "outputs": [
    {
     "data": {
      "text/plain": [
       "detectron2.structures.boxes.Boxes"
      ]
     },
     "execution_count": 24,
     "metadata": {},
     "output_type": "execute_result"
    }
   ],
   "source": [
    "type(anchors)"
   ]
  },
  {
   "cell_type": "code",
   "execution_count": null,
   "id": "a5487770-741d-4cb0-9e62-35f91c6ec22d",
   "metadata": {},
   "outputs": [],
   "source": []
  },
  {
   "cell_type": "code",
   "execution_count": null,
   "id": "a719aaf2-ed35-4346-9540-cd453782885d",
   "metadata": {},
   "outputs": [],
   "source": []
  },
  {
   "cell_type": "code",
   "execution_count": null,
   "id": "d5211c48-441f-4972-9b8a-d1a765909c52",
   "metadata": {},
   "outputs": [],
   "source": []
  },
  {
   "cell_type": "markdown",
   "id": "a351cf02-ecd4-47f9-8b2d-1913cd2c836b",
   "metadata": {
    "jp-MarkdownHeadingCollapsed": true
   },
   "source": [
    "# Train"
   ]
  },
  {
   "cell_type": "code",
   "execution_count": 1,
   "id": "988c7ef6-9d6d-4f86-8843-61757871162e",
   "metadata": {},
   "outputs": [],
   "source": [
    "# Some basic setup:\n",
    "# Setup detectron2 logger\n",
    "import detectron2\n",
    "from detectron2.utils.logger import setup_logger\n",
    "setup_logger()\n",
    "\n",
    "# import some common libraries\n",
    "import numpy as np\n",
    "import os, json, cv2, random\n",
    "import matplotlib.pyplot as plt\n",
    "#from google.colab.patches import cv2_imshow\n",
    "\n",
    "# import some common detectron2 utilities\n",
    "from detectron2 import model_zoo\n",
    "from detectron2.engine import DefaultPredictor\n",
    "from detectron2.config import get_cfg\n",
    "from detectron2.utils.visualizer import Visualizer\n",
    "from detectron2.data import MetadataCatalog, DatasetCatalog\n",
    "from detectron2.data.datasets import register_coco_instances"
   ]
  },
  {
   "cell_type": "code",
   "execution_count": 2,
   "id": "44c39cad-d240-4fd3-b9a1-bc892b68007e",
   "metadata": {},
   "outputs": [
    {
     "name": "stdout",
     "output_type": "stream",
     "text": [
      "\u001b[32m[03/13 10:42:55 d2.data.datasets.coco]: \u001b[0mLoaded 5984 images in COCO format from ./kitti/training_coco/train.json\n"
     ]
    }
   ],
   "source": [
    "dataset = 'kitti'\n",
    "annot_dir = './kitti/training_coco'\n",
    "imgs_dir = './kitti/training_voc/VOC2012/JPEGImages'\n",
    "\n",
    "for split in ['train', 'val']: \n",
    "    annot_path = os.path.join(annot_dir, f'{split}.json')\n",
    "    d_name = dataset + f'_{split}'\n",
    "    register_coco_instances(d_name, {}, annot_path, imgs_dir)\n",
    "\n",
    "# Load dataset\n",
    "dataset_dicts = DatasetCatalog.get('kitti_train')\n",
    "metadata = MetadataCatalog.get('kitti_train')"
   ]
  },
  {
   "cell_type": "code",
   "execution_count": 3,
   "id": "e57fe492-a77b-43e6-9e15-3a51921a8261",
   "metadata": {},
   "outputs": [],
   "source": [
    "import argparse\n",
    "\n",
    "class Args(argparse.Namespace):\n",
    "    config_file='yolof_mask/configs/yolof/yolof_resnet_50_1x.py'\n",
    "    eval_only=False\n",
    "    num_gpus=1\n",
    "    num_machines=1\n",
    "    resume=False\n",
    "\n",
    "args = Args()"
   ]
  },
  {
   "cell_type": "code",
   "execution_count": 4,
   "id": "6139900f-748e-4616-af49-98bdb3cf1039",
   "metadata": {},
   "outputs": [],
   "source": [
    "from detectron2.model_zoo import get_config\n",
    "from detectron2.config import LazyConfig\n",
    "from detectron2.config.instantiate import instantiate\n",
    "\n",
    "\n",
    "cfg = LazyConfig.load(\"yolof_mask/configs/yolof/yolof_resnet_50_1x.py\")\n",
    "cfg.train.device = 'mps'\n",
    "cfg.dataloader.evaluator.dataset_name = 'kitti_val'\n",
    "cfg.dataloader.train.dataset.names = 'kitti_train'\n",
    "cfg.dataloader.train.total_batch_size = 2\n"
   ]
  },
  {
   "cell_type": "code",
   "execution_count": 5,
   "id": "8a53337d-8d30-41af-bceb-1af3c09fd05f",
   "metadata": {
    "scrolled": true
   },
   "outputs": [
    {
     "name": "stdout",
     "output_type": "stream",
     "text": [
      "\u001b[32m[03/13 10:42:55 detectron2]: \u001b[0mRank of current process: 0. World size: 1\n",
      "\u001b[32m[03/13 10:42:55 detectron2]: \u001b[0mRank of current process: 0. World size: 1\n",
      "\u001b[32m[03/13 10:42:55 detectron2]: \u001b[0mEnvironment info:\n",
      "-------------------------------  -------------------------------------------------------------------------------------------------------------------------------------------------------------------------------------------------------------------------------------------------------------------------------------------------------------------------------------------------------------------------------------------------------------------------------------------------------------------------------------------------------------------------------------------------------------------------------------------------------------------------------------------------------------------------------------------------------------------------------------------------------------------------------------------------------\n",
      "sys.platform                     darwin\n",
      "Python                           3.9.18 | packaged by conda-forge | (main, Dec 23 2023, 16:35:41) [Clang 16.0.6 ]\n",
      "numpy                            1.26.4\n",
      "detectron2                       0.6 @/Users/giakhang/dev/work/sand_box/hope_to_public_net/detectron2/detectron2\n",
      "detectron2._C                    not built correctly: dlopen(/Users/giakhang/dev/work/sand_box/hope_to_public_net/detectron2/detectron2/_C.cpython-39-darwin.so, 0x0002): tried: '/opt/homebrew/opt/libomp/lib/_C.cpython-39-darwin.so' (no such file), '/_C.cpython-39-darwin.so' (no such file), '/Users/giakhang/dev/work/sand_box/hope_to_public_net/detectron2/detectron2/_C.cpython-39-darwin.so' (mach-o file, but is an incompatible architecture (have 'x86_64', need 'arm64')), '/System/Volumes/Preboot/Cryptexes/OS/Users/giakhang/dev/work/sand_box/hope_to_public_net/detectron2/detectron2/_C.cpython-39-darwin.so' (no such file), '/Users/giakhang/dev/work/sand_box/hope_to_public_net/detectron2/detectron2/_C.cpython-39-darwin.so' (mach-o file, but is an incompatible architecture (have 'x86_64', need 'arm64'))\n",
      "Compiler ($CXX)                  Apple clang version 14.0.3 (clang-1403.0.22.14.1)\n",
      "DETECTRON2_ENV_MODULE            <not set>\n",
      "PyTorch                          2.2.1 @/Users/giakhang/miniconda3/envs/hope_to_public_net/lib/python3.9/site-packages/torch\n",
      "PyTorch debug build              False\n",
      "torch._C._GLIBCXX_USE_CXX11_ABI  False\n",
      "GPU available                    No: torch.cuda.is_available() == False\n",
      "Pillow                           10.2.0\n",
      "torchvision                      0.17.1 @/Users/giakhang/miniconda3/envs/hope_to_public_net/lib/python3.9/site-packages/torchvision\n",
      "fvcore                           0.1.5.post20221221\n",
      "iopath                           0.1.9\n",
      "cv2                              4.9.0\n",
      "-------------------------------  -------------------------------------------------------------------------------------------------------------------------------------------------------------------------------------------------------------------------------------------------------------------------------------------------------------------------------------------------------------------------------------------------------------------------------------------------------------------------------------------------------------------------------------------------------------------------------------------------------------------------------------------------------------------------------------------------------------------------------------------------------------------------------------------------------\n",
      "PyTorch built with:\n",
      "  - GCC 4.2\n",
      "  - C++ Version: 201703\n",
      "  - clang 13.1.6\n",
      "  - LAPACK is enabled (usually provided by MKL)\n",
      "  - NNPACK is enabled\n",
      "  - CPU capability usage: NO AVX\n",
      "  - Build settings: BLAS_INFO=accelerate, BUILD_TYPE=Release, CXX_COMPILER=/Applications/Xcode_13.3.1.app/Contents/Developer/Toolchains/XcodeDefault.xctoolchain/usr/bin/clang++, CXX_FLAGS= -fvisibility-inlines-hidden -DUSE_PTHREADPOOL -DNDEBUG -DUSE_KINETO -DLIBKINETO_NOCUPTI -DLIBKINETO_NOROCTRACER -DUSE_PYTORCH_QNNPACK -DUSE_XNNPACK -DUSE_PYTORCH_METAL_EXPORT -DSYMBOLICATE_MOBILE_DEBUG_HANDLE -DUSE_COREML_DELEGATE -O2 -fPIC -Wall -Wextra -Werror=return-type -Werror=non-virtual-dtor -Werror=braced-scalar-init -Werror=range-loop-construct -Werror=bool-operation -Wnarrowing -Wno-missing-field-initializers -Wno-type-limits -Wno-array-bounds -Wno-unknown-pragmas -Wno-unused-parameter -Wno-unused-function -Wno-unused-result -Wno-strict-overflow -Wno-strict-aliasing -Wvla-extension -Wsuggest-override -Wnewline-eof -Winconsistent-missing-override -Winconsistent-missing-destructor-override -Wno-pass-failed -Wno-error=pedantic -Wno-error=old-style-cast -Wno-error=inconsistent-missing-override -Wno-error=inconsistent-missing-destructor-override -Wconstant-conversion -Wno-invalid-partial-specialization -Wno-missing-braces -Qunused-arguments -fcolor-diagnostics -faligned-new -Wno-unused-but-set-variable -fno-math-errno -fno-trapping-math -Werror=format -DUSE_MPS -Wno-unused-private-field -Wno-missing-braces, LAPACK_INFO=accelerate, TORCH_VERSION=2.2.1, USE_CUDA=0, USE_CUDNN=OFF, USE_EIGEN_FOR_BLAS=ON, USE_EXCEPTION_PTR=1, USE_GFLAGS=OFF, USE_GLOG=OFF, USE_MKL=OFF, USE_MKLDNN=OFF, USE_MPI=OFF, USE_NCCL=OFF, USE_NNPACK=ON, USE_OPENMP=OFF, USE_ROCM=OFF, USE_ROCM_KERNEL_ASSERT=OFF, \n",
      "\n",
      "\u001b[32m[03/13 10:42:55 detectron2]: \u001b[0mEnvironment info:\n",
      "-------------------------------  -------------------------------------------------------------------------------------------------------------------------------------------------------------------------------------------------------------------------------------------------------------------------------------------------------------------------------------------------------------------------------------------------------------------------------------------------------------------------------------------------------------------------------------------------------------------------------------------------------------------------------------------------------------------------------------------------------------------------------------------------------------------------------------------------------\n",
      "sys.platform                     darwin\n",
      "Python                           3.9.18 | packaged by conda-forge | (main, Dec 23 2023, 16:35:41) [Clang 16.0.6 ]\n",
      "numpy                            1.26.4\n",
      "detectron2                       0.6 @/Users/giakhang/dev/work/sand_box/hope_to_public_net/detectron2/detectron2\n",
      "detectron2._C                    not built correctly: dlopen(/Users/giakhang/dev/work/sand_box/hope_to_public_net/detectron2/detectron2/_C.cpython-39-darwin.so, 0x0002): tried: '/opt/homebrew/opt/libomp/lib/_C.cpython-39-darwin.so' (no such file), '/_C.cpython-39-darwin.so' (no such file), '/Users/giakhang/dev/work/sand_box/hope_to_public_net/detectron2/detectron2/_C.cpython-39-darwin.so' (mach-o file, but is an incompatible architecture (have 'x86_64', need 'arm64')), '/System/Volumes/Preboot/Cryptexes/OS/Users/giakhang/dev/work/sand_box/hope_to_public_net/detectron2/detectron2/_C.cpython-39-darwin.so' (no such file), '/Users/giakhang/dev/work/sand_box/hope_to_public_net/detectron2/detectron2/_C.cpython-39-darwin.so' (mach-o file, but is an incompatible architecture (have 'x86_64', need 'arm64'))\n",
      "Compiler ($CXX)                  Apple clang version 14.0.3 (clang-1403.0.22.14.1)\n",
      "DETECTRON2_ENV_MODULE            <not set>\n",
      "PyTorch                          2.2.1 @/Users/giakhang/miniconda3/envs/hope_to_public_net/lib/python3.9/site-packages/torch\n",
      "PyTorch debug build              False\n",
      "torch._C._GLIBCXX_USE_CXX11_ABI  False\n",
      "GPU available                    No: torch.cuda.is_available() == False\n",
      "Pillow                           10.2.0\n",
      "torchvision                      0.17.1 @/Users/giakhang/miniconda3/envs/hope_to_public_net/lib/python3.9/site-packages/torchvision\n",
      "fvcore                           0.1.5.post20221221\n",
      "iopath                           0.1.9\n",
      "cv2                              4.9.0\n",
      "-------------------------------  -------------------------------------------------------------------------------------------------------------------------------------------------------------------------------------------------------------------------------------------------------------------------------------------------------------------------------------------------------------------------------------------------------------------------------------------------------------------------------------------------------------------------------------------------------------------------------------------------------------------------------------------------------------------------------------------------------------------------------------------------------------------------------------------------------\n",
      "PyTorch built with:\n",
      "  - GCC 4.2\n",
      "  - C++ Version: 201703\n",
      "  - clang 13.1.6\n",
      "  - LAPACK is enabled (usually provided by MKL)\n",
      "  - NNPACK is enabled\n",
      "  - CPU capability usage: NO AVX\n",
      "  - Build settings: BLAS_INFO=accelerate, BUILD_TYPE=Release, CXX_COMPILER=/Applications/Xcode_13.3.1.app/Contents/Developer/Toolchains/XcodeDefault.xctoolchain/usr/bin/clang++, CXX_FLAGS= -fvisibility-inlines-hidden -DUSE_PTHREADPOOL -DNDEBUG -DUSE_KINETO -DLIBKINETO_NOCUPTI -DLIBKINETO_NOROCTRACER -DUSE_PYTORCH_QNNPACK -DUSE_XNNPACK -DUSE_PYTORCH_METAL_EXPORT -DSYMBOLICATE_MOBILE_DEBUG_HANDLE -DUSE_COREML_DELEGATE -O2 -fPIC -Wall -Wextra -Werror=return-type -Werror=non-virtual-dtor -Werror=braced-scalar-init -Werror=range-loop-construct -Werror=bool-operation -Wnarrowing -Wno-missing-field-initializers -Wno-type-limits -Wno-array-bounds -Wno-unknown-pragmas -Wno-unused-parameter -Wno-unused-function -Wno-unused-result -Wno-strict-overflow -Wno-strict-aliasing -Wvla-extension -Wsuggest-override -Wnewline-eof -Winconsistent-missing-override -Winconsistent-missing-destructor-override -Wno-pass-failed -Wno-error=pedantic -Wno-error=old-style-cast -Wno-error=inconsistent-missing-override -Wno-error=inconsistent-missing-destructor-override -Wconstant-conversion -Wno-invalid-partial-specialization -Wno-missing-braces -Qunused-arguments -fcolor-diagnostics -faligned-new -Wno-unused-but-set-variable -fno-math-errno -fno-trapping-math -Werror=format -DUSE_MPS -Wno-unused-private-field -Wno-missing-braces, LAPACK_INFO=accelerate, TORCH_VERSION=2.2.1, USE_CUDA=0, USE_CUDNN=OFF, USE_EIGEN_FOR_BLAS=ON, USE_EXCEPTION_PTR=1, USE_GFLAGS=OFF, USE_GLOG=OFF, USE_MKL=OFF, USE_MKLDNN=OFF, USE_MPI=OFF, USE_NCCL=OFF, USE_NNPACK=ON, USE_OPENMP=OFF, USE_ROCM=OFF, USE_ROCM_KERNEL_ASSERT=OFF, \n",
      "\n",
      "\u001b[32m[03/13 10:42:55 detectron2]: \u001b[0mCommand line arguments: Args()\n",
      "\u001b[32m[03/13 10:42:55 detectron2]: \u001b[0mCommand line arguments: Args()\n",
      "\u001b[32m[03/13 10:42:55 detectron2]: \u001b[0mContents of args.config_file=yolof_mask/configs/yolof/yolof_resnet_50_1x.py:\n",
      "\u001b[38;5;204mfrom\u001b[39m\u001b[38;5;15m \u001b[39m\u001b[38;5;15mdetectron2\u001b[39m\u001b[38;5;15m.\u001b[39m\u001b[38;5;15mmodel_zoo\u001b[39m\u001b[38;5;15m.\u001b[39m\u001b[38;5;15mconfigs\u001b[39m\u001b[38;5;15m.\u001b[39m\u001b[38;5;15mcommon\u001b[39m\u001b[38;5;15m.\u001b[39m\u001b[38;5;15mtrain\u001b[39m\u001b[38;5;15m \u001b[39m\u001b[38;5;204mimport\u001b[39m\u001b[38;5;15m \u001b[39m\u001b[38;5;15mtrain\u001b[39m\n",
      "\n",
      "\u001b[38;5;204mfrom\u001b[39m\u001b[38;5;15m \u001b[39m\u001b[38;5;15myolof_mask\u001b[39m\u001b[38;5;15m.\u001b[39m\u001b[38;5;15mconfigs\u001b[39m\u001b[38;5;15m.\u001b[39m\u001b[38;5;15myolof\u001b[39m\u001b[38;5;15m.\u001b[39m\u001b[38;5;15mbase_yolof\u001b[39m\u001b[38;5;15m \u001b[39m\u001b[38;5;204mimport\u001b[39m\u001b[38;5;15m \u001b[39m\u001b[38;5;15mmodel\u001b[39m\n",
      "\u001b[38;5;204mfrom\u001b[39m\u001b[38;5;15m \u001b[39m\u001b[38;5;15myolof_mask\u001b[39m\u001b[38;5;15m.\u001b[39m\u001b[38;5;15mconfigs\u001b[39m\u001b[38;5;15m.\u001b[39m\u001b[38;5;15myolof\u001b[39m\u001b[38;5;15m.\u001b[39m\u001b[38;5;15moptim\u001b[39m\u001b[38;5;15m \u001b[39m\u001b[38;5;204mimport\u001b[39m\u001b[38;5;15m \u001b[39m\u001b[38;5;15mYOLOF_SGD\u001b[39m\u001b[38;5;15m \u001b[39m\u001b[38;5;81mas\u001b[39m\u001b[38;5;15m \u001b[39m\u001b[38;5;15moptimizer\u001b[39m\n",
      "\u001b[38;5;204mfrom\u001b[39m\u001b[38;5;15m \u001b[39m\u001b[38;5;15myolof_mask\u001b[39m\u001b[38;5;15m.\u001b[39m\u001b[38;5;15mconfigs\u001b[39m\u001b[38;5;15m.\u001b[39m\u001b[38;5;15myolof\u001b[39m\u001b[38;5;15m.\u001b[39m\u001b[38;5;15mcoco_schedule\u001b[39m\u001b[38;5;15m \u001b[39m\u001b[38;5;204mimport\u001b[39m\u001b[38;5;15m \u001b[39m\u001b[38;5;15mlr_multiplier_1x\u001b[39m\u001b[38;5;15m \u001b[39m\u001b[38;5;81mas\u001b[39m\u001b[38;5;15m \u001b[39m\u001b[38;5;15mlr_multiplier\u001b[39m\n",
      "\u001b[38;5;204mfrom\u001b[39m\u001b[38;5;15m \u001b[39m\u001b[38;5;15myolof_mask\u001b[39m\u001b[38;5;15m.\u001b[39m\u001b[38;5;15mconfigs\u001b[39m\u001b[38;5;15m.\u001b[39m\u001b[38;5;15myolof\u001b[39m\u001b[38;5;15m.\u001b[39m\u001b[38;5;15mcoco_dataloader\u001b[39m\u001b[38;5;15m \u001b[39m\u001b[38;5;204mimport\u001b[39m\u001b[38;5;15m \u001b[39m\u001b[38;5;15mdataloader\u001b[39m\n",
      "\n",
      "\u001b[38;5;15mdataloader\u001b[39m\u001b[38;5;204m.\u001b[39m\u001b[38;5;15mtrain\u001b[39m\u001b[38;5;204m.\u001b[39m\u001b[38;5;15mmapper\u001b[39m\u001b[38;5;204m.\u001b[39m\u001b[38;5;15muse_instance_mask\u001b[39m\u001b[38;5;15m \u001b[39m\u001b[38;5;204m=\u001b[39m\u001b[38;5;15m \u001b[39m\u001b[38;5;81mFalse\u001b[39m\n",
      "\n",
      "\u001b[38;5;15mmodel\u001b[39m\u001b[38;5;204m.\u001b[39m\u001b[38;5;15mbackbone\u001b[39m\u001b[38;5;204m.\u001b[39m\u001b[38;5;15mfreeze_at\u001b[39m\u001b[38;5;15m \u001b[39m\u001b[38;5;204m=\u001b[39m\u001b[38;5;15m \u001b[39m\u001b[38;5;141m2\u001b[39m\n",
      "\n",
      "\u001b[38;5;15mtrain\u001b[39m\u001b[38;5;15m[\u001b[39m\u001b[38;5;186m'\u001b[39m\u001b[38;5;186minit_checkpoint\u001b[39m\u001b[38;5;186m'\u001b[39m\u001b[38;5;15m]\u001b[39m\u001b[38;5;15m \u001b[39m\u001b[38;5;204m=\u001b[39m\u001b[38;5;15m \u001b[39m\u001b[38;5;186m\"\u001b[39m\u001b[38;5;186mdetectron2://ImageNetPretrained/MSRA/R-50.pkl\u001b[39m\u001b[38;5;186m\"\u001b[39m\n",
      "\u001b[38;5;15mtrain\u001b[39m\u001b[38;5;15m[\u001b[39m\u001b[38;5;186m'\u001b[39m\u001b[38;5;186mmax_iter\u001b[39m\u001b[38;5;186m'\u001b[39m\u001b[38;5;15m]\u001b[39m\u001b[38;5;15m \u001b[39m\u001b[38;5;204m=\u001b[39m\u001b[38;5;15m \u001b[39m\u001b[38;5;141m22500\u001b[39m\n",
      "\n",
      "\u001b[32m[03/13 10:42:55 detectron2]: \u001b[0mContents of args.config_file=yolof_mask/configs/yolof/yolof_resnet_50_1x.py:\n",
      "\u001b[38;5;204mfrom\u001b[39m\u001b[38;5;15m \u001b[39m\u001b[38;5;15mdetectron2\u001b[39m\u001b[38;5;15m.\u001b[39m\u001b[38;5;15mmodel_zoo\u001b[39m\u001b[38;5;15m.\u001b[39m\u001b[38;5;15mconfigs\u001b[39m\u001b[38;5;15m.\u001b[39m\u001b[38;5;15mcommon\u001b[39m\u001b[38;5;15m.\u001b[39m\u001b[38;5;15mtrain\u001b[39m\u001b[38;5;15m \u001b[39m\u001b[38;5;204mimport\u001b[39m\u001b[38;5;15m \u001b[39m\u001b[38;5;15mtrain\u001b[39m\n",
      "\n",
      "\u001b[38;5;204mfrom\u001b[39m\u001b[38;5;15m \u001b[39m\u001b[38;5;15myolof_mask\u001b[39m\u001b[38;5;15m.\u001b[39m\u001b[38;5;15mconfigs\u001b[39m\u001b[38;5;15m.\u001b[39m\u001b[38;5;15myolof\u001b[39m\u001b[38;5;15m.\u001b[39m\u001b[38;5;15mbase_yolof\u001b[39m\u001b[38;5;15m \u001b[39m\u001b[38;5;204mimport\u001b[39m\u001b[38;5;15m \u001b[39m\u001b[38;5;15mmodel\u001b[39m\n",
      "\u001b[38;5;204mfrom\u001b[39m\u001b[38;5;15m \u001b[39m\u001b[38;5;15myolof_mask\u001b[39m\u001b[38;5;15m.\u001b[39m\u001b[38;5;15mconfigs\u001b[39m\u001b[38;5;15m.\u001b[39m\u001b[38;5;15myolof\u001b[39m\u001b[38;5;15m.\u001b[39m\u001b[38;5;15moptim\u001b[39m\u001b[38;5;15m \u001b[39m\u001b[38;5;204mimport\u001b[39m\u001b[38;5;15m \u001b[39m\u001b[38;5;15mYOLOF_SGD\u001b[39m\u001b[38;5;15m \u001b[39m\u001b[38;5;81mas\u001b[39m\u001b[38;5;15m \u001b[39m\u001b[38;5;15moptimizer\u001b[39m\n",
      "\u001b[38;5;204mfrom\u001b[39m\u001b[38;5;15m \u001b[39m\u001b[38;5;15myolof_mask\u001b[39m\u001b[38;5;15m.\u001b[39m\u001b[38;5;15mconfigs\u001b[39m\u001b[38;5;15m.\u001b[39m\u001b[38;5;15myolof\u001b[39m\u001b[38;5;15m.\u001b[39m\u001b[38;5;15mcoco_schedule\u001b[39m\u001b[38;5;15m \u001b[39m\u001b[38;5;204mimport\u001b[39m\u001b[38;5;15m \u001b[39m\u001b[38;5;15mlr_multiplier_1x\u001b[39m\u001b[38;5;15m \u001b[39m\u001b[38;5;81mas\u001b[39m\u001b[38;5;15m \u001b[39m\u001b[38;5;15mlr_multiplier\u001b[39m\n",
      "\u001b[38;5;204mfrom\u001b[39m\u001b[38;5;15m \u001b[39m\u001b[38;5;15myolof_mask\u001b[39m\u001b[38;5;15m.\u001b[39m\u001b[38;5;15mconfigs\u001b[39m\u001b[38;5;15m.\u001b[39m\u001b[38;5;15myolof\u001b[39m\u001b[38;5;15m.\u001b[39m\u001b[38;5;15mcoco_dataloader\u001b[39m\u001b[38;5;15m \u001b[39m\u001b[38;5;204mimport\u001b[39m\u001b[38;5;15m \u001b[39m\u001b[38;5;15mdataloader\u001b[39m\n",
      "\n",
      "\u001b[38;5;15mdataloader\u001b[39m\u001b[38;5;204m.\u001b[39m\u001b[38;5;15mtrain\u001b[39m\u001b[38;5;204m.\u001b[39m\u001b[38;5;15mmapper\u001b[39m\u001b[38;5;204m.\u001b[39m\u001b[38;5;15muse_instance_mask\u001b[39m\u001b[38;5;15m \u001b[39m\u001b[38;5;204m=\u001b[39m\u001b[38;5;15m \u001b[39m\u001b[38;5;81mFalse\u001b[39m\n",
      "\n",
      "\u001b[38;5;15mmodel\u001b[39m\u001b[38;5;204m.\u001b[39m\u001b[38;5;15mbackbone\u001b[39m\u001b[38;5;204m.\u001b[39m\u001b[38;5;15mfreeze_at\u001b[39m\u001b[38;5;15m \u001b[39m\u001b[38;5;204m=\u001b[39m\u001b[38;5;15m \u001b[39m\u001b[38;5;141m2\u001b[39m\n",
      "\n",
      "\u001b[38;5;15mtrain\u001b[39m\u001b[38;5;15m[\u001b[39m\u001b[38;5;186m'\u001b[39m\u001b[38;5;186minit_checkpoint\u001b[39m\u001b[38;5;186m'\u001b[39m\u001b[38;5;15m]\u001b[39m\u001b[38;5;15m \u001b[39m\u001b[38;5;204m=\u001b[39m\u001b[38;5;15m \u001b[39m\u001b[38;5;186m\"\u001b[39m\u001b[38;5;186mdetectron2://ImageNetPretrained/MSRA/R-50.pkl\u001b[39m\u001b[38;5;186m\"\u001b[39m\n",
      "\u001b[38;5;15mtrain\u001b[39m\u001b[38;5;15m[\u001b[39m\u001b[38;5;186m'\u001b[39m\u001b[38;5;186mmax_iter\u001b[39m\u001b[38;5;186m'\u001b[39m\u001b[38;5;15m]\u001b[39m\u001b[38;5;15m \u001b[39m\u001b[38;5;204m=\u001b[39m\u001b[38;5;15m \u001b[39m\u001b[38;5;141m22500\u001b[39m\n",
      "\n",
      "\u001b[32m[03/13 10:42:55 detectron2]: \u001b[0mFull config saved to ./output/config.yaml\n",
      "\u001b[32m[03/13 10:42:55 detectron2]: \u001b[0mFull config saved to ./output/config.yaml\n",
      "\u001b[32m[03/13 10:42:55 d2.utils.env]: \u001b[0mUsing a generated random seed 56058059\n",
      "\u001b[32m[03/13 10:42:55 d2.utils.env]: \u001b[0mUsing a generated random seed 56058059\n"
     ]
    }
   ],
   "source": [
    "from detectron2.engine import default_setup\n",
    "\n",
    "default_setup(cfg, args)"
   ]
  },
  {
   "cell_type": "code",
   "execution_count": 6,
   "id": "dbc0b906-76a6-4d4b-b926-96c2e67701a5",
   "metadata": {},
   "outputs": [
    {
     "name": "stdout",
     "output_type": "stream",
     "text": [
      "\u001b[32m[03/13 10:42:56 detectron2]: \u001b[0mModel:\n",
      "YOLOF(\n",
      "  (backbone): ResNet(\n",
      "    (stem): BasicStem(\n",
      "      (conv1): Conv2d(\n",
      "        3, 64, kernel_size=(7, 7), stride=(2, 2), padding=(3, 3), bias=False\n",
      "        (norm): FrozenBatchNorm2d(num_features=64, eps=1e-05)\n",
      "      )\n",
      "    )\n",
      "    (res2): Sequential(\n",
      "      (0): BottleneckBlock(\n",
      "        (shortcut): Conv2d(\n",
      "          64, 256, kernel_size=(1, 1), stride=(1, 1), bias=False\n",
      "          (norm): FrozenBatchNorm2d(num_features=256, eps=1e-05)\n",
      "        )\n",
      "        (conv1): Conv2d(\n",
      "          64, 64, kernel_size=(1, 1), stride=(1, 1), bias=False\n",
      "          (norm): FrozenBatchNorm2d(num_features=64, eps=1e-05)\n",
      "        )\n",
      "        (conv2): Conv2d(\n",
      "          64, 64, kernel_size=(3, 3), stride=(1, 1), padding=(1, 1), bias=False\n",
      "          (norm): FrozenBatchNorm2d(num_features=64, eps=1e-05)\n",
      "        )\n",
      "        (conv3): Conv2d(\n",
      "          64, 256, kernel_size=(1, 1), stride=(1, 1), bias=False\n",
      "          (norm): FrozenBatchNorm2d(num_features=256, eps=1e-05)\n",
      "        )\n",
      "      )\n",
      "      (1): BottleneckBlock(\n",
      "        (conv1): Conv2d(\n",
      "          256, 64, kernel_size=(1, 1), stride=(1, 1), bias=False\n",
      "          (norm): FrozenBatchNorm2d(num_features=64, eps=1e-05)\n",
      "        )\n",
      "        (conv2): Conv2d(\n",
      "          64, 64, kernel_size=(3, 3), stride=(1, 1), padding=(1, 1), bias=False\n",
      "          (norm): FrozenBatchNorm2d(num_features=64, eps=1e-05)\n",
      "        )\n",
      "        (conv3): Conv2d(\n",
      "          64, 256, kernel_size=(1, 1), stride=(1, 1), bias=False\n",
      "          (norm): FrozenBatchNorm2d(num_features=256, eps=1e-05)\n",
      "        )\n",
      "      )\n",
      "      (2): BottleneckBlock(\n",
      "        (conv1): Conv2d(\n",
      "          256, 64, kernel_size=(1, 1), stride=(1, 1), bias=False\n",
      "          (norm): FrozenBatchNorm2d(num_features=64, eps=1e-05)\n",
      "        )\n",
      "        (conv2): Conv2d(\n",
      "          64, 64, kernel_size=(3, 3), stride=(1, 1), padding=(1, 1), bias=False\n",
      "          (norm): FrozenBatchNorm2d(num_features=64, eps=1e-05)\n",
      "        )\n",
      "        (conv3): Conv2d(\n",
      "          64, 256, kernel_size=(1, 1), stride=(1, 1), bias=False\n",
      "          (norm): FrozenBatchNorm2d(num_features=256, eps=1e-05)\n",
      "        )\n",
      "      )\n",
      "    )\n",
      "    (res3): Sequential(\n",
      "      (0): BottleneckBlock(\n",
      "        (shortcut): Conv2d(\n",
      "          256, 512, kernel_size=(1, 1), stride=(2, 2), bias=False\n",
      "          (norm): FrozenBatchNorm2d(num_features=512, eps=1e-05)\n",
      "        )\n",
      "        (conv1): Conv2d(\n",
      "          256, 128, kernel_size=(1, 1), stride=(2, 2), bias=False\n",
      "          (norm): FrozenBatchNorm2d(num_features=128, eps=1e-05)\n",
      "        )\n",
      "        (conv2): Conv2d(\n",
      "          128, 128, kernel_size=(3, 3), stride=(1, 1), padding=(1, 1), bias=False\n",
      "          (norm): FrozenBatchNorm2d(num_features=128, eps=1e-05)\n",
      "        )\n",
      "        (conv3): Conv2d(\n",
      "          128, 512, kernel_size=(1, 1), stride=(1, 1), bias=False\n",
      "          (norm): FrozenBatchNorm2d(num_features=512, eps=1e-05)\n",
      "        )\n",
      "      )\n",
      "      (1): BottleneckBlock(\n",
      "        (conv1): Conv2d(\n",
      "          512, 128, kernel_size=(1, 1), stride=(1, 1), bias=False\n",
      "          (norm): FrozenBatchNorm2d(num_features=128, eps=1e-05)\n",
      "        )\n",
      "        (conv2): Conv2d(\n",
      "          128, 128, kernel_size=(3, 3), stride=(1, 1), padding=(1, 1), bias=False\n",
      "          (norm): FrozenBatchNorm2d(num_features=128, eps=1e-05)\n",
      "        )\n",
      "        (conv3): Conv2d(\n",
      "          128, 512, kernel_size=(1, 1), stride=(1, 1), bias=False\n",
      "          (norm): FrozenBatchNorm2d(num_features=512, eps=1e-05)\n",
      "        )\n",
      "      )\n",
      "      (2): BottleneckBlock(\n",
      "        (conv1): Conv2d(\n",
      "          512, 128, kernel_size=(1, 1), stride=(1, 1), bias=False\n",
      "          (norm): FrozenBatchNorm2d(num_features=128, eps=1e-05)\n",
      "        )\n",
      "        (conv2): Conv2d(\n",
      "          128, 128, kernel_size=(3, 3), stride=(1, 1), padding=(1, 1), bias=False\n",
      "          (norm): FrozenBatchNorm2d(num_features=128, eps=1e-05)\n",
      "        )\n",
      "        (conv3): Conv2d(\n",
      "          128, 512, kernel_size=(1, 1), stride=(1, 1), bias=False\n",
      "          (norm): FrozenBatchNorm2d(num_features=512, eps=1e-05)\n",
      "        )\n",
      "      )\n",
      "      (3): BottleneckBlock(\n",
      "        (conv1): Conv2d(\n",
      "          512, 128, kernel_size=(1, 1), stride=(1, 1), bias=False\n",
      "          (norm): FrozenBatchNorm2d(num_features=128, eps=1e-05)\n",
      "        )\n",
      "        (conv2): Conv2d(\n",
      "          128, 128, kernel_size=(3, 3), stride=(1, 1), padding=(1, 1), bias=False\n",
      "          (norm): FrozenBatchNorm2d(num_features=128, eps=1e-05)\n",
      "        )\n",
      "        (conv3): Conv2d(\n",
      "          128, 512, kernel_size=(1, 1), stride=(1, 1), bias=False\n",
      "          (norm): FrozenBatchNorm2d(num_features=512, eps=1e-05)\n",
      "        )\n",
      "      )\n",
      "    )\n",
      "    (res4): Sequential(\n",
      "      (0): BottleneckBlock(\n",
      "        (shortcut): Conv2d(\n",
      "          512, 1024, kernel_size=(1, 1), stride=(2, 2), bias=False\n",
      "          (norm): FrozenBatchNorm2d(num_features=1024, eps=1e-05)\n",
      "        )\n",
      "        (conv1): Conv2d(\n",
      "          512, 256, kernel_size=(1, 1), stride=(2, 2), bias=False\n",
      "          (norm): FrozenBatchNorm2d(num_features=256, eps=1e-05)\n",
      "        )\n",
      "        (conv2): Conv2d(\n",
      "          256, 256, kernel_size=(3, 3), stride=(1, 1), padding=(1, 1), bias=False\n",
      "          (norm): FrozenBatchNorm2d(num_features=256, eps=1e-05)\n",
      "        )\n",
      "        (conv3): Conv2d(\n",
      "          256, 1024, kernel_size=(1, 1), stride=(1, 1), bias=False\n",
      "          (norm): FrozenBatchNorm2d(num_features=1024, eps=1e-05)\n",
      "        )\n",
      "      )\n",
      "      (1): BottleneckBlock(\n",
      "        (conv1): Conv2d(\n",
      "          1024, 256, kernel_size=(1, 1), stride=(1, 1), bias=False\n",
      "          (norm): FrozenBatchNorm2d(num_features=256, eps=1e-05)\n",
      "        )\n",
      "        (conv2): Conv2d(\n",
      "          256, 256, kernel_size=(3, 3), stride=(1, 1), padding=(1, 1), bias=False\n",
      "          (norm): FrozenBatchNorm2d(num_features=256, eps=1e-05)\n",
      "        )\n",
      "        (conv3): Conv2d(\n",
      "          256, 1024, kernel_size=(1, 1), stride=(1, 1), bias=False\n",
      "          (norm): FrozenBatchNorm2d(num_features=1024, eps=1e-05)\n",
      "        )\n",
      "      )\n",
      "      (2): BottleneckBlock(\n",
      "        (conv1): Conv2d(\n",
      "          1024, 256, kernel_size=(1, 1), stride=(1, 1), bias=False\n",
      "          (norm): FrozenBatchNorm2d(num_features=256, eps=1e-05)\n",
      "        )\n",
      "        (conv2): Conv2d(\n",
      "          256, 256, kernel_size=(3, 3), stride=(1, 1), padding=(1, 1), bias=False\n",
      "          (norm): FrozenBatchNorm2d(num_features=256, eps=1e-05)\n",
      "        )\n",
      "        (conv3): Conv2d(\n",
      "          256, 1024, kernel_size=(1, 1), stride=(1, 1), bias=False\n",
      "          (norm): FrozenBatchNorm2d(num_features=1024, eps=1e-05)\n",
      "        )\n",
      "      )\n",
      "      (3): BottleneckBlock(\n",
      "        (conv1): Conv2d(\n",
      "          1024, 256, kernel_size=(1, 1), stride=(1, 1), bias=False\n",
      "          (norm): FrozenBatchNorm2d(num_features=256, eps=1e-05)\n",
      "        )\n",
      "        (conv2): Conv2d(\n",
      "          256, 256, kernel_size=(3, 3), stride=(1, 1), padding=(1, 1), bias=False\n",
      "          (norm): FrozenBatchNorm2d(num_features=256, eps=1e-05)\n",
      "        )\n",
      "        (conv3): Conv2d(\n",
      "          256, 1024, kernel_size=(1, 1), stride=(1, 1), bias=False\n",
      "          (norm): FrozenBatchNorm2d(num_features=1024, eps=1e-05)\n",
      "        )\n",
      "      )\n",
      "      (4): BottleneckBlock(\n",
      "        (conv1): Conv2d(\n",
      "          1024, 256, kernel_size=(1, 1), stride=(1, 1), bias=False\n",
      "          (norm): FrozenBatchNorm2d(num_features=256, eps=1e-05)\n",
      "        )\n",
      "        (conv2): Conv2d(\n",
      "          256, 256, kernel_size=(3, 3), stride=(1, 1), padding=(1, 1), bias=False\n",
      "          (norm): FrozenBatchNorm2d(num_features=256, eps=1e-05)\n",
      "        )\n",
      "        (conv3): Conv2d(\n",
      "          256, 1024, kernel_size=(1, 1), stride=(1, 1), bias=False\n",
      "          (norm): FrozenBatchNorm2d(num_features=1024, eps=1e-05)\n",
      "        )\n",
      "      )\n",
      "      (5): BottleneckBlock(\n",
      "        (conv1): Conv2d(\n",
      "          1024, 256, kernel_size=(1, 1), stride=(1, 1), bias=False\n",
      "          (norm): FrozenBatchNorm2d(num_features=256, eps=1e-05)\n",
      "        )\n",
      "        (conv2): Conv2d(\n",
      "          256, 256, kernel_size=(3, 3), stride=(1, 1), padding=(1, 1), bias=False\n",
      "          (norm): FrozenBatchNorm2d(num_features=256, eps=1e-05)\n",
      "        )\n",
      "        (conv3): Conv2d(\n",
      "          256, 1024, kernel_size=(1, 1), stride=(1, 1), bias=False\n",
      "          (norm): FrozenBatchNorm2d(num_features=1024, eps=1e-05)\n",
      "        )\n",
      "      )\n",
      "    )\n",
      "    (res5): Sequential(\n",
      "      (0): BottleneckBlock(\n",
      "        (shortcut): Conv2d(\n",
      "          1024, 2048, kernel_size=(1, 1), stride=(2, 2), bias=False\n",
      "          (norm): FrozenBatchNorm2d(num_features=2048, eps=1e-05)\n",
      "        )\n",
      "        (conv1): Conv2d(\n",
      "          1024, 512, kernel_size=(1, 1), stride=(2, 2), bias=False\n",
      "          (norm): FrozenBatchNorm2d(num_features=512, eps=1e-05)\n",
      "        )\n",
      "        (conv2): Conv2d(\n",
      "          512, 512, kernel_size=(3, 3), stride=(1, 1), padding=(1, 1), bias=False\n",
      "          (norm): FrozenBatchNorm2d(num_features=512, eps=1e-05)\n",
      "        )\n",
      "        (conv3): Conv2d(\n",
      "          512, 2048, kernel_size=(1, 1), stride=(1, 1), bias=False\n",
      "          (norm): FrozenBatchNorm2d(num_features=2048, eps=1e-05)\n",
      "        )\n",
      "      )\n",
      "      (1): BottleneckBlock(\n",
      "        (conv1): Conv2d(\n",
      "          2048, 512, kernel_size=(1, 1), stride=(1, 1), bias=False\n",
      "          (norm): FrozenBatchNorm2d(num_features=512, eps=1e-05)\n",
      "        )\n",
      "        (conv2): Conv2d(\n",
      "          512, 512, kernel_size=(3, 3), stride=(1, 1), padding=(1, 1), bias=False\n",
      "          (norm): FrozenBatchNorm2d(num_features=512, eps=1e-05)\n",
      "        )\n",
      "        (conv3): Conv2d(\n",
      "          512, 2048, kernel_size=(1, 1), stride=(1, 1), bias=False\n",
      "          (norm): FrozenBatchNorm2d(num_features=2048, eps=1e-05)\n",
      "        )\n",
      "      )\n",
      "      (2): BottleneckBlock(\n",
      "        (conv1): Conv2d(\n",
      "          2048, 512, kernel_size=(1, 1), stride=(1, 1), bias=False\n",
      "          (norm): FrozenBatchNorm2d(num_features=512, eps=1e-05)\n",
      "        )\n",
      "        (conv2): Conv2d(\n",
      "          512, 512, kernel_size=(3, 3), stride=(1, 1), padding=(1, 1), bias=False\n",
      "          (norm): FrozenBatchNorm2d(num_features=512, eps=1e-05)\n",
      "        )\n",
      "        (conv3): Conv2d(\n",
      "          512, 2048, kernel_size=(1, 1), stride=(1, 1), bias=False\n",
      "          (norm): FrozenBatchNorm2d(num_features=2048, eps=1e-05)\n",
      "        )\n",
      "      )\n",
      "    )\n",
      "  )\n",
      "  (encoder): DilatedEncoder(\n",
      "    (lateral_conv): Conv2d(2048, 512, kernel_size=(1, 1), stride=(1, 1))\n",
      "    (lateral_norm): BatchNorm2d(512, eps=1e-05, momentum=0.1, affine=True, track_running_stats=True)\n",
      "    (fpn_conv): Conv2d(512, 512, kernel_size=(3, 3), stride=(1, 1), padding=(1, 1))\n",
      "    (fpn_norm): BatchNorm2d(512, eps=1e-05, momentum=0.1, affine=True, track_running_stats=True)\n",
      "    (dilated_encoder_blocks): Sequential(\n",
      "      (0): Bottleneck(\n",
      "        (conv1): Sequential(\n",
      "          (0): Conv2d(512, 128, kernel_size=(1, 1), stride=(1, 1))\n",
      "          (1): BatchNorm2d(128, eps=1e-05, momentum=0.1, affine=True, track_running_stats=True)\n",
      "          (2): ReLU(inplace=True)\n",
      "        )\n",
      "        (conv2): Sequential(\n",
      "          (0): Conv2d(128, 128, kernel_size=(3, 3), stride=(1, 1), padding=(2, 2), dilation=(2, 2))\n",
      "          (1): BatchNorm2d(128, eps=1e-05, momentum=0.1, affine=True, track_running_stats=True)\n",
      "          (2): ReLU(inplace=True)\n",
      "        )\n",
      "        (conv3): Sequential(\n",
      "          (0): Conv2d(128, 512, kernel_size=(1, 1), stride=(1, 1))\n",
      "          (1): BatchNorm2d(512, eps=1e-05, momentum=0.1, affine=True, track_running_stats=True)\n",
      "          (2): ReLU(inplace=True)\n",
      "        )\n",
      "      )\n",
      "      (1): Bottleneck(\n",
      "        (conv1): Sequential(\n",
      "          (0): Conv2d(512, 128, kernel_size=(1, 1), stride=(1, 1))\n",
      "          (1): BatchNorm2d(128, eps=1e-05, momentum=0.1, affine=True, track_running_stats=True)\n",
      "          (2): ReLU(inplace=True)\n",
      "        )\n",
      "        (conv2): Sequential(\n",
      "          (0): Conv2d(128, 128, kernel_size=(3, 3), stride=(1, 1), padding=(4, 4), dilation=(4, 4))\n",
      "          (1): BatchNorm2d(128, eps=1e-05, momentum=0.1, affine=True, track_running_stats=True)\n",
      "          (2): ReLU(inplace=True)\n",
      "        )\n",
      "        (conv3): Sequential(\n",
      "          (0): Conv2d(128, 512, kernel_size=(1, 1), stride=(1, 1))\n",
      "          (1): BatchNorm2d(512, eps=1e-05, momentum=0.1, affine=True, track_running_stats=True)\n",
      "          (2): ReLU(inplace=True)\n",
      "        )\n",
      "      )\n",
      "      (2): Bottleneck(\n",
      "        (conv1): Sequential(\n",
      "          (0): Conv2d(512, 128, kernel_size=(1, 1), stride=(1, 1))\n",
      "          (1): BatchNorm2d(128, eps=1e-05, momentum=0.1, affine=True, track_running_stats=True)\n",
      "          (2): ReLU(inplace=True)\n",
      "        )\n",
      "        (conv2): Sequential(\n",
      "          (0): Conv2d(128, 128, kernel_size=(3, 3), stride=(1, 1), padding=(6, 6), dilation=(6, 6))\n",
      "          (1): BatchNorm2d(128, eps=1e-05, momentum=0.1, affine=True, track_running_stats=True)\n",
      "          (2): ReLU(inplace=True)\n",
      "        )\n",
      "        (conv3): Sequential(\n",
      "          (0): Conv2d(128, 512, kernel_size=(1, 1), stride=(1, 1))\n",
      "          (1): BatchNorm2d(512, eps=1e-05, momentum=0.1, affine=True, track_running_stats=True)\n",
      "          (2): ReLU(inplace=True)\n",
      "        )\n",
      "      )\n",
      "      (3): Bottleneck(\n",
      "        (conv1): Sequential(\n",
      "          (0): Conv2d(512, 128, kernel_size=(1, 1), stride=(1, 1))\n",
      "          (1): BatchNorm2d(128, eps=1e-05, momentum=0.1, affine=True, track_running_stats=True)\n",
      "          (2): ReLU(inplace=True)\n",
      "        )\n",
      "        (conv2): Sequential(\n",
      "          (0): Conv2d(128, 128, kernel_size=(3, 3), stride=(1, 1), padding=(8, 8), dilation=(8, 8))\n",
      "          (1): BatchNorm2d(128, eps=1e-05, momentum=0.1, affine=True, track_running_stats=True)\n",
      "          (2): ReLU(inplace=True)\n",
      "        )\n",
      "        (conv3): Sequential(\n",
      "          (0): Conv2d(128, 512, kernel_size=(1, 1), stride=(1, 1))\n",
      "          (1): BatchNorm2d(512, eps=1e-05, momentum=0.1, affine=True, track_running_stats=True)\n",
      "          (2): ReLU(inplace=True)\n",
      "        )\n",
      "      )\n",
      "    )\n",
      "  )\n",
      "  (decoder): YOLOFDecoder(\n",
      "    (cls_subnet): Sequential(\n",
      "      (0): Conv2d(512, 512, kernel_size=(3, 3), stride=(1, 1), padding=(1, 1))\n",
      "      (1): BatchNorm2d(512, eps=1e-05, momentum=0.1, affine=True, track_running_stats=True)\n",
      "      (2): ReLU(inplace=True)\n",
      "      (3): Conv2d(512, 512, kernel_size=(3, 3), stride=(1, 1), padding=(1, 1))\n",
      "      (4): BatchNorm2d(512, eps=1e-05, momentum=0.1, affine=True, track_running_stats=True)\n",
      "      (5): ReLU(inplace=True)\n",
      "    )\n",
      "    (bbox_subnet): Sequential(\n",
      "      (0): Conv2d(512, 512, kernel_size=(3, 3), stride=(1, 1), padding=(1, 1))\n",
      "      (1): BatchNorm2d(512, eps=1e-05, momentum=0.1, affine=True, track_running_stats=True)\n",
      "      (2): ReLU(inplace=True)\n",
      "      (3): Conv2d(512, 512, kernel_size=(3, 3), stride=(1, 1), padding=(1, 1))\n",
      "      (4): BatchNorm2d(512, eps=1e-05, momentum=0.1, affine=True, track_running_stats=True)\n",
      "      (5): ReLU(inplace=True)\n",
      "      (6): Conv2d(512, 512, kernel_size=(3, 3), stride=(1, 1), padding=(1, 1))\n",
      "      (7): BatchNorm2d(512, eps=1e-05, momentum=0.1, affine=True, track_running_stats=True)\n",
      "      (8): ReLU(inplace=True)\n",
      "      (9): Conv2d(512, 512, kernel_size=(3, 3), stride=(1, 1), padding=(1, 1))\n",
      "      (10): BatchNorm2d(512, eps=1e-05, momentum=0.1, affine=True, track_running_stats=True)\n",
      "      (11): ReLU(inplace=True)\n",
      "    )\n",
      "    (cls_score): Conv2d(512, 400, kernel_size=(3, 3), stride=(1, 1), padding=(1, 1))\n",
      "    (bbox_pred): Conv2d(512, 20, kernel_size=(3, 3), stride=(1, 1), padding=(1, 1))\n",
      "    (object_pred): Conv2d(512, 5, kernel_size=(3, 3), stride=(1, 1), padding=(1, 1))\n",
      "  )\n",
      "  (anchor_generator): YOLOFAnchorGenerator(\n",
      "    (list_anchors): BufferList()\n",
      "  )\n",
      ")\n",
      "\u001b[32m[03/13 10:42:56 detectron2]: \u001b[0mModel:\n",
      "YOLOF(\n",
      "  (backbone): ResNet(\n",
      "    (stem): BasicStem(\n",
      "      (conv1): Conv2d(\n",
      "        3, 64, kernel_size=(7, 7), stride=(2, 2), padding=(3, 3), bias=False\n",
      "        (norm): FrozenBatchNorm2d(num_features=64, eps=1e-05)\n",
      "      )\n",
      "    )\n",
      "    (res2): Sequential(\n",
      "      (0): BottleneckBlock(\n",
      "        (shortcut): Conv2d(\n",
      "          64, 256, kernel_size=(1, 1), stride=(1, 1), bias=False\n",
      "          (norm): FrozenBatchNorm2d(num_features=256, eps=1e-05)\n",
      "        )\n",
      "        (conv1): Conv2d(\n",
      "          64, 64, kernel_size=(1, 1), stride=(1, 1), bias=False\n",
      "          (norm): FrozenBatchNorm2d(num_features=64, eps=1e-05)\n",
      "        )\n",
      "        (conv2): Conv2d(\n",
      "          64, 64, kernel_size=(3, 3), stride=(1, 1), padding=(1, 1), bias=False\n",
      "          (norm): FrozenBatchNorm2d(num_features=64, eps=1e-05)\n",
      "        )\n",
      "        (conv3): Conv2d(\n",
      "          64, 256, kernel_size=(1, 1), stride=(1, 1), bias=False\n",
      "          (norm): FrozenBatchNorm2d(num_features=256, eps=1e-05)\n",
      "        )\n",
      "      )\n",
      "      (1): BottleneckBlock(\n",
      "        (conv1): Conv2d(\n",
      "          256, 64, kernel_size=(1, 1), stride=(1, 1), bias=False\n",
      "          (norm): FrozenBatchNorm2d(num_features=64, eps=1e-05)\n",
      "        )\n",
      "        (conv2): Conv2d(\n",
      "          64, 64, kernel_size=(3, 3), stride=(1, 1), padding=(1, 1), bias=False\n",
      "          (norm): FrozenBatchNorm2d(num_features=64, eps=1e-05)\n",
      "        )\n",
      "        (conv3): Conv2d(\n",
      "          64, 256, kernel_size=(1, 1), stride=(1, 1), bias=False\n",
      "          (norm): FrozenBatchNorm2d(num_features=256, eps=1e-05)\n",
      "        )\n",
      "      )\n",
      "      (2): BottleneckBlock(\n",
      "        (conv1): Conv2d(\n",
      "          256, 64, kernel_size=(1, 1), stride=(1, 1), bias=False\n",
      "          (norm): FrozenBatchNorm2d(num_features=64, eps=1e-05)\n",
      "        )\n",
      "        (conv2): Conv2d(\n",
      "          64, 64, kernel_size=(3, 3), stride=(1, 1), padding=(1, 1), bias=False\n",
      "          (norm): FrozenBatchNorm2d(num_features=64, eps=1e-05)\n",
      "        )\n",
      "        (conv3): Conv2d(\n",
      "          64, 256, kernel_size=(1, 1), stride=(1, 1), bias=False\n",
      "          (norm): FrozenBatchNorm2d(num_features=256, eps=1e-05)\n",
      "        )\n",
      "      )\n",
      "    )\n",
      "    (res3): Sequential(\n",
      "      (0): BottleneckBlock(\n",
      "        (shortcut): Conv2d(\n",
      "          256, 512, kernel_size=(1, 1), stride=(2, 2), bias=False\n",
      "          (norm): FrozenBatchNorm2d(num_features=512, eps=1e-05)\n",
      "        )\n",
      "        (conv1): Conv2d(\n",
      "          256, 128, kernel_size=(1, 1), stride=(2, 2), bias=False\n",
      "          (norm): FrozenBatchNorm2d(num_features=128, eps=1e-05)\n",
      "        )\n",
      "        (conv2): Conv2d(\n",
      "          128, 128, kernel_size=(3, 3), stride=(1, 1), padding=(1, 1), bias=False\n",
      "          (norm): FrozenBatchNorm2d(num_features=128, eps=1e-05)\n",
      "        )\n",
      "        (conv3): Conv2d(\n",
      "          128, 512, kernel_size=(1, 1), stride=(1, 1), bias=False\n",
      "          (norm): FrozenBatchNorm2d(num_features=512, eps=1e-05)\n",
      "        )\n",
      "      )\n",
      "      (1): BottleneckBlock(\n",
      "        (conv1): Conv2d(\n",
      "          512, 128, kernel_size=(1, 1), stride=(1, 1), bias=False\n",
      "          (norm): FrozenBatchNorm2d(num_features=128, eps=1e-05)\n",
      "        )\n",
      "        (conv2): Conv2d(\n",
      "          128, 128, kernel_size=(3, 3), stride=(1, 1), padding=(1, 1), bias=False\n",
      "          (norm): FrozenBatchNorm2d(num_features=128, eps=1e-05)\n",
      "        )\n",
      "        (conv3): Conv2d(\n",
      "          128, 512, kernel_size=(1, 1), stride=(1, 1), bias=False\n",
      "          (norm): FrozenBatchNorm2d(num_features=512, eps=1e-05)\n",
      "        )\n",
      "      )\n",
      "      (2): BottleneckBlock(\n",
      "        (conv1): Conv2d(\n",
      "          512, 128, kernel_size=(1, 1), stride=(1, 1), bias=False\n",
      "          (norm): FrozenBatchNorm2d(num_features=128, eps=1e-05)\n",
      "        )\n",
      "        (conv2): Conv2d(\n",
      "          128, 128, kernel_size=(3, 3), stride=(1, 1), padding=(1, 1), bias=False\n",
      "          (norm): FrozenBatchNorm2d(num_features=128, eps=1e-05)\n",
      "        )\n",
      "        (conv3): Conv2d(\n",
      "          128, 512, kernel_size=(1, 1), stride=(1, 1), bias=False\n",
      "          (norm): FrozenBatchNorm2d(num_features=512, eps=1e-05)\n",
      "        )\n",
      "      )\n",
      "      (3): BottleneckBlock(\n",
      "        (conv1): Conv2d(\n",
      "          512, 128, kernel_size=(1, 1), stride=(1, 1), bias=False\n",
      "          (norm): FrozenBatchNorm2d(num_features=128, eps=1e-05)\n",
      "        )\n",
      "        (conv2): Conv2d(\n",
      "          128, 128, kernel_size=(3, 3), stride=(1, 1), padding=(1, 1), bias=False\n",
      "          (norm): FrozenBatchNorm2d(num_features=128, eps=1e-05)\n",
      "        )\n",
      "        (conv3): Conv2d(\n",
      "          128, 512, kernel_size=(1, 1), stride=(1, 1), bias=False\n",
      "          (norm): FrozenBatchNorm2d(num_features=512, eps=1e-05)\n",
      "        )\n",
      "      )\n",
      "    )\n",
      "    (res4): Sequential(\n",
      "      (0): BottleneckBlock(\n",
      "        (shortcut): Conv2d(\n",
      "          512, 1024, kernel_size=(1, 1), stride=(2, 2), bias=False\n",
      "          (norm): FrozenBatchNorm2d(num_features=1024, eps=1e-05)\n",
      "        )\n",
      "        (conv1): Conv2d(\n",
      "          512, 256, kernel_size=(1, 1), stride=(2, 2), bias=False\n",
      "          (norm): FrozenBatchNorm2d(num_features=256, eps=1e-05)\n",
      "        )\n",
      "        (conv2): Conv2d(\n",
      "          256, 256, kernel_size=(3, 3), stride=(1, 1), padding=(1, 1), bias=False\n",
      "          (norm): FrozenBatchNorm2d(num_features=256, eps=1e-05)\n",
      "        )\n",
      "        (conv3): Conv2d(\n",
      "          256, 1024, kernel_size=(1, 1), stride=(1, 1), bias=False\n",
      "          (norm): FrozenBatchNorm2d(num_features=1024, eps=1e-05)\n",
      "        )\n",
      "      )\n",
      "      (1): BottleneckBlock(\n",
      "        (conv1): Conv2d(\n",
      "          1024, 256, kernel_size=(1, 1), stride=(1, 1), bias=False\n",
      "          (norm): FrozenBatchNorm2d(num_features=256, eps=1e-05)\n",
      "        )\n",
      "        (conv2): Conv2d(\n",
      "          256, 256, kernel_size=(3, 3), stride=(1, 1), padding=(1, 1), bias=False\n",
      "          (norm): FrozenBatchNorm2d(num_features=256, eps=1e-05)\n",
      "        )\n",
      "        (conv3): Conv2d(\n",
      "          256, 1024, kernel_size=(1, 1), stride=(1, 1), bias=False\n",
      "          (norm): FrozenBatchNorm2d(num_features=1024, eps=1e-05)\n",
      "        )\n",
      "      )\n",
      "      (2): BottleneckBlock(\n",
      "        (conv1): Conv2d(\n",
      "          1024, 256, kernel_size=(1, 1), stride=(1, 1), bias=False\n",
      "          (norm): FrozenBatchNorm2d(num_features=256, eps=1e-05)\n",
      "        )\n",
      "        (conv2): Conv2d(\n",
      "          256, 256, kernel_size=(3, 3), stride=(1, 1), padding=(1, 1), bias=False\n",
      "          (norm): FrozenBatchNorm2d(num_features=256, eps=1e-05)\n",
      "        )\n",
      "        (conv3): Conv2d(\n",
      "          256, 1024, kernel_size=(1, 1), stride=(1, 1), bias=False\n",
      "          (norm): FrozenBatchNorm2d(num_features=1024, eps=1e-05)\n",
      "        )\n",
      "      )\n",
      "      (3): BottleneckBlock(\n",
      "        (conv1): Conv2d(\n",
      "          1024, 256, kernel_size=(1, 1), stride=(1, 1), bias=False\n",
      "          (norm): FrozenBatchNorm2d(num_features=256, eps=1e-05)\n",
      "        )\n",
      "        (conv2): Conv2d(\n",
      "          256, 256, kernel_size=(3, 3), stride=(1, 1), padding=(1, 1), bias=False\n",
      "          (norm): FrozenBatchNorm2d(num_features=256, eps=1e-05)\n",
      "        )\n",
      "        (conv3): Conv2d(\n",
      "          256, 1024, kernel_size=(1, 1), stride=(1, 1), bias=False\n",
      "          (norm): FrozenBatchNorm2d(num_features=1024, eps=1e-05)\n",
      "        )\n",
      "      )\n",
      "      (4): BottleneckBlock(\n",
      "        (conv1): Conv2d(\n",
      "          1024, 256, kernel_size=(1, 1), stride=(1, 1), bias=False\n",
      "          (norm): FrozenBatchNorm2d(num_features=256, eps=1e-05)\n",
      "        )\n",
      "        (conv2): Conv2d(\n",
      "          256, 256, kernel_size=(3, 3), stride=(1, 1), padding=(1, 1), bias=False\n",
      "          (norm): FrozenBatchNorm2d(num_features=256, eps=1e-05)\n",
      "        )\n",
      "        (conv3): Conv2d(\n",
      "          256, 1024, kernel_size=(1, 1), stride=(1, 1), bias=False\n",
      "          (norm): FrozenBatchNorm2d(num_features=1024, eps=1e-05)\n",
      "        )\n",
      "      )\n",
      "      (5): BottleneckBlock(\n",
      "        (conv1): Conv2d(\n",
      "          1024, 256, kernel_size=(1, 1), stride=(1, 1), bias=False\n",
      "          (norm): FrozenBatchNorm2d(num_features=256, eps=1e-05)\n",
      "        )\n",
      "        (conv2): Conv2d(\n",
      "          256, 256, kernel_size=(3, 3), stride=(1, 1), padding=(1, 1), bias=False\n",
      "          (norm): FrozenBatchNorm2d(num_features=256, eps=1e-05)\n",
      "        )\n",
      "        (conv3): Conv2d(\n",
      "          256, 1024, kernel_size=(1, 1), stride=(1, 1), bias=False\n",
      "          (norm): FrozenBatchNorm2d(num_features=1024, eps=1e-05)\n",
      "        )\n",
      "      )\n",
      "    )\n",
      "    (res5): Sequential(\n",
      "      (0): BottleneckBlock(\n",
      "        (shortcut): Conv2d(\n",
      "          1024, 2048, kernel_size=(1, 1), stride=(2, 2), bias=False\n",
      "          (norm): FrozenBatchNorm2d(num_features=2048, eps=1e-05)\n",
      "        )\n",
      "        (conv1): Conv2d(\n",
      "          1024, 512, kernel_size=(1, 1), stride=(2, 2), bias=False\n",
      "          (norm): FrozenBatchNorm2d(num_features=512, eps=1e-05)\n",
      "        )\n",
      "        (conv2): Conv2d(\n",
      "          512, 512, kernel_size=(3, 3), stride=(1, 1), padding=(1, 1), bias=False\n",
      "          (norm): FrozenBatchNorm2d(num_features=512, eps=1e-05)\n",
      "        )\n",
      "        (conv3): Conv2d(\n",
      "          512, 2048, kernel_size=(1, 1), stride=(1, 1), bias=False\n",
      "          (norm): FrozenBatchNorm2d(num_features=2048, eps=1e-05)\n",
      "        )\n",
      "      )\n",
      "      (1): BottleneckBlock(\n",
      "        (conv1): Conv2d(\n",
      "          2048, 512, kernel_size=(1, 1), stride=(1, 1), bias=False\n",
      "          (norm): FrozenBatchNorm2d(num_features=512, eps=1e-05)\n",
      "        )\n",
      "        (conv2): Conv2d(\n",
      "          512, 512, kernel_size=(3, 3), stride=(1, 1), padding=(1, 1), bias=False\n",
      "          (norm): FrozenBatchNorm2d(num_features=512, eps=1e-05)\n",
      "        )\n",
      "        (conv3): Conv2d(\n",
      "          512, 2048, kernel_size=(1, 1), stride=(1, 1), bias=False\n",
      "          (norm): FrozenBatchNorm2d(num_features=2048, eps=1e-05)\n",
      "        )\n",
      "      )\n",
      "      (2): BottleneckBlock(\n",
      "        (conv1): Conv2d(\n",
      "          2048, 512, kernel_size=(1, 1), stride=(1, 1), bias=False\n",
      "          (norm): FrozenBatchNorm2d(num_features=512, eps=1e-05)\n",
      "        )\n",
      "        (conv2): Conv2d(\n",
      "          512, 512, kernel_size=(3, 3), stride=(1, 1), padding=(1, 1), bias=False\n",
      "          (norm): FrozenBatchNorm2d(num_features=512, eps=1e-05)\n",
      "        )\n",
      "        (conv3): Conv2d(\n",
      "          512, 2048, kernel_size=(1, 1), stride=(1, 1), bias=False\n",
      "          (norm): FrozenBatchNorm2d(num_features=2048, eps=1e-05)\n",
      "        )\n",
      "      )\n",
      "    )\n",
      "  )\n",
      "  (encoder): DilatedEncoder(\n",
      "    (lateral_conv): Conv2d(2048, 512, kernel_size=(1, 1), stride=(1, 1))\n",
      "    (lateral_norm): BatchNorm2d(512, eps=1e-05, momentum=0.1, affine=True, track_running_stats=True)\n",
      "    (fpn_conv): Conv2d(512, 512, kernel_size=(3, 3), stride=(1, 1), padding=(1, 1))\n",
      "    (fpn_norm): BatchNorm2d(512, eps=1e-05, momentum=0.1, affine=True, track_running_stats=True)\n",
      "    (dilated_encoder_blocks): Sequential(\n",
      "      (0): Bottleneck(\n",
      "        (conv1): Sequential(\n",
      "          (0): Conv2d(512, 128, kernel_size=(1, 1), stride=(1, 1))\n",
      "          (1): BatchNorm2d(128, eps=1e-05, momentum=0.1, affine=True, track_running_stats=True)\n",
      "          (2): ReLU(inplace=True)\n",
      "        )\n",
      "        (conv2): Sequential(\n",
      "          (0): Conv2d(128, 128, kernel_size=(3, 3), stride=(1, 1), padding=(2, 2), dilation=(2, 2))\n",
      "          (1): BatchNorm2d(128, eps=1e-05, momentum=0.1, affine=True, track_running_stats=True)\n",
      "          (2): ReLU(inplace=True)\n",
      "        )\n",
      "        (conv3): Sequential(\n",
      "          (0): Conv2d(128, 512, kernel_size=(1, 1), stride=(1, 1))\n",
      "          (1): BatchNorm2d(512, eps=1e-05, momentum=0.1, affine=True, track_running_stats=True)\n",
      "          (2): ReLU(inplace=True)\n",
      "        )\n",
      "      )\n",
      "      (1): Bottleneck(\n",
      "        (conv1): Sequential(\n",
      "          (0): Conv2d(512, 128, kernel_size=(1, 1), stride=(1, 1))\n",
      "          (1): BatchNorm2d(128, eps=1e-05, momentum=0.1, affine=True, track_running_stats=True)\n",
      "          (2): ReLU(inplace=True)\n",
      "        )\n",
      "        (conv2): Sequential(\n",
      "          (0): Conv2d(128, 128, kernel_size=(3, 3), stride=(1, 1), padding=(4, 4), dilation=(4, 4))\n",
      "          (1): BatchNorm2d(128, eps=1e-05, momentum=0.1, affine=True, track_running_stats=True)\n",
      "          (2): ReLU(inplace=True)\n",
      "        )\n",
      "        (conv3): Sequential(\n",
      "          (0): Conv2d(128, 512, kernel_size=(1, 1), stride=(1, 1))\n",
      "          (1): BatchNorm2d(512, eps=1e-05, momentum=0.1, affine=True, track_running_stats=True)\n",
      "          (2): ReLU(inplace=True)\n",
      "        )\n",
      "      )\n",
      "      (2): Bottleneck(\n",
      "        (conv1): Sequential(\n",
      "          (0): Conv2d(512, 128, kernel_size=(1, 1), stride=(1, 1))\n",
      "          (1): BatchNorm2d(128, eps=1e-05, momentum=0.1, affine=True, track_running_stats=True)\n",
      "          (2): ReLU(inplace=True)\n",
      "        )\n",
      "        (conv2): Sequential(\n",
      "          (0): Conv2d(128, 128, kernel_size=(3, 3), stride=(1, 1), padding=(6, 6), dilation=(6, 6))\n",
      "          (1): BatchNorm2d(128, eps=1e-05, momentum=0.1, affine=True, track_running_stats=True)\n",
      "          (2): ReLU(inplace=True)\n",
      "        )\n",
      "        (conv3): Sequential(\n",
      "          (0): Conv2d(128, 512, kernel_size=(1, 1), stride=(1, 1))\n",
      "          (1): BatchNorm2d(512, eps=1e-05, momentum=0.1, affine=True, track_running_stats=True)\n",
      "          (2): ReLU(inplace=True)\n",
      "        )\n",
      "      )\n",
      "      (3): Bottleneck(\n",
      "        (conv1): Sequential(\n",
      "          (0): Conv2d(512, 128, kernel_size=(1, 1), stride=(1, 1))\n",
      "          (1): BatchNorm2d(128, eps=1e-05, momentum=0.1, affine=True, track_running_stats=True)\n",
      "          (2): ReLU(inplace=True)\n",
      "        )\n",
      "        (conv2): Sequential(\n",
      "          (0): Conv2d(128, 128, kernel_size=(3, 3), stride=(1, 1), padding=(8, 8), dilation=(8, 8))\n",
      "          (1): BatchNorm2d(128, eps=1e-05, momentum=0.1, affine=True, track_running_stats=True)\n",
      "          (2): ReLU(inplace=True)\n",
      "        )\n",
      "        (conv3): Sequential(\n",
      "          (0): Conv2d(128, 512, kernel_size=(1, 1), stride=(1, 1))\n",
      "          (1): BatchNorm2d(512, eps=1e-05, momentum=0.1, affine=True, track_running_stats=True)\n",
      "          (2): ReLU(inplace=True)\n",
      "        )\n",
      "      )\n",
      "    )\n",
      "  )\n",
      "  (decoder): YOLOFDecoder(\n",
      "    (cls_subnet): Sequential(\n",
      "      (0): Conv2d(512, 512, kernel_size=(3, 3), stride=(1, 1), padding=(1, 1))\n",
      "      (1): BatchNorm2d(512, eps=1e-05, momentum=0.1, affine=True, track_running_stats=True)\n",
      "      (2): ReLU(inplace=True)\n",
      "      (3): Conv2d(512, 512, kernel_size=(3, 3), stride=(1, 1), padding=(1, 1))\n",
      "      (4): BatchNorm2d(512, eps=1e-05, momentum=0.1, affine=True, track_running_stats=True)\n",
      "      (5): ReLU(inplace=True)\n",
      "    )\n",
      "    (bbox_subnet): Sequential(\n",
      "      (0): Conv2d(512, 512, kernel_size=(3, 3), stride=(1, 1), padding=(1, 1))\n",
      "      (1): BatchNorm2d(512, eps=1e-05, momentum=0.1, affine=True, track_running_stats=True)\n",
      "      (2): ReLU(inplace=True)\n",
      "      (3): Conv2d(512, 512, kernel_size=(3, 3), stride=(1, 1), padding=(1, 1))\n",
      "      (4): BatchNorm2d(512, eps=1e-05, momentum=0.1, affine=True, track_running_stats=True)\n",
      "      (5): ReLU(inplace=True)\n",
      "      (6): Conv2d(512, 512, kernel_size=(3, 3), stride=(1, 1), padding=(1, 1))\n",
      "      (7): BatchNorm2d(512, eps=1e-05, momentum=0.1, affine=True, track_running_stats=True)\n",
      "      (8): ReLU(inplace=True)\n",
      "      (9): Conv2d(512, 512, kernel_size=(3, 3), stride=(1, 1), padding=(1, 1))\n",
      "      (10): BatchNorm2d(512, eps=1e-05, momentum=0.1, affine=True, track_running_stats=True)\n",
      "      (11): ReLU(inplace=True)\n",
      "    )\n",
      "    (cls_score): Conv2d(512, 400, kernel_size=(3, 3), stride=(1, 1), padding=(1, 1))\n",
      "    (bbox_pred): Conv2d(512, 20, kernel_size=(3, 3), stride=(1, 1), padding=(1, 1))\n",
      "    (object_pred): Conv2d(512, 5, kernel_size=(3, 3), stride=(1, 1), padding=(1, 1))\n",
      "  )\n",
      "  (anchor_generator): YOLOFAnchorGenerator(\n",
      "    (list_anchors): BufferList()\n",
      "  )\n",
      ")\n",
      "\u001b[32m[03/13 10:42:56 d2.data.datasets.coco]: \u001b[0mLoaded 5984 images in COCO format from ./kitti/training_coco/train.json\n",
      "\u001b[32m[03/13 10:42:56 d2.data.datasets.coco]: \u001b[0mLoaded 5984 images in COCO format from ./kitti/training_coco/train.json\n",
      "\u001b[32m[03/13 10:42:57 d2.data.build]: \u001b[0mRemoved 0 images with no usable annotations. 5984 images left.\n",
      "\u001b[32m[03/13 10:42:57 d2.data.build]: \u001b[0mRemoved 0 images with no usable annotations. 5984 images left.\n",
      "\u001b[32m[03/13 10:42:57 d2.data.build]: \u001b[0mDistribution of instances among all 9 categories:\n",
      "\u001b[36m|   category    | #instances   |  category  | #instances   |  category  | #instances   |\n",
      "|:-------------:|:-------------|:----------:|:-------------|:----------:|:-------------|\n",
      "|    Cyclist    | 1311         |  DontCare  | 9027         |    Misc    | 759          |\n",
      "| Person_sitt.. | 184          |    Tram    | 405          |   Truck    | 872          |\n",
      "|      Van      | 2343         |    car     | 22873        |   person   | 3548         |\n",
      "|               |              |            |              |            |              |\n",
      "|     total     | 41322        |            |              |            |              |\u001b[0m\n",
      "\u001b[32m[03/13 10:42:57 d2.data.build]: \u001b[0mDistribution of instances among all 9 categories:\n",
      "\u001b[36m|   category    | #instances   |  category  | #instances   |  category  | #instances   |\n",
      "|:-------------:|:-------------|:----------:|:-------------|:----------:|:-------------|\n",
      "|    Cyclist    | 1311         |  DontCare  | 9027         |    Misc    | 759          |\n",
      "| Person_sitt.. | 184          |    Tram    | 405          |   Truck    | 872          |\n",
      "|      Van      | 2343         |    car     | 22873        |   person   | 3548         |\n",
      "|               |              |            |              |            |              |\n",
      "|     total     | 41322        |            |              |            |              |\u001b[0m\n",
      "\u001b[32m[03/13 10:42:57 d2.data.dataset_mapper]: \u001b[0m[DatasetMapper] Augmentations used in training: [ResizeShortestEdge(short_edge_length=[800], max_size=1333, sample_style='choice'), RandomFlip()]\n",
      "\u001b[32m[03/13 10:42:57 d2.data.dataset_mapper]: \u001b[0m[DatasetMapper] Augmentations used in training: [ResizeShortestEdge(short_edge_length=[800], max_size=1333, sample_style='choice'), RandomFlip()]\n",
      "\u001b[32m[03/13 10:42:57 d2.data.common]: \u001b[0mSerializing the dataset using: <class 'detectron2.data.common._TorchSerializedList'>\n",
      "\u001b[32m[03/13 10:42:57 d2.data.common]: \u001b[0mSerializing the dataset using: <class 'detectron2.data.common._TorchSerializedList'>\n",
      "\u001b[32m[03/13 10:42:57 d2.data.common]: \u001b[0mSerializing 5984 elements to byte tensors and concatenating them all ...\n",
      "\u001b[32m[03/13 10:42:57 d2.data.common]: \u001b[0mSerializing 5984 elements to byte tensors and concatenating them all ...\n",
      "\u001b[32m[03/13 10:42:57 d2.data.common]: \u001b[0mSerialized dataset takes 2.49 MiB\n",
      "\u001b[32m[03/13 10:42:57 d2.data.common]: \u001b[0mSerialized dataset takes 2.49 MiB\n",
      "\u001b[32m[03/13 10:42:57 d2.data.build]: \u001b[0mMaking batched data loader with batch_size=2\n",
      "\u001b[32m[03/13 10:42:57 d2.data.build]: \u001b[0mMaking batched data loader with batch_size=2\n",
      "\u001b[32m[03/13 10:42:57 d2.checkpoint.detection_checkpoint]: \u001b[0m[DetectionCheckpointer] Loading from detectron2://ImageNetPretrained/MSRA/R-50.pkl ...\n",
      "\u001b[32m[03/13 10:42:57 d2.checkpoint.detection_checkpoint]: \u001b[0m[DetectionCheckpointer] Loading from detectron2://ImageNetPretrained/MSRA/R-50.pkl ...\n",
      "\u001b[32m[03/13 10:42:57 fvcore.common.checkpoint]: \u001b[0m[Checkpointer] Loading from /Users/giakhang/.torch/iopath_cache/detectron2/ImageNetPretrained/MSRA/R-50.pkl ...\n",
      "\u001b[32m[03/13 10:42:57 d2.checkpoint.c2_model_loading]: \u001b[0mRenaming Caffe2 weights ......\n",
      "\u001b[32m[03/13 10:42:57 d2.checkpoint.c2_model_loading]: \u001b[0mRenaming Caffe2 weights ......\n",
      "\u001b[32m[03/13 10:42:57 d2.checkpoint.c2_model_loading]: \u001b[0mFollowing weights matched with submodule backbone - Total num: 54\n",
      "\u001b[32m[03/13 10:42:57 d2.checkpoint.c2_model_loading]: \u001b[0mFollowing weights matched with submodule backbone - Total num: 54\n",
      "\u001b[5m\u001b[31mWARNING\u001b[0m \u001b[32m[03/13 10:42:57 fvcore.common.checkpoint]: \u001b[0mSome model parameters or buffers are not found in the checkpoint:\n",
      "\u001b[34mdecoder.bbox_pred.{bias, weight}\u001b[0m\n",
      "\u001b[34mdecoder.bbox_subnet.0.{bias, weight}\u001b[0m\n",
      "\u001b[34mdecoder.bbox_subnet.1.{bias, running_mean, running_var, weight}\u001b[0m\n",
      "\u001b[34mdecoder.bbox_subnet.10.{bias, running_mean, running_var, weight}\u001b[0m\n",
      "\u001b[34mdecoder.bbox_subnet.3.{bias, weight}\u001b[0m\n",
      "\u001b[34mdecoder.bbox_subnet.4.{bias, running_mean, running_var, weight}\u001b[0m\n",
      "\u001b[34mdecoder.bbox_subnet.6.{bias, weight}\u001b[0m\n",
      "\u001b[34mdecoder.bbox_subnet.7.{bias, running_mean, running_var, weight}\u001b[0m\n",
      "\u001b[34mdecoder.bbox_subnet.9.{bias, weight}\u001b[0m\n",
      "\u001b[34mdecoder.cls_score.{bias, weight}\u001b[0m\n",
      "\u001b[34mdecoder.cls_subnet.0.{bias, weight}\u001b[0m\n",
      "\u001b[34mdecoder.cls_subnet.1.{bias, running_mean, running_var, weight}\u001b[0m\n",
      "\u001b[34mdecoder.cls_subnet.3.{bias, weight}\u001b[0m\n",
      "\u001b[34mdecoder.cls_subnet.4.{bias, running_mean, running_var, weight}\u001b[0m\n",
      "\u001b[34mdecoder.object_pred.{bias, weight}\u001b[0m\n",
      "\u001b[34mencoder.dilated_encoder_blocks.0.conv1.0.{bias, weight}\u001b[0m\n",
      "\u001b[34mencoder.dilated_encoder_blocks.0.conv1.1.{bias, running_mean, running_var, weight}\u001b[0m\n",
      "\u001b[34mencoder.dilated_encoder_blocks.0.conv2.0.{bias, weight}\u001b[0m\n",
      "\u001b[34mencoder.dilated_encoder_blocks.0.conv2.1.{bias, running_mean, running_var, weight}\u001b[0m\n",
      "\u001b[34mencoder.dilated_encoder_blocks.0.conv3.0.{bias, weight}\u001b[0m\n",
      "\u001b[34mencoder.dilated_encoder_blocks.0.conv3.1.{bias, running_mean, running_var, weight}\u001b[0m\n",
      "\u001b[34mencoder.dilated_encoder_blocks.1.conv1.0.{bias, weight}\u001b[0m\n",
      "\u001b[34mencoder.dilated_encoder_blocks.1.conv1.1.{bias, running_mean, running_var, weight}\u001b[0m\n",
      "\u001b[34mencoder.dilated_encoder_blocks.1.conv2.0.{bias, weight}\u001b[0m\n",
      "\u001b[34mencoder.dilated_encoder_blocks.1.conv2.1.{bias, running_mean, running_var, weight}\u001b[0m\n",
      "\u001b[34mencoder.dilated_encoder_blocks.1.conv3.0.{bias, weight}\u001b[0m\n",
      "\u001b[34mencoder.dilated_encoder_blocks.1.conv3.1.{bias, running_mean, running_var, weight}\u001b[0m\n",
      "\u001b[34mencoder.dilated_encoder_blocks.2.conv1.0.{bias, weight}\u001b[0m\n",
      "\u001b[34mencoder.dilated_encoder_blocks.2.conv1.1.{bias, running_mean, running_var, weight}\u001b[0m\n",
      "\u001b[34mencoder.dilated_encoder_blocks.2.conv2.0.{bias, weight}\u001b[0m\n",
      "\u001b[34mencoder.dilated_encoder_blocks.2.conv2.1.{bias, running_mean, running_var, weight}\u001b[0m\n",
      "\u001b[34mencoder.dilated_encoder_blocks.2.conv3.0.{bias, weight}\u001b[0m\n",
      "\u001b[34mencoder.dilated_encoder_blocks.2.conv3.1.{bias, running_mean, running_var, weight}\u001b[0m\n",
      "\u001b[34mencoder.dilated_encoder_blocks.3.conv1.0.{bias, weight}\u001b[0m\n",
      "\u001b[34mencoder.dilated_encoder_blocks.3.conv1.1.{bias, running_mean, running_var, weight}\u001b[0m\n",
      "\u001b[34mencoder.dilated_encoder_blocks.3.conv2.0.{bias, weight}\u001b[0m\n",
      "\u001b[34mencoder.dilated_encoder_blocks.3.conv2.1.{bias, running_mean, running_var, weight}\u001b[0m\n",
      "\u001b[34mencoder.dilated_encoder_blocks.3.conv3.0.{bias, weight}\u001b[0m\n",
      "\u001b[34mencoder.dilated_encoder_blocks.3.conv3.1.{bias, running_mean, running_var, weight}\u001b[0m\n",
      "\u001b[34mencoder.fpn_conv.{bias, weight}\u001b[0m\n",
      "\u001b[34mencoder.fpn_norm.{bias, running_mean, running_var, weight}\u001b[0m\n",
      "\u001b[34mencoder.lateral_conv.{bias, weight}\u001b[0m\n",
      "\u001b[34mencoder.lateral_norm.{bias, running_mean, running_var, weight}\u001b[0m\n",
      "\u001b[5m\u001b[31mWARNING\u001b[0m \u001b[32m[03/13 10:42:57 fvcore.common.checkpoint]: \u001b[0mThe checkpoint state_dict contains keys that are not used by the model:\n",
      "  \u001b[35mfc1000.{bias, weight}\u001b[0m\n",
      "  \u001b[35mstem.conv1.bias\u001b[0m\n",
      "\u001b[32m[03/13 10:42:57 d2.engine.train_loop]: \u001b[0mStarting training from iteration 0\n",
      "\u001b[32m[03/13 10:42:57 d2.engine.train_loop]: \u001b[0mStarting training from iteration 0\n"
     ]
    },
    {
     "name": "stderr",
     "output_type": "stream",
     "text": [
      "/Users/giakhang/miniconda3/envs/hope_to_public_net/lib/python3.9/site-packages/torch/functional.py:507: UserWarning: torch.meshgrid: in an upcoming release, it will be required to pass the indexing argument. (Triggered internally at /Users/runner/work/_temp/anaconda/conda-bld/pytorch_1708025539291/work/aten/src/ATen/native/TensorShape.cpp:3550.)\n",
      "  return _VF.meshgrid(tensors, **kwargs)  # type: ignore[attr-defined]\n"
     ]
    },
    {
     "name": "stdout",
     "output_type": "stream",
     "text": [
      "\u001b[32m[03/13 10:43:53 d2.utils.events]: \u001b[0m eta: 13:30:36  iter: 19  total_loss: 1.233  loss_cls: 0.4843  loss_box_reg: 0.7488    time: 2.1372  last_time: 3.9758  data_time: 0.1181  last_data_time: 0.0071   lr: 0.001599  \n",
      "\u001b[32m[03/13 10:43:53 d2.utils.events]: \u001b[0m eta: 13:30:36  iter: 19  total_loss: 1.233  loss_cls: 0.4843  loss_box_reg: 0.7488    time: 2.1372  last_time: 3.9758  data_time: 0.1181  last_data_time: 0.0071   lr: 0.001599  \n",
      "\u001b[32m[03/13 10:44:28 d2.utils.events]: \u001b[0m eta: 11:19:22  iter: 39  total_loss: 12.31  loss_cls: 0.7  loss_box_reg: 11.54    time: 1.9246  last_time: 2.7956  data_time: 0.0026  last_data_time: 0.0025   lr: 0.0031979  \n",
      "\u001b[32m[03/13 10:44:28 d2.utils.events]: \u001b[0m eta: 11:19:22  iter: 39  total_loss: 12.31  loss_cls: 0.7  loss_box_reg: 11.54    time: 1.9246  last_time: 2.7956  data_time: 0.0026  last_data_time: 0.0025   lr: 0.0031979  \n",
      "\u001b[32m[03/13 10:44:47 d2.engine.hooks]: \u001b[0mOverall training speed: 50 iterations in 0:01:32 (1.8438 s / it)\n",
      "\u001b[32m[03/13 10:44:47 d2.engine.hooks]: \u001b[0mOverall training speed: 50 iterations in 0:01:32 (1.8438 s / it)\n",
      "\u001b[32m[03/13 10:44:47 d2.engine.hooks]: \u001b[0mTotal training time: 0:01:32 (0:00:00 on hooks)\n",
      "\u001b[32m[03/13 10:44:47 d2.engine.hooks]: \u001b[0mTotal training time: 0:01:32 (0:00:00 on hooks)\n",
      "\u001b[32m[03/13 10:44:47 d2.utils.events]: \u001b[0m eta: 11:02:52  iter: 52  total_loss: 42.11  loss_cls: 1.242  loss_box_reg: 33.16    time: 1.8232  last_time: 1.0599  data_time: 0.0029  last_data_time: 0.0067   lr: 0.0041573  \n",
      "\u001b[32m[03/13 10:44:47 d2.utils.events]: \u001b[0m eta: 11:02:52  iter: 52  total_loss: 42.11  loss_cls: 1.242  loss_box_reg: 33.16    time: 1.8232  last_time: 1.0599  data_time: 0.0029  last_data_time: 0.0067   lr: 0.0041573  \n"
     ]
    },
    {
     "ename": "KeyboardInterrupt",
     "evalue": "",
     "output_type": "error",
     "traceback": [
      "\u001b[0;31m---------------------------------------------------------------------------\u001b[0m",
      "\u001b[0;31mKeyboardInterrupt\u001b[0m                         Traceback (most recent call last)",
      "Cell \u001b[0;32mIn[6], line 3\u001b[0m\n\u001b[1;32m      1\u001b[0m \u001b[38;5;28;01mfrom\u001b[39;00m \u001b[38;5;21;01mtools\u001b[39;00m\u001b[38;5;21;01m.\u001b[39;00m\u001b[38;5;21;01mlazyconfig_train_net\u001b[39;00m \u001b[38;5;28;01mimport\u001b[39;00m do_train\n\u001b[0;32m----> 3\u001b[0m \u001b[43mdo_train\u001b[49m\u001b[43m(\u001b[49m\u001b[43margs\u001b[49m\u001b[43m,\u001b[49m\u001b[43m \u001b[49m\u001b[43mcfg\u001b[49m\u001b[43m)\u001b[49m\n",
      "File \u001b[0;32m~/dev/work/sand_box/hope_to_public_net/detectron2/tools/lazyconfig_train_net.py:108\u001b[0m, in \u001b[0;36mdo_train\u001b[0;34m(args, cfg)\u001b[0m\n\u001b[1;32m    106\u001b[0m \u001b[38;5;28;01melse\u001b[39;00m:\n\u001b[1;32m    107\u001b[0m     start_iter \u001b[38;5;241m=\u001b[39m \u001b[38;5;241m0\u001b[39m\n\u001b[0;32m--> 108\u001b[0m \u001b[43mtrainer\u001b[49m\u001b[38;5;241;43m.\u001b[39;49m\u001b[43mtrain\u001b[49m\u001b[43m(\u001b[49m\u001b[43mstart_iter\u001b[49m\u001b[43m,\u001b[49m\u001b[43m \u001b[49m\u001b[43mcfg\u001b[49m\u001b[38;5;241;43m.\u001b[39;49m\u001b[43mtrain\u001b[49m\u001b[38;5;241;43m.\u001b[39;49m\u001b[43mmax_iter\u001b[49m\u001b[43m)\u001b[49m\n",
      "File \u001b[0;32m~/dev/work/sand_box/hope_to_public_net/detectron2/detectron2/engine/train_loop.py:155\u001b[0m, in \u001b[0;36mTrainerBase.train\u001b[0;34m(self, start_iter, max_iter)\u001b[0m\n\u001b[1;32m    153\u001b[0m \u001b[38;5;28;01mfor\u001b[39;00m \u001b[38;5;28mself\u001b[39m\u001b[38;5;241m.\u001b[39miter \u001b[38;5;129;01min\u001b[39;00m \u001b[38;5;28mrange\u001b[39m(start_iter, max_iter):\n\u001b[1;32m    154\u001b[0m     \u001b[38;5;28mself\u001b[39m\u001b[38;5;241m.\u001b[39mbefore_step()\n\u001b[0;32m--> 155\u001b[0m     \u001b[38;5;28;43mself\u001b[39;49m\u001b[38;5;241;43m.\u001b[39;49m\u001b[43mrun_step\u001b[49m\u001b[43m(\u001b[49m\u001b[43m)\u001b[49m\n\u001b[1;32m    156\u001b[0m     \u001b[38;5;28mself\u001b[39m\u001b[38;5;241m.\u001b[39mafter_step()\n\u001b[1;32m    157\u001b[0m \u001b[38;5;66;03m# self.iter == max_iter can be used by `after_train` to\u001b[39;00m\n\u001b[1;32m    158\u001b[0m \u001b[38;5;66;03m# tell whether the training successfully finished or failed\u001b[39;00m\n\u001b[1;32m    159\u001b[0m \u001b[38;5;66;03m# due to exceptions.\u001b[39;00m\n",
      "File \u001b[0;32m~/dev/work/sand_box/hope_to_public_net/detectron2/detectron2/engine/train_loop.py:332\u001b[0m, in \u001b[0;36mSimpleTrainer.run_step\u001b[0;34m(self)\u001b[0m\n\u001b[1;32m    328\u001b[0m     \u001b[38;5;28mself\u001b[39m\u001b[38;5;241m.\u001b[39mconcurrent_executor\u001b[38;5;241m.\u001b[39msubmit(\n\u001b[1;32m    329\u001b[0m         \u001b[38;5;28mself\u001b[39m\u001b[38;5;241m.\u001b[39m_write_metrics, loss_dict, data_time, \u001b[38;5;28miter\u001b[39m\u001b[38;5;241m=\u001b[39m\u001b[38;5;28mself\u001b[39m\u001b[38;5;241m.\u001b[39miter\n\u001b[1;32m    330\u001b[0m     )\n\u001b[1;32m    331\u001b[0m \u001b[38;5;28;01melse\u001b[39;00m:\n\u001b[0;32m--> 332\u001b[0m     \u001b[38;5;28;43mself\u001b[39;49m\u001b[38;5;241;43m.\u001b[39;49m\u001b[43m_write_metrics\u001b[49m\u001b[43m(\u001b[49m\u001b[43mloss_dict\u001b[49m\u001b[43m,\u001b[49m\u001b[43m \u001b[49m\u001b[43mdata_time\u001b[49m\u001b[43m)\u001b[49m\n\u001b[1;32m    334\u001b[0m \u001b[38;5;250m\u001b[39m\u001b[38;5;124;03m\"\"\"\u001b[39;00m\n\u001b[1;32m    335\u001b[0m \u001b[38;5;124;03mIf you need gradient clipping/scaling or other processing, you can\u001b[39;00m\n\u001b[1;32m    336\u001b[0m \u001b[38;5;124;03mwrap the optimizer with your custom `step()` method. But it is\u001b[39;00m\n\u001b[1;32m    337\u001b[0m \u001b[38;5;124;03msuboptimal as explained in https://arxiv.org/abs/2006.15704 Sec 3.2.4\u001b[39;00m\n\u001b[1;32m    338\u001b[0m \u001b[38;5;124;03m\"\"\"\u001b[39;00m\n\u001b[1;32m    339\u001b[0m \u001b[38;5;28mself\u001b[39m\u001b[38;5;241m.\u001b[39moptimizer\u001b[38;5;241m.\u001b[39mstep()\n",
      "File \u001b[0;32m~/dev/work/sand_box/hope_to_public_net/detectron2/detectron2/engine/train_loop.py:370\u001b[0m, in \u001b[0;36mSimpleTrainer._write_metrics\u001b[0;34m(self, loss_dict, data_time, prefix, iter)\u001b[0m\n\u001b[1;32m    368\u001b[0m \u001b[38;5;28;01mif\u001b[39;00m (\u001b[38;5;28miter\u001b[39m \u001b[38;5;241m+\u001b[39m \u001b[38;5;241m1\u001b[39m) \u001b[38;5;241m%\u001b[39m \u001b[38;5;28mself\u001b[39m\u001b[38;5;241m.\u001b[39mgather_metric_period \u001b[38;5;241m==\u001b[39m \u001b[38;5;241m0\u001b[39m:\n\u001b[1;32m    369\u001b[0m     \u001b[38;5;28;01mtry\u001b[39;00m:\n\u001b[0;32m--> 370\u001b[0m         \u001b[43mSimpleTrainer\u001b[49m\u001b[38;5;241;43m.\u001b[39;49m\u001b[43mwrite_metrics\u001b[49m\u001b[43m(\u001b[49m\u001b[43mloss_dict\u001b[49m\u001b[43m,\u001b[49m\u001b[43m \u001b[49m\u001b[43mdata_time\u001b[49m\u001b[43m,\u001b[49m\u001b[43m \u001b[49m\u001b[38;5;28;43miter\u001b[39;49m\u001b[43m,\u001b[49m\u001b[43m \u001b[49m\u001b[43mprefix\u001b[49m\u001b[43m)\u001b[49m\n\u001b[1;32m    371\u001b[0m     \u001b[38;5;28;01mexcept\u001b[39;00m \u001b[38;5;167;01mException\u001b[39;00m:\n\u001b[1;32m    372\u001b[0m         logger\u001b[38;5;241m.\u001b[39mexception(\u001b[38;5;124m\"\u001b[39m\u001b[38;5;124mException in writing metrics: \u001b[39m\u001b[38;5;124m\"\u001b[39m)\n",
      "File \u001b[0;32m~/dev/work/sand_box/hope_to_public_net/detectron2/detectron2/engine/train_loop.py:388\u001b[0m, in \u001b[0;36mSimpleTrainer.write_metrics\u001b[0;34m(loss_dict, data_time, cur_iter, prefix)\u001b[0m\n\u001b[1;32m    375\u001b[0m \u001b[38;5;129m@staticmethod\u001b[39m\n\u001b[1;32m    376\u001b[0m \u001b[38;5;28;01mdef\u001b[39;00m \u001b[38;5;21mwrite_metrics\u001b[39m(\n\u001b[1;32m    377\u001b[0m     loss_dict: Mapping[\u001b[38;5;28mstr\u001b[39m, torch\u001b[38;5;241m.\u001b[39mTensor],\n\u001b[0;32m   (...)\u001b[0m\n\u001b[1;32m    380\u001b[0m     prefix: \u001b[38;5;28mstr\u001b[39m \u001b[38;5;241m=\u001b[39m \u001b[38;5;124m\"\u001b[39m\u001b[38;5;124m\"\u001b[39m,\n\u001b[1;32m    381\u001b[0m ) \u001b[38;5;241m-\u001b[39m\u001b[38;5;241m>\u001b[39m \u001b[38;5;28;01mNone\u001b[39;00m:\n\u001b[1;32m    382\u001b[0m \u001b[38;5;250m    \u001b[39m\u001b[38;5;124;03m\"\"\"\u001b[39;00m\n\u001b[1;32m    383\u001b[0m \u001b[38;5;124;03m    Args:\u001b[39;00m\n\u001b[1;32m    384\u001b[0m \u001b[38;5;124;03m        loss_dict (dict): dict of scalar losses\u001b[39;00m\n\u001b[1;32m    385\u001b[0m \u001b[38;5;124;03m        data_time (float): time taken by the dataloader iteration\u001b[39;00m\n\u001b[1;32m    386\u001b[0m \u001b[38;5;124;03m        prefix (str): prefix for logging keys\u001b[39;00m\n\u001b[1;32m    387\u001b[0m \u001b[38;5;124;03m    \"\"\"\u001b[39;00m\n\u001b[0;32m--> 388\u001b[0m     metrics_dict \u001b[38;5;241m=\u001b[39m {k: v\u001b[38;5;241m.\u001b[39mdetach()\u001b[38;5;241m.\u001b[39mcpu()\u001b[38;5;241m.\u001b[39mitem() \u001b[38;5;28;01mfor\u001b[39;00m k, v \u001b[38;5;129;01min\u001b[39;00m loss_dict\u001b[38;5;241m.\u001b[39mitems()}\n\u001b[1;32m    389\u001b[0m     metrics_dict[\u001b[38;5;124m\"\u001b[39m\u001b[38;5;124mdata_time\u001b[39m\u001b[38;5;124m\"\u001b[39m] \u001b[38;5;241m=\u001b[39m data_time\n\u001b[1;32m    391\u001b[0m     storage \u001b[38;5;241m=\u001b[39m get_event_storage()\n",
      "File \u001b[0;32m~/dev/work/sand_box/hope_to_public_net/detectron2/detectron2/engine/train_loop.py:388\u001b[0m, in \u001b[0;36m<dictcomp>\u001b[0;34m(.0)\u001b[0m\n\u001b[1;32m    375\u001b[0m \u001b[38;5;129m@staticmethod\u001b[39m\n\u001b[1;32m    376\u001b[0m \u001b[38;5;28;01mdef\u001b[39;00m \u001b[38;5;21mwrite_metrics\u001b[39m(\n\u001b[1;32m    377\u001b[0m     loss_dict: Mapping[\u001b[38;5;28mstr\u001b[39m, torch\u001b[38;5;241m.\u001b[39mTensor],\n\u001b[0;32m   (...)\u001b[0m\n\u001b[1;32m    380\u001b[0m     prefix: \u001b[38;5;28mstr\u001b[39m \u001b[38;5;241m=\u001b[39m \u001b[38;5;124m\"\u001b[39m\u001b[38;5;124m\"\u001b[39m,\n\u001b[1;32m    381\u001b[0m ) \u001b[38;5;241m-\u001b[39m\u001b[38;5;241m>\u001b[39m \u001b[38;5;28;01mNone\u001b[39;00m:\n\u001b[1;32m    382\u001b[0m \u001b[38;5;250m    \u001b[39m\u001b[38;5;124;03m\"\"\"\u001b[39;00m\n\u001b[1;32m    383\u001b[0m \u001b[38;5;124;03m    Args:\u001b[39;00m\n\u001b[1;32m    384\u001b[0m \u001b[38;5;124;03m        loss_dict (dict): dict of scalar losses\u001b[39;00m\n\u001b[1;32m    385\u001b[0m \u001b[38;5;124;03m        data_time (float): time taken by the dataloader iteration\u001b[39;00m\n\u001b[1;32m    386\u001b[0m \u001b[38;5;124;03m        prefix (str): prefix for logging keys\u001b[39;00m\n\u001b[1;32m    387\u001b[0m \u001b[38;5;124;03m    \"\"\"\u001b[39;00m\n\u001b[0;32m--> 388\u001b[0m     metrics_dict \u001b[38;5;241m=\u001b[39m {k: \u001b[43mv\u001b[49m\u001b[38;5;241;43m.\u001b[39;49m\u001b[43mdetach\u001b[49m\u001b[43m(\u001b[49m\u001b[43m)\u001b[49m\u001b[38;5;241;43m.\u001b[39;49m\u001b[43mcpu\u001b[49m\u001b[43m(\u001b[49m\u001b[43m)\u001b[49m\u001b[38;5;241m.\u001b[39mitem() \u001b[38;5;28;01mfor\u001b[39;00m k, v \u001b[38;5;129;01min\u001b[39;00m loss_dict\u001b[38;5;241m.\u001b[39mitems()}\n\u001b[1;32m    389\u001b[0m     metrics_dict[\u001b[38;5;124m\"\u001b[39m\u001b[38;5;124mdata_time\u001b[39m\u001b[38;5;124m\"\u001b[39m] \u001b[38;5;241m=\u001b[39m data_time\n\u001b[1;32m    391\u001b[0m     storage \u001b[38;5;241m=\u001b[39m get_event_storage()\n",
      "\u001b[0;31mKeyboardInterrupt\u001b[0m: "
     ]
    }
   ],
   "source": [
    "from tools.lazyconfig_train_net import do_train\n",
    "\n",
    "do_train(args, cfg)"
   ]
  },
  {
   "cell_type": "code",
   "execution_count": null,
   "id": "65ebbb79-d10a-43e4-94a5-510ebb6f297a",
   "metadata": {},
   "outputs": [],
   "source": []
  },
  {
   "cell_type": "code",
   "execution_count": 7,
   "id": "6c8eb23e-7911-41b9-bafd-636527babea8",
   "metadata": {},
   "outputs": [
    {
     "data": {
      "text/plain": [
       "{'train': {'dataset': {'names': 'kitti_train', '_target_': <function get_detection_dataset_dicts at 0x14a4eb040>}, 'mapper': {'is_train': True, 'augmentations': [{'short_edge_length': [800], 'sample_style': 'choice', 'max_size': 1333, '_target_': <class 'detectron2.data.transforms.augmentation_impl.ResizeShortestEdge'>}, {'horizontal': True, '_target_': <class 'detectron2.data.transforms.augmentation_impl.RandomFlip'>}], 'image_format': 'BGR', 'use_instance_mask': False, '_target_': <class 'detectron2.data.dataset_mapper.DatasetMapper'>}, 'total_batch_size': 2, 'num_workers': 4, '_target_': <function build_detection_train_loader at 0x14a4eb430>}, 'test': {'dataset': {'names': 'coco_2017_val', 'filter_empty': False, '_target_': <function get_detection_dataset_dicts at 0x14a4eb040>}, 'mapper': {'is_train': False, 'augmentations': [{'short_edge_length': 800, 'max_size': 1333, '_target_': <class 'detectron2.data.transforms.augmentation_impl.ResizeShortestEdge'>}], 'image_format': '${...train.mapper.image_format}', '_target_': <class 'detectron2.data.dataset_mapper.DatasetMapper'>}, 'num_workers': 4, '_target_': <function build_detection_test_loader at 0x14a4eb5e0>}, 'evaluator': {'dataset_name': 'kitti_val', '_target_': <class 'detectron2.evaluation.coco_evaluation.COCOEvaluator'>}}"
      ]
     },
     "execution_count": 7,
     "metadata": {},
     "output_type": "execute_result"
    }
   ],
   "source": [
    "cfg.dataloader"
   ]
  },
  {
   "cell_type": "code",
   "execution_count": null,
   "id": "31ee1514-e099-49db-a5c8-bffd7b29b68f",
   "metadata": {},
   "outputs": [],
   "source": []
  },
  {
   "cell_type": "code",
   "execution_count": null,
   "id": "f39c7c7d-a98b-4903-8fe0-1074c068564e",
   "metadata": {},
   "outputs": [],
   "source": []
  },
  {
   "cell_type": "markdown",
   "id": "0d1f79e6-5864-409a-bc5e-ac3b987b92a4",
   "metadata": {},
   "source": [
    "# Label assignment"
   ]
  },
  {
   "cell_type": "code",
   "execution_count": 1,
   "id": "3116e999-4899-443a-a252-c65b7765e5ce",
   "metadata": {},
   "outputs": [],
   "source": [
    "from detectron2.model_zoo import get_config\n",
    "from detectron2.config import LazyConfig\n",
    "from detectron2.config.instantiate import instantiate\n",
    "\n",
    "cfg = LazyConfig.load(\"yolof_mask/configs/yolof/yolof_resnet_50_1x.py\")"
   ]
  },
  {
   "cell_type": "code",
   "execution_count": 2,
   "id": "0c069464-7d34-4d8d-a798-9692a0a29bea",
   "metadata": {},
   "outputs": [],
   "source": [
    "import os\n",
    "from detectron2.data import MetadataCatalog, DatasetCatalog\n",
    "from detectron2.data.datasets import register_coco_instances\n",
    "\n",
    "dataset = 'kitti'\n",
    "annot_dir = './kitti/training_coco'\n",
    "imgs_dir = './kitti/training_voc/VOC2012/JPEGImages'\n",
    "\n",
    "for split in ['train', 'val']: \n",
    "    annot_path = os.path.join(annot_dir, f'{split}.json')\n",
    "    d_name = dataset + f'_{split}'\n",
    "    register_coco_instances(d_name, {}, annot_path, imgs_dir)\n",
    "\n",
    "# Load dataset\n",
    "dataset_dicts = DatasetCatalog.get('kitti_train')\n",
    "metadata = MetadataCatalog.get('kitti_train')"
   ]
  },
  {
   "cell_type": "code",
   "execution_count": 3,
   "id": "91664259-53e7-41a4-b657-04c07b5ea322",
   "metadata": {},
   "outputs": [],
   "source": [
    "cfg = LazyConfig.load(\"yolof_mask/configs/yolof/yolof_resnet_50_1x.py\")\n",
    "cfg.dataloader.evaluator.dataset_name = 'kitti_val'\n",
    "cfg.dataloader.train.dataset.names = 'kitti_train'\n",
    "\n",
    "train_loader = instantiate(cfg.dataloader.train)"
   ]
  },
  {
   "cell_type": "code",
   "execution_count": 4,
   "id": "02bb8229-60a5-4aac-badb-7d40e7c84add",
   "metadata": {},
   "outputs": [
    {
     "data": {
      "text/plain": [
       "5984"
      ]
     },
     "execution_count": 4,
     "metadata": {},
     "output_type": "execute_result"
    }
   ],
   "source": [
    "len(dataset_dicts)"
   ]
  },
  {
   "cell_type": "code",
   "execution_count": 5,
   "id": "af7bf1ea-bef1-4cb5-9d55-496cd4687463",
   "metadata": {},
   "outputs": [
    {
     "data": {
      "text/plain": [
       "{'file_name': './kitti/training_voc/VOC2012/JPEGImages/000000.png',\n",
       " 'height': 370,\n",
       " 'width': 1224,\n",
       " 'image_id': '000000',\n",
       " 'annotations': [{'iscrowd': 0,\n",
       "   'bbox': [712, 143, 99, 165],\n",
       "   'category_id': 8,\n",
       "   'bbox_mode': <BoxMode.XYWH_ABS: 1>}]}"
      ]
     },
     "execution_count": 5,
     "metadata": {},
     "output_type": "execute_result"
    }
   ],
   "source": [
    "dataset_dicts[0]"
   ]
  },
  {
   "cell_type": "code",
   "execution_count": 6,
   "id": "3067b294-1446-42fe-8729-cfdb3ff1cdd7",
   "metadata": {},
   "outputs": [
    {
     "data": {
      "text/plain": [
       "<matplotlib.image.AxesImage at 0x1529e2df0>"
      ]
     },
     "execution_count": 6,
     "metadata": {},
     "output_type": "execute_result"
    },
    {
     "data": {
      "image/png": "[encoded data removed]",
      "text/plain": [
       "<Figure size 640x480 with 1 Axes>"
      ]
     },
     "metadata": {},
     "output_type": "display_data"
    }
   ],
   "source": [
    "import cv2\n",
    "import matplotlib.pyplot as plt\n",
    "\n",
    "\n",
    "id = 0\n",
    "img = cv2.imread(dataset_dicts[0]['file_name'])\n",
    "xywh = dataset_dicts[0]['annotations'][0]['bbox']\n",
    "def x1y1wh2xyxy(box):\n",
    "    x1, y1, w, h = box\n",
    "    x2, y2 = x1 + w, y1 + h\n",
    "    return x1, y1, x2, y2\n",
    "\n",
    "xyxy = x1y1wh2xyxy(xywh)\n",
    "img = cv2.rectangle(img, (xyxy[0], xyxy[1]),\n",
    "                    (xyxy[2], xyxy[3]), \n",
    "                    (255, 0, 0), 1)\n",
    "\n",
    "plt.imshow(img[..., ::-1])\n"
   ]
  },
  {
   "cell_type": "code",
   "execution_count": 7,
   "id": "a45432b8-8baf-4ec5-b0fd-bd0802da6dd1",
   "metadata": {},
   "outputs": [],
   "source": [
    "num_ins = 0\n",
    "\n",
    "for i, img in enumerate(dataset_dicts):\n",
    "    annots = dataset_dicts[i]['annotations']\n",
    "    for annot in annots:\n",
    "        num_ins += 1"
   ]
  },
  {
   "cell_type": "code",
   "execution_count": 8,
   "id": "b3578d0a-0b83-4348-a551-a0882cf58a77",
   "metadata": {},
   "outputs": [
    {
     "data": {
      "text/plain": [
       "5984"
      ]
     },
     "execution_count": 8,
     "metadata": {},
     "output_type": "execute_result"
    }
   ],
   "source": [
    "len(dataset_dicts)"
   ]
  },
  {
   "cell_type": "code",
   "execution_count": 9,
   "id": "8af820f7-ff20-4e53-bd72-977a2756514b",
   "metadata": {},
   "outputs": [
    {
     "data": {
      "text/plain": [
       "41322"
      ]
     },
     "execution_count": 9,
     "metadata": {},
     "output_type": "execute_result"
    }
   ],
   "source": [
    "num_ins"
   ]
  },
  {
   "cell_type": "code",
   "execution_count": null,
   "id": "7e97d950-81a9-4c87-a13e-2b3c804f2f5d",
   "metadata": {},
   "outputs": [],
   "source": []
  },
  {
   "cell_type": "code",
   "execution_count": 10,
   "id": "02021a6d-e288-4634-ba41-f602ab8c1088",
   "metadata": {},
   "outputs": [],
   "source": [
    "size_range = (32 * 32, 96 * 96)"
   ]
  },
  {
   "cell_type": "code",
   "execution_count": 12,
   "id": "05d8ac86-5c78-4d0a-8b1f-562bbf7cb0d4",
   "metadata": {},
   "outputs": [],
   "source": [
    "num_small_objs = num_med_objs = num_large_objs = 0\n",
    "\n",
    "for i, img in enumerate(dataset_dicts):\n",
    "    annots = dataset_dicts[i]['annotations']\n",
    "    for annot in annots:\n",
    "        _, _, w, h = annot['bbox']\n",
    "        area = w * h\n",
    "        if area < size_range[0]:\n",
    "            num_small_objs += 1\n",
    "        elif area >= size_range[1]:\n",
    "            num_large_objs += 1\n",
    "        else:\n",
    "            num_med_objs += 1\n",
    "\n",
    "assert num_small_objs + num_med_objs + num_large_objs == num_ins"
   ]
  },
  {
   "cell_type": "code",
   "execution_count": 13,
   "id": "5a200311-636e-4427-81d2-d87b8ac3b39d",
   "metadata": {},
   "outputs": [
    {
     "data": {
      "image/png": "[encoded data removed]",
      "text/plain": [
       "<Figure size 640x480 with 1 Axes>"
      ]
     },
     "metadata": {},
     "output_type": "display_data"
    }
   ],
   "source": [
    "import matplotlib.pyplot as plt\n",
    "\n",
    "categories = ['Small', 'Medium', 'Large']\n",
    "values = [num_small_objs, num_med_objs, num_large_objs]\n",
    "colors = ['blue', 'orange', 'yellow']  # Colors for each bar\n",
    "\n",
    "plt.bar(categories, values, color=colors)\n",
    "\n",
    "plt.title('Distribution of # of instances in 3 sizes (small, medium and large)')\n",
    "plt.xlabel('Size')\n",
    "plt.ylabel('Count')\n",
    "plt.tight_layout()\n",
    "plt.show()"
   ]
  },
  {
   "cell_type": "code",
   "execution_count": 14,
   "id": "563018ae-9858-4e5b-9427-b4978b2b5cdb",
   "metadata": {},
   "outputs": [
    {
     "data": {
      "text/plain": [
       "list"
      ]
     },
     "execution_count": 14,
     "metadata": {},
     "output_type": "execute_result"
    }
   ],
   "source": [
    "type(dataset_dicts)"
   ]
  },
  {
   "cell_type": "markdown",
   "id": "6abfd76c-ef01-4889-adc9-a6c8d8417c6c",
   "metadata": {},
   "source": [
    "## Count positive labels by Max-IOU"
   ]
  },
  {
   "cell_type": "code",
   "execution_count": 36,
   "id": "2ee6d085-086c-413c-997b-f638c3098562",
   "metadata": {},
   "outputs": [],
   "source": [
    "from detectron2.model_zoo import get_config\n",
    "from detectron2.config import LazyConfig\n",
    "from detectron2.config.instantiate import instantiate\n",
    "\n",
    "cfg = LazyConfig.load(\"yolof_mask/configs/yolof/yolof_resnet_50_1x.py\")\n",
    "\n",
    "cfg.dataloader.train.total_batch_size = 2\n",
    "cfg.dataloader.mapper = None\n",
    "cfg.dataloader.evaluator.dataset_name = 'kitti_val'\n",
    "cfg.dataloader.train.dataset.names = 'kitti_train'\n",
    "cfg.dataloader.train.shuffle = False\n",
    "cfg.train.device = 'mps'\n",
    "\n",
    "train_loader = instantiate(cfg.dataloader.train)\n",
    "model = instantiate(cfg.model)"
   ]
  },
  {
   "cell_type": "code",
   "execution_count": 16,
   "id": "39c085de-b47d-49a3-9672-0f90803427a0",
   "metadata": {},
   "outputs": [
    {
     "name": "stderr",
     "output_type": "stream",
     "text": [
      "0it [00:00, ?it/s]/Users/giakhang/miniconda3/envs/hope_to_public_net/lib/python3.9/site-packages/torch/functional.py:507: UserWarning: torch.meshgrid: in an upcoming release, it will be required to pass the indexing argument. (Triggered internally at /Users/runner/work/_temp/anaconda/conda-bld/pytorch_1708025539291/work/aten/src/ATen/native/TensorShape.cpp:3550.)\n",
      "  return _VF.meshgrid(tensors, **kwargs)  # type: ignore[attr-defined]\n",
      "5984it [00:37, 161.66it/s]\n"
     ]
    }
   ],
   "source": [
    "from detectron2.structures import ImageList\n",
    "from yolof_mask.modeling.meta_arch.yolof import pairwise_iou\n",
    "from tqdm import tqdm\n",
    "import numpy as np\n",
    "import torch\n",
    "\n",
    "cnt = 0\n",
    "num_ins = 0\n",
    "size_range = (32 * 32, 96 * 96)\n",
    "num_small_pos_labels = num_med_pos_labels = num_large_pos_labels = 0\n",
    "\n",
    "for batch in tqdm(train_loader):\n",
    "    if cnt == len(dataset_dicts):\n",
    "        break    \n",
    "    assert len(batch) == 1\n",
    "\n",
    "    # Get instances \n",
    "    input = batch[0]\n",
    "    gt_instances = input['instances']\n",
    "    \n",
    "    # Get anchors\n",
    "    batch_size = 1\n",
    "    h, w = 13, 42\n",
    "    channels = 3\n",
    "    features = torch.rand((batch_size, channels, h, w))\n",
    "    anchors = model.anchor_generator(features)\n",
    "    \n",
    "    # Label assignment\n",
    "    gt_labels, gt_boxes = model.label_anchors(anchors, [gt_instances])\n",
    "    gt_labels, gt_boxes = gt_labels[0], gt_boxes[0]\n",
    "\n",
    "    pos_mask = (gt_labels >= 0) & (gt_labels != 80)\n",
    "    \n",
    "    pos_boxes = gt_boxes[pos_mask]\n",
    "\n",
    "    area = (pos_boxes[:, 2] - pos_boxes[:, 0]) * (pos_boxes[:, 3] - pos_boxes[:, 1])\n",
    "    num_small = int(torch.sum(area < size_range[0]).item())\n",
    "    num_med = int(torch.sum(torch.logical_and(area >= size_range[0], area < size_range[1])).item())\n",
    "    num_large = int(torch.sum(area >= size_range[1]).item())\n",
    "\n",
    "    assert num_small + num_med + num_large == pos_boxes.shape[0]\n",
    "    \n",
    "    num_small_pos_labels += num_small\n",
    "    num_med_pos_labels += num_med\n",
    "    num_large_pos_labels += num_large\n",
    "\n",
    "    cnt += 1\n",
    "\n",
    "\n",
    "#print(num_ins)"
   ]
  },
  {
   "cell_type": "code",
   "execution_count": 17,
   "id": "23a96d08-fc0e-42bc-9654-86c0e1c4f6dc",
   "metadata": {},
   "outputs": [
    {
     "data": {
      "image/png": "[encoded data removed]",
      "text/plain": [
       "<Figure size 640x480 with 1 Axes>"
      ]
     },
     "metadata": {},
     "output_type": "display_data"
    }
   ],
   "source": [
    "import matplotlib.pyplot as plt\n",
    "\n",
    "categories = ['Small', 'Medium', 'Large']\n",
    "values = [num_small_pos_labels, num_med_pos_labels, num_large_pos_labels]\n",
    "colors = ['red', 'green', 'blue']  # Colors for each bar\n",
    "\n",
    "plt.bar(categories, values, color=colors, alpha=0.5)\n",
    "\n",
    "plt.title('Distribution of # of positive anchors in 3 sizes (small, medium and large) by Max-IOU')\n",
    "plt.xlabel('Size')\n",
    "plt.ylabel('Count')\n",
    "plt.tight_layout()\n",
    "plt.show()"
   ]
  },
  {
   "cell_type": "code",
   "execution_count": 13,
   "id": "cf159945-b5da-4fb6-88fe-919b0bfdcbe5",
   "metadata": {},
   "outputs": [
    {
     "data": {
      "text/plain": [
       "Boxes(tensor([[ -16.,  -16.,   16.,   16.],\n",
       "        [ -32.,  -32.,   32.,   32.],\n",
       "        [ -64.,  -64.,   64.,   64.],\n",
       "        ...,\n",
       "        [1248.,  320., 1376.,  448.],\n",
       "        [1184.,  256., 1440.,  512.],\n",
       "        [1056.,  128., 1568.,  640.]]))"
      ]
     },
     "execution_count": 13,
     "metadata": {},
     "output_type": "execute_result"
    }
   ],
   "source": [
    "anchors"
   ]
  },
  {
   "cell_type": "code",
   "execution_count": 24,
   "id": "63904c68-fdfa-4122-a1cc-b1ca17d418ae",
   "metadata": {},
   "outputs": [],
   "source": [
    "from detectron2.structures import Boxes"
   ]
  },
  {
   "cell_type": "code",
   "execution_count": 18,
   "id": "4ea297d7-1629-4e1f-b31f-26f80445bf60",
   "metadata": {},
   "outputs": [
    {
     "data": {
      "text/plain": [
       "torch.Size([2730, 4])"
      ]
     },
     "execution_count": 18,
     "metadata": {},
     "output_type": "execute_result"
    }
   ],
   "source": [
    "anchors.tensor.shape"
   ]
  },
  {
   "cell_type": "code",
   "execution_count": 30,
   "id": "d1b0004c-989b-43d0-85ad-bfac4cac6bc7",
   "metadata": {},
   "outputs": [],
   "source": [
    "import torch\n",
    "\n",
    "batch_size = 2\n",
    "h, w = 13, 42\n",
    "channels = 3\n",
    "features = torch.rand((batch_size, channels, h, w))\n",
    "features = [features]\n",
    "\n",
    "anchors = model.anchor_generator(features)"
   ]
  },
  {
   "cell_type": "code",
   "execution_count": 31,
   "id": "04b2d37a-f800-4ebc-a1cd-f85f58945c5f",
   "metadata": {},
   "outputs": [],
   "source": [
    "# def get_ground_truth\n",
    "anchors = [Boxes.cat(anchors_i) for anchors_i in anchors]\n",
    "N = len(anchors)\n",
    "all_anchors = Boxes.cat(anchors).tensor.reshape(N, -1, 4)  # (B, R, 4), B = batch_size, R = #anchors_on_grid"
   ]
  },
  {
   "cell_type": "code",
   "execution_count": 41,
   "id": "e06c0d2b-ac9f-42ae-a299-ed7ef560232d",
   "metadata": {},
   "outputs": [],
   "source": [
    "# def get_ground_truth\n",
    "batch = next(iter(train_loader))\n",
    "gt_instances = [input['instances'] for input in batch]"
   ]
  },
  {
   "cell_type": "code",
   "execution_count": 54,
   "id": "d862a6d7-9897-4980-9c09-d582913e1516",
   "metadata": {},
   "outputs": [],
   "source": [
    "pred_anchor_deltas = [torch.zeros((batch_size, h * w * 5, 4))]"
   ]
  },
  {
   "cell_type": "code",
   "execution_count": 57,
   "id": "b9573fda-42f6-44b6-aba0-157e3d5298ed",
   "metadata": {},
   "outputs": [],
   "source": [
    "from detectron2.layers import cat\n",
    "\n",
    "box_delta = cat(pred_anchor_deltas, dim=1)"
   ]
  },
  {
   "cell_type": "code",
   "execution_count": 58,
   "id": "6dc858bf-c468-4240-8bb7-453722a9445f",
   "metadata": {},
   "outputs": [
    {
     "data": {
      "text/plain": [
       "torch.Size([2, 2730, 4])"
      ]
     },
     "execution_count": 58,
     "metadata": {},
     "output_type": "execute_result"
    }
   ],
   "source": [
    "box_delta.shape"
   ]
  },
  {
   "cell_type": "code",
   "execution_count": 65,
   "id": "34ebfc29-cefa-4c02-a92e-4b9d8641c685",
   "metadata": {},
   "outputs": [],
   "source": [
    "import math\n",
    "\n",
    "def apply_deltas(deltas, boxes):\n",
    "    \"\"\"\n",
    "    Apply transformation `deltas` (dx, dy, dw, dh) to `boxes`.\n",
    "\n",
    "    Args:\n",
    "        deltas (Tensor): transformation deltas of shape (N, k*4), where k >= 1.\n",
    "            deltas[i] represents k potentially different class-specific\n",
    "            box transformations for the single box boxes[i].\n",
    "        boxes (Tensor): boxes to transform, of shape (N, 4)\n",
    "    \"\"\"\n",
    "    assert torch.isfinite(\n",
    "            deltas).all().item(), \"Box regression deltas become infinite or NaN!\"\n",
    "    boxes = boxes.to(deltas.dtype)\n",
    "\n",
    "    widths = boxes[..., 2] - boxes[..., 0]\n",
    "    heights = boxes[..., 3] - boxes[..., 1]\n",
    "    ctr_x = boxes[..., 0] + 0.5 * widths\n",
    "    ctr_y = boxes[..., 1] + 0.5 * heights\n",
    "\n",
    "    wx, wy, ww, wh = (1.0, 1.0, 1.0, 1.0)\n",
    "    dx = deltas[..., 0::4] / wx\n",
    "    dy = deltas[..., 1::4] / wy\n",
    "    dw = deltas[..., 2::4] / ww\n",
    "    dh = deltas[..., 3::4] / wh\n",
    "\n",
    "    # Prevent sending too large values into torch.exp()\n",
    "    dx_width = dx * widths[..., None]\n",
    "    dy_height = dy * heights[..., None]\n",
    "    add_ctr_clamp = True\n",
    "    ctr_clamp = 32\n",
    "    scale_clamp = math.log(1000.0 / 16)\n",
    "    if add_ctr_clamp:\n",
    "        dx_width = torch.clamp(dx_width,\n",
    "                               max=ctr_clamp,\n",
    "                               min=-ctr_clamp)\n",
    "        dy_height = torch.clamp(dy_height,\n",
    "                                max=ctr_clamp,\n",
    "                                min=-ctr_clamp)\n",
    "    dw = torch.clamp(dw, max=scale_clamp)\n",
    "    dh = torch.clamp(dh, max=scale_clamp)\n",
    "\n",
    "    pred_ctr_x = dx_width + ctr_x[..., None]\n",
    "    pred_ctr_y = dy_height + ctr_y[..., None]\n",
    "    pred_w = torch.exp(dw) * widths[..., None]\n",
    "    pred_h = torch.exp(dh) * heights[..., None]\n",
    "\n",
    "    pred_boxes = torch.zeros_like(deltas)\n",
    "    pred_boxes[..., 0::4] = pred_ctr_x - 0.5 * pred_w  # x1\n",
    "    pred_boxes[..., 1::4] = pred_ctr_y - 0.5 * pred_h  # y1\n",
    "    pred_boxes[..., 2::4] = pred_ctr_x + 0.5 * pred_w  # x2\n",
    "    pred_boxes[..., 3::4] = pred_ctr_y + 0.5 * pred_h  # y2\n",
    "    return pred_boxes"
   ]
  },
  {
   "cell_type": "code",
   "execution_count": 66,
   "id": "34bf6d7a-aaf2-4fa8-a36e-623009f4abe1",
   "metadata": {},
   "outputs": [
    {
     "name": "stdout",
     "output_type": "stream",
     "text": [
      "torch.Size([2, 2730, 4])\n",
      "torch.Size([2, 2730, 4])\n"
     ]
    }
   ],
   "source": [
    "print(all_anchors.shape)\n",
    "print(box_delta.shape)"
   ]
  },
  {
   "cell_type": "code",
   "execution_count": 67,
   "id": "37acad7e-03f8-4814-9ba2-d1969d156d66",
   "metadata": {},
   "outputs": [],
   "source": [
    "box_pred = apply_deltas(box_delta, all_anchors)"
   ]
  },
  {
   "cell_type": "code",
   "execution_count": 68,
   "id": "406ec9f0-a943-4232-b8fd-cb6c9922e2da",
   "metadata": {},
   "outputs": [
    {
     "data": {
      "text/plain": [
       "torch.Size([2, 2730, 4])"
      ]
     },
     "execution_count": 68,
     "metadata": {},
     "output_type": "execute_result"
    }
   ],
   "source": [
    "box_pred.shape"
   ]
  },
  {
   "cell_type": "code",
   "execution_count": null,
   "id": "b6167694-05f5-429d-9a4a-c5f4b2f616de",
   "metadata": {},
   "outputs": [],
   "source": []
  },
  {
   "cell_type": "code",
   "execution_count": null,
   "id": "a7ad990a-b200-4acc-8678-31969cf95da2",
   "metadata": {},
   "outputs": [],
   "source": []
  },
  {
   "cell_type": "code",
   "execution_count": 210,
   "id": "dafa9799-50df-45b7-a272-49a6d6589f88",
   "metadata": {},
   "outputs": [],
   "source": [
    "# Matcher\n",
    "bs, num_queries = box_pred.shape[:2]  #B, R\n",
    "out_bbox = box_pred.flatten(0, 1)  # (B x R, 4)\n",
    "anchors = all_anchors.flatten(0, 1)  # (B x R, 4)"
   ]
  },
  {
   "cell_type": "code",
   "execution_count": 85,
   "id": "7c618502-aafe-41f7-a804-3ce9421009a1",
   "metadata": {},
   "outputs": [],
   "source": [
    "tgt_bbox = torch.cat([v.gt_boxes.tensor for v in gt_instances])  # (#total_ins_in_batch, 4)\n",
    "assert len(tgt_bbox) == sum([len(v) for v in gt_instances])"
   ]
  },
  {
   "cell_type": "code",
   "execution_count": 98,
   "id": "14c0fefe-bd6e-48b1-8f6a-77b9bcf068e0",
   "metadata": {},
   "outputs": [],
   "source": [
    "def box_xyxy_to_cxcywh(x):\n",
    "    x0, y0, x1, y1 = x.unbind(-1)\n",
    "    b = [(x0 + x1) / 2, (y0 + y1) / 2,\n",
    "         (x1 - x0), (y1 - y0)]\n",
    "    return torch.stack(b, dim=-1)\n",
    "\n",
    "cost_bbox = torch.cdist(\n",
    "            box_xyxy_to_cxcywh(out_bbox), box_xyxy_to_cxcywh(tgt_bbox), p=1)  # (B x R, #total_ins_in_batch)\n",
    "cost_bbox_anchors = torch.cdist( \n",
    "            box_xyxy_to_cxcywh(anchors), box_xyxy_to_cxcywh(tgt_bbox), p=1)  # (B x R, #total_ins_in_batch)"
   ]
  },
  {
   "cell_type": "code",
   "execution_count": 99,
   "id": "1551fefa-2fbd-40a8-9667-45a2d11978f5",
   "metadata": {},
   "outputs": [],
   "source": [
    "# Final cost matrix\n",
    "C = cost_bbox\n",
    "C = C.view(bs, num_queries, -1)  # (B, R, #total_ins_in_batch)\n",
    "C1 = cost_bbox_anchors\n",
    "C1 = C1.view(bs, num_queries, -1)  # (B, R, #total_ins_in_batch)"
   ]
  },
  {
   "cell_type": "code",
   "execution_count": 104,
   "id": "58188952-c262-4e66-8238-a9645ed5ff11",
   "metadata": {},
   "outputs": [],
   "source": [
    "sizes = [len(v.gt_boxes.tensor) for v in gt_instances]\n",
    "all_indices_list = [[] for _ in range(bs)]"
   ]
  },
  {
   "cell_type": "code",
   "execution_count": 149,
   "id": "1b047b27-b7bd-4d6c-a1cc-0696f9361abc",
   "metadata": {},
   "outputs": [],
   "source": [
    "# positive indices when matching predict boxes and gt boxes\n",
    "# len(indices) = B\n",
    "# len(indices[i]) = topk\n",
    "# len(indices[i][j]) = #num_ins_in_img\n",
    "\n",
    "indices = [tuple(torch.topk(c[i], \n",
    "                            k=4, \n",
    "                            dim=0,\n",
    "                            largest=False)[1].numpy().tolist()) for i, c in enumerate(C.split(sizes, -1))]"
   ]
  },
  {
   "cell_type": "code",
   "execution_count": 131,
   "id": "e567f5db-5e35-4452-b42c-e982c9be6edf",
   "metadata": {},
   "outputs": [],
   "source": [
    "# positive indices when matching anchor boxes and gt boxes\n",
    "indices1 = [tuple(torch.topk(c[i],\n",
    "                            k=4,\n",
    "                            dim=0,\n",
    "                            largest=False)[1].numpy().tolist()) for i, c in enumerate(C1.split(sizes, -1))] "
   ]
  },
  {
   "cell_type": "code",
   "execution_count": 176,
   "id": "5846f190-df25-4b57-b9bf-011f950f6c46",
   "metadata": {},
   "outputs": [],
   "source": [
    "import numpy as np\n",
    "\n",
    "# concat the indices according to image ids\n",
    "for img_id, (idx, idx1) in enumerate(zip(indices, indices1)):\n",
    "    img_idx_i = [\n",
    "        np.array(idx_ + idx1_) for (idx_, idx1_) in zip(idx, idx1)\n",
    "    ]\n",
    "    img_idx_j = [\n",
    "        np.array(list(range(len(idx_))) + list(range(len(idx1_)))) for (idx_, idx1_) in zip(idx, idx1)\n",
    "    ]\n",
    "    all_indices_list[img_id] = [*zip(img_idx_i, img_idx_j)]\n",
    "    break"
   ]
  },
  {
   "cell_type": "code",
   "execution_count": 280,
   "id": "162e9bf4-461d-4e22-b7f8-78614c2eb7a7",
   "metadata": {},
   "outputs": [],
   "source": [
    "# re-organize the positive indices\n",
    "all_indices = []\n",
    "for img_id in range(bs):\n",
    "    all_idx_i = []\n",
    "    all_idx_j = []\n",
    "    for idx_list in all_indices_list[img_id]:\n",
    "        idx_i, idx_j = idx_list\n",
    "        all_idx_i.append(idx_i)\n",
    "        all_idx_j.append(idx_j)\n",
    "    all_idx_i = np.hstack(all_idx_i)\n",
    "    all_idx_j = np.hstack(all_idx_j)\n",
    "    all_indices.append((all_idx_i, all_idx_j))\n",
    "    rs= [\n",
    "        (torch.as_tensor(i, dtype=torch.int64),\n",
    "         torch.as_tensor(j, dtype=torch.int64))\n",
    "         for i, j in all_indices\n",
    "    ]"
   ]
  },
  {
   "cell_type": "code",
   "execution_count": 196,
   "id": "c0391afc-998f-4243-a056-736dc984ab24",
   "metadata": {},
   "outputs": [
    {
     "data": {
      "text/plain": [
       "[(array([1380, 1355, 1380, 1355, 1385, 1350, 1385, 1350, 1381, 1145, 1381,\n",
       "         1145, 1590, 1360, 1590, 1360]),\n",
       "  array([0, 1, 0, 1, 0, 1, 0, 1, 0, 1, 0, 1, 0, 1, 0, 1])),\n",
       " (array([2258, 1807, 1581, 1335, 1330, 1320, 2258, 1807, 1581, 1335, 1330,\n",
       "         1320, 2263, 1812, 1791, 1545, 1325, 1110, 2263, 1812, 1791, 1545,\n",
       "         1325, 1110, 2048, 2017, 1586, 1330, 1540, 1325, 2048, 2017, 1586,\n",
       "         1330, 1540, 1325, 2053, 1802, 1576, 1336, 1335, 1315, 2053, 1802,\n",
       "         1576, 1336, 1335, 1315]),\n",
       "  array([0, 1, 2, 3, 4, 5, 0, 1, 2, 3, 4, 5, 0, 1, 2, 3, 4, 5, 0, 1, 2, 3,\n",
       "         4, 5, 0, 1, 2, 3, 4, 5, 0, 1, 2, 3, 4, 5, 0, 1, 2, 3, 4, 5, 0, 1,\n",
       "         2, 3, 4, 5]))]"
      ]
     },
     "execution_count": 196,
     "metadata": {},
     "output_type": "execute_result"
    }
   ],
   "source": [
    "all_indices"
   ]
  },
  {
   "cell_type": "code",
   "execution_count": null,
   "id": "4b4168df-c1fc-499e-8cb2-233c2409d235",
   "metadata": {},
   "outputs": [],
   "source": []
  },
  {
   "cell_type": "code",
   "execution_count": null,
   "id": "0fa5e62b-be4f-49b6-8d45-d73eb3a216e7",
   "metadata": {},
   "outputs": [],
   "source": []
  },
  {
   "cell_type": "code",
   "execution_count": 281,
   "id": "597807b1-e768-4146-b762-7f7a88d5570e",
   "metadata": {},
   "outputs": [],
   "source": [
    "# loss\n",
    "\n",
    "batch_size = 2\n",
    "h, w = 13, 42\n",
    "num_classes = 80\n",
    "\n",
    "indices = rs\n",
    "gt_instances = gt_instances\n",
    "anchors = model.anchor_generator(features)\n",
    "pred_anchor_deltas = [torch.zeros((batch_size, h * w * 5, 4))]\n",
    "pred_logits = [torch.zeros((batch_size, h * w * 5, num_classes))]"
   ]
  },
  {
   "cell_type": "code",
   "execution_count": 282,
   "id": "1d1e49f4-704f-4405-aecb-5227500a6ae8",
   "metadata": {},
   "outputs": [],
   "source": [
    "pred_class_logits = cat(pred_logits, dim=1).view(-1, num_classes)  # (BxR, #classes)\n",
    "pred_anchor_deltas = cat(pred_anchor_deltas, dim=1).view(-1, 4)  # (BxR, 4)\n",
    "anchors = [Boxes.cat(anchors_i) for anchors_i in anchors]  # (B, R, 4)\n",
    "N = len(anchors)\n",
    "all_anchors = Boxes.cat(anchors).tensor  # (BxR, 4)"
   ]
  },
  {
   "cell_type": "code",
   "execution_count": 283,
   "id": "f1c86bba-703f-4009-a67b-d08367080a45",
   "metadata": {},
   "outputs": [],
   "source": [
    "predicted_boxes = apply_deltas(pred_anchor_deltas, all_anchors)\n",
    "predicted_boxes = predicted_boxes.reshape(N, -1, 4)  # (B, R, 4)"
   ]
  },
  {
   "cell_type": "code",
   "execution_count": 284,
   "id": "65976dd8-6122-4edd-bb23-c02cbfa17dd0",
   "metadata": {},
   "outputs": [],
   "source": [
    "from torchvision.ops.boxes import box_area\n",
    "\n",
    "def box_iou(boxes1, boxes2):\n",
    "    area1 = box_area(boxes1)\n",
    "    area2 = box_area(boxes2)\n",
    "\n",
    "    lt = torch.max(boxes1[:, None, :2], boxes2[:, :2])  # [N,M,2]\n",
    "    rb = torch.min(boxes1[:, None, 2:], boxes2[:, 2:])  # [N,M,2]\n",
    "\n",
    "    wh = (rb - lt).clamp(min=0)  # [N,M,2]\n",
    "    inter = wh[:, :, 0] * wh[:, :, 1]  # [N,M]\n",
    "\n",
    "    union = area1[:, None] + area2 - inter\n",
    "\n",
    "    iou = inter / union\n",
    "    return iou, union\n",
    "\n",
    "ious, pos_ious = [], []\n",
    "for i in range(N):\n",
    "    src_idx, tgt_idx = indices[i]\n",
    "    iou, _ = box_iou(predicted_boxes[i, ...],\n",
    "                     gt_instances[i].gt_boxes.tensor)\n",
    "    if iou.numel() == 0:\n",
    "        max_iou = iou.new_full((iou.size(0),), 0)\n",
    "    else:\n",
    "        max_iou = iou.max(dim=1)[0]\n",
    "\n",
    "    a_iou, _ = box_iou(anchors[i].tensor,\n",
    "                       gt_instances[i].gt_boxes.tensor)\n",
    "    if a_iou.numel() == 0:\n",
    "        pos_iou = a_iou.new_full((0,), 0)\n",
    "    else:\n",
    "        pos_iou = a_iou[src_idx, tgt_idx]\n",
    "    \n",
    "    ious.append(max_iou)  \n",
    "    pos_ious.append(pos_iou)"
   ]
  },
  {
   "cell_type": "code",
   "execution_count": 285,
   "id": "4a29ecd5-5e88-4dcf-9d0d-8ed91b6028cc",
   "metadata": {},
   "outputs": [],
   "source": [
    "POS_IGNORE_THRESHOLD = 0.15\n",
    "NEG_IGNORE_THRESHOLD = 0.7\n",
    "\n",
    "ious = torch.cat(ious)  # (BxR)\n",
    "pos_ious = torch.cat(pos_ious)  # (sum(#ins_img_i * topk * 2)), sum over images in batch"
   ]
  },
  {
   "cell_type": "code",
   "execution_count": 329,
   "id": "bd91cdfc-5fe2-40d0-b49d-91fbc5559c85",
   "metadata": {},
   "outputs": [],
   "source": [
    "ignore_idx = ious > NEG_IGNORE_THRESHOLD\n",
    "pos_ignore_idx = pos_ious < POS_IGNORE_THRESHOLD"
   ]
  },
  {
   "cell_type": "code",
   "execution_count": 330,
   "id": "12e491b3-98e0-47ec-a3d7-af87126cb10c",
   "metadata": {},
   "outputs": [],
   "source": [
    "src_idx = torch.cat(\n",
    "    [src + idx * anchors[0].tensor.shape[0] for idx, (src, _) in enumerate(indices)\n",
    "])"
   ]
  },
  {
   "cell_type": "code",
   "execution_count": 331,
   "id": "b5766111-164e-4902-9359-0a8980075790",
   "metadata": {},
   "outputs": [],
   "source": [
    "gt_classes = torch.full(pred_class_logits.shape[:1],\n",
    "                        num_classes,\n",
    "                        dtype=torch.int64)"
   ]
  },
  {
   "cell_type": "code",
   "execution_count": 332,
   "id": "d0da3141-94b8-40f2-8eb7-64844b2d79c3",
   "metadata": {},
   "outputs": [],
   "source": [
    "gt_classes[ignore_idx] = -1\n",
    "target_classes_o = torch.cat(\n",
    "    [t.gt_classes[J] for t, (_, J) in zip(gt_instances, indices)]\n",
    ")"
   ]
  },
  {
   "cell_type": "code",
   "execution_count": 333,
   "id": "d4ab8e32-7082-4b7e-a854-b8ce316c35d6",
   "metadata": {},
   "outputs": [],
   "source": [
    "target_classes_o[pos_ignore_idx] = -1\n",
    "gt_classes[src_idx] = target_classes_o"
   ]
  },
  {
   "cell_type": "code",
   "execution_count": 334,
   "id": "38a4b27b-36f4-416f-947c-fb72fbc491b4",
   "metadata": {},
   "outputs": [],
   "source": [
    "valid_idxs = gt_classes >= 0\n",
    "foreground_idxs = (gt_classes >= 0) & (gt_classes != num_classes)\n",
    "num_foreground = foreground_idxs.sum()"
   ]
  },
  {
   "cell_type": "code",
   "execution_count": 311,
   "id": "68971ded-1470-4009-9758-3c76f0aae4b2",
   "metadata": {},
   "outputs": [
    {
     "data": {
      "text/plain": [
       "tensor([False, False, False,  ..., False, False, False])"
      ]
     },
     "execution_count": 311,
     "metadata": {},
     "output_type": "execute_result"
    }
   ],
   "source": [
    "(gt_classes >= 0) & (gt_classes != num_classes)"
   ]
  },
  {
   "cell_type": "code",
   "execution_count": 325,
   "id": "c3c12b50-49c1-4072-93cb-a1892a6c3bea",
   "metadata": {},
   "outputs": [],
   "source": [
    "target_classes_o = torch.cat(\n",
    "    [t.gt_classes[J] for t, (_, J) in zip(gt_instances, indices)]\n",
    ")"
   ]
  },
  {
   "cell_type": "code",
   "execution_count": 327,
   "id": "9c1c02ce-1b1d-404c-b159-63cdd0809903",
   "metadata": {},
   "outputs": [
    {
     "data": {
      "text/plain": [
       "tensor([7, 1, 7, 1, 7, 1, 7, 1, 7, 1, 7, 1, 7, 1, 7, 1, 7, 7, 7, 7, 7, 1, 7, 7,\n",
       "        7, 7, 7, 1, 7, 7, 7, 7, 7, 1, 7, 7, 7, 7, 7, 1, 7, 7, 7, 7, 7, 1, 7, 7,\n",
       "        7, 7, 7, 1, 7, 7, 7, 7, 7, 1, 7, 7, 7, 7, 7, 1])"
      ]
     },
     "execution_count": 327,
     "metadata": {},
     "output_type": "execute_result"
    }
   ],
   "source": [
    "target_classes_o"
   ]
  },
  {
   "cell_type": "code",
   "execution_count": 346,
   "id": "75dec790-b449-495f-9f14-b94dbfd287fd",
   "metadata": {},
   "outputs": [],
   "source": [
    "gt_classes_target = torch.zeros_like(pred_class_logits)\n",
    "gt_classes_target[foreground_idxs, gt_classes[foreground_idxs]] = 1"
   ]
  },
  {
   "cell_type": "code",
   "execution_count": 348,
   "id": "1ca4d79a-1a03-4e9b-93d6-f82034ef3d77",
   "metadata": {},
   "outputs": [
    {
     "data": {
      "text/plain": [
       "torch.Size([5460, 80])"
      ]
     },
     "execution_count": 348,
     "metadata": {},
     "output_type": "execute_result"
    }
   ],
   "source": [
    "pred_class_logits.shape"
   ]
  },
  {
   "cell_type": "code",
   "execution_count": 349,
   "id": "415e5862-603d-4b3e-b8dc-436c03392449",
   "metadata": {},
   "outputs": [
    {
     "data": {
      "text/plain": [
       "torch.Size([5460, 80])"
      ]
     },
     "execution_count": 349,
     "metadata": {},
     "output_type": "execute_result"
    }
   ],
   "source": [
    "gt_classes_target.shape"
   ]
  },
  {
   "cell_type": "code",
   "execution_count": 350,
   "id": "d8331d46-8123-44c4-b7e1-3c8de86c538d",
   "metadata": {},
   "outputs": [],
   "source": [
    "# reg loss\n",
    "target_boxes = torch.cat(\n",
    "    [t.gt_boxes.tensor[i] for t, (_, i) in zip(gt_instances, indices)],\n",
    "    dim=0)"
   ]
  },
  {
   "cell_type": "code",
   "execution_count": 352,
   "id": "ae501553-1878-42f4-9dc7-695b5291cc55",
   "metadata": {},
   "outputs": [
    {
     "data": {
      "text/plain": [
       "torch.Size([64, 4])"
      ]
     },
     "execution_count": 352,
     "metadata": {},
     "output_type": "execute_result"
    }
   ],
   "source": [
    "target_boxes.shape"
   ]
  },
  {
   "cell_type": "code",
   "execution_count": 367,
   "id": "bcf03d26-5910-43c2-a644-0a1ea9f106ce",
   "metadata": {},
   "outputs": [],
   "source": [
    "target_boxes = target_boxes[~pos_ignore_idx]"
   ]
  },
  {
   "cell_type": "code",
   "execution_count": 362,
   "id": "7414d178-f1d5-4465-b238-218931c3578d",
   "metadata": {},
   "outputs": [],
   "source": [
    "matched_predicted_boxes = predicted_boxes.reshape(-1, 4)[src_idx[~pos_ignore_idx]]"
   ]
  },
  {
   "cell_type": "code",
   "execution_count": 364,
   "id": "891e5083-8041-4881-8cdd-40b8ce244519",
   "metadata": {},
   "outputs": [],
   "source": [
    "def generalized_box_iou(boxes1, boxes2):\n",
    "    \"\"\"\n",
    "    Generalized IoU from https://giou.stanford.edu/\n",
    "\n",
    "    The boxes should be in [x0, y0, x1, y1] format\n",
    "\n",
    "    Returns a [N, M] pairwise matrix, where N = len(boxes1)\n",
    "    and M = len(boxes2)\n",
    "    \"\"\"\n",
    "    # degenerate boxes gives inf / nan results\n",
    "    # so do an early check\n",
    "    assert (boxes1[:, 2:] >= boxes1[:, :2]).all()\n",
    "    assert (boxes2[:, 2:] >= boxes2[:, :2]).all()\n",
    "    iou, union = box_iou(boxes1, boxes2)\n",
    "\n",
    "    lt = torch.min(boxes1[:, None, :2], boxes2[:, :2])\n",
    "    rb = torch.max(boxes1[:, None, 2:], boxes2[:, 2:])\n",
    "\n",
    "    wh = (rb - lt).clamp(min=0)  # [N,M,2]\n",
    "    area = wh[:, :, 0] * wh[:, :, 1]\n",
    "\n",
    "    return iou - (area - union) / area"
   ]
  },
  {
   "cell_type": "code",
   "execution_count": 365,
   "id": "594ed8a4-5a7b-4da3-90dc-fba3189a78d8",
   "metadata": {},
   "outputs": [
    {
     "data": {
      "text/plain": [
       "torch.Size([42, 4])"
      ]
     },
     "execution_count": 365,
     "metadata": {},
     "output_type": "execute_result"
    }
   ],
   "source": [
    "matched_predicted_boxes.shape"
   ]
  },
  {
   "cell_type": "code",
   "execution_count": 368,
   "id": "8d75bef5-68b1-4e5a-9c2f-05518df8c980",
   "metadata": {},
   "outputs": [
    {
     "data": {
      "text/plain": [
       "torch.Size([42, 4])"
      ]
     },
     "execution_count": 368,
     "metadata": {},
     "output_type": "execute_result"
    }
   ],
   "source": [
    "target_boxes.shape"
   ]
  },
  {
   "cell_type": "code",
   "execution_count": 372,
   "id": "7251f7fb-6c26-4d4d-ae1d-f317646c577b",
   "metadata": {},
   "outputs": [
    {
     "data": {
      "text/plain": [
       "tensor(26.7916)"
      ]
     },
     "execution_count": 372,
     "metadata": {},
     "output_type": "execute_result"
    }
   ],
   "source": [
    "(1 - torch.diag(generalized_box_iou(matched_predicted_boxes, target_boxes))).sum()"
   ]
  },
  {
   "cell_type": "code",
   "execution_count": null,
   "id": "b7b3e86d-587c-410d-be99-e559905e1f11",
   "metadata": {},
   "outputs": [],
   "source": []
  }
 ],
 "metadata": {
  "kernelspec": {
   "display_name": "Python 3 (ipykernel)",
   "language": "python",
   "name": "python3"
  },
  "language_info": {
   "codemirror_mode": {
    "name": "ipython",
    "version": 3
   },
   "file_extension": ".py",
   "mimetype": "text/x-python",
   "name": "python",
   "nbconvert_exporter": "python",
   "pygments_lexer": "ipython3",
   "version": "3.9.18"
  }
 },
 "nbformat": 4,
 "nbformat_minor": 5
}
