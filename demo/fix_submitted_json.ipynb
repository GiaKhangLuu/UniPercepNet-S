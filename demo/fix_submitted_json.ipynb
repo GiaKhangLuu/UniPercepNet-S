{
 "cells": [
  {
   "cell_type": "code",
   "execution_count": 1,
   "id": "85415220-34b6-43cc-833a-f2cc128a9ed9",
   "metadata": {},
   "outputs": [],
   "source": [
    "import json"
   ]
  },
  {
   "cell_type": "code",
   "execution_count": 2,
   "id": "73c3b55c-2f1b-477e-aa28-5df756467b9d",
   "metadata": {},
   "outputs": [],
   "source": [
    "json_file = \"/Users/giakhang/Downloads/detections_test-dev2017_yolof_maskr50se3xtrainval_results.json\"\n",
    "#json_file = open(json_file).read()\n",
    "#json_data = json.loads(json_file)"
   ]
  },
  {
   "cell_type": "code",
   "execution_count": 3,
   "id": "d61579c1-25e3-456c-9b5c-57a61243dd93",
   "metadata": {},
   "outputs": [
    {
     "ename": "AttributeError",
     "evalue": "'str' object has no attribute 'decode'",
     "output_type": "error",
     "traceback": [
      "\u001b[0;31m---------------------------------------------------------------------------\u001b[0m",
      "\u001b[0;31mAttributeError\u001b[0m                            Traceback (most recent call last)",
      "Cell \u001b[0;32mIn[3], line 3\u001b[0m\n\u001b[1;32m      1\u001b[0m myFile \u001b[38;5;241m=\u001b[39m \u001b[38;5;28mopen\u001b[39m(json_file, \u001b[38;5;124m'\u001b[39m\u001b[38;5;124mr\u001b[39m\u001b[38;5;124m'\u001b[39m)\n\u001b[1;32m      2\u001b[0m myObject \u001b[38;5;241m=\u001b[39m myFile\u001b[38;5;241m.\u001b[39mread()\n\u001b[0;32m----> 3\u001b[0m u \u001b[38;5;241m=\u001b[39m \u001b[43mmyObject\u001b[49m\u001b[38;5;241;43m.\u001b[39;49m\u001b[43mdecode\u001b[49m(\u001b[38;5;124m'\u001b[39m\u001b[38;5;124mutf-8-sig\u001b[39m\u001b[38;5;124m'\u001b[39m)\n\u001b[1;32m      4\u001b[0m myObject \u001b[38;5;241m=\u001b[39m u\u001b[38;5;241m.\u001b[39mencode(\u001b[38;5;124m'\u001b[39m\u001b[38;5;124mutf-8\u001b[39m\u001b[38;5;124m'\u001b[39m)\n\u001b[1;32m      5\u001b[0m myFile\u001b[38;5;241m.\u001b[39mencoding\n",
      "\u001b[0;31mAttributeError\u001b[0m: 'str' object has no attribute 'decode'"
     ]
    }
   ],
   "source": [
    "myFile = open(json_file, 'r')\n",
    "myObject = myFile.read()\n",
    "u = myObject.decode('utf-8-sig')\n",
    "myObject = u.encode('utf-8')\n",
    "myFile.encoding\n",
    "myFile.close()\n",
    "myData = json.loads(myObject,'utf-8')"
   ]
  },
  {
   "cell_type": "code",
   "execution_count": 8,
   "id": "694f46d1-ff1d-471b-b687-ed90d66ac4c0",
   "metadata": {},
   "outputs": [
    {
     "name": "stdout",
     "output_type": "stream",
     "text": [
      "JSONDecodeError: Expecting value: line 1 column 456122846 (char 456122845)\n"
     ]
    }
   ],
   "source": [
    "import json\n",
    "\n",
    "try:\n",
    "    with open(json_file, 'r') as file:\n",
    "        data = json.load(file)\n",
    "    print(\"JSON is valid\")\n",
    "except json.JSONDecodeError as e:\n",
    "    print(\"JSONDecodeError:\", e)\n"
   ]
  },
  {
   "cell_type": "code",
   "execution_count": 3,
   "id": "4613bddb-021c-4cca-9dfb-e0cbce62ecdf",
   "metadata": {},
   "outputs": [
    {
     "name": "stdout",
     "output_type": "stream",
     "text": [
      "JSONError: parse error: unallowed token at this point in JSON text\n",
      "          2N2PORCFP=4[CCX=HVCLV\\\\n3\"}},,{\"image_id\": 202467, \"category\n",
      "                     (right here) ------^\n",
      "\n"
     ]
    }
   ],
   "source": [
    "import ijson\n",
    "\n",
    "with open(json_file, 'r') as file:\n",
    "    try:\n",
    "        parser = ijson.parse(file)\n",
    "        for prefix, event, value in parser:\n",
    "            # This will iterate over the entire JSON structure\n",
    "            pass\n",
    "        print(\"JSON is valid\")\n",
    "    except ijson.JSONError as e:\n",
    "        print(\"JSONError:\", e)\n"
   ]
  },
  {
   "cell_type": "code",
   "execution_count": 4,
   "id": "4daec2ce-e5c1-43a0-9e88-b49969b508f1",
   "metadata": {},
   "outputs": [
    {
     "name": "stdout",
     "output_type": "stream",
     "text": [
      "Fixed JSON file saved as: /Users/giakhang/Downloads/detections_test-dev2017_yolof_maskr50se3xtrainval_results.json\n"
     ]
    }
   ],
   "source": [
    "import re\n",
    "\n",
    "def fix_extra_commas(filename):\n",
    "    with open(filename, 'r') as file:\n",
    "        content = file.read()\n",
    "    \n",
    "    # Correct the specific issue\n",
    "    corrected_content = re.sub(r'\\}\\},,\\{', '}},{', content)\n",
    "    \n",
    "    with open(filename, 'w') as file:\n",
    "        file.write(corrected_content)\n",
    "    \n",
    "    print(\"Fixed JSON file saved as:\", filename)\n",
    "\n",
    "fix_extra_commas('/Users/giakhang/Downloads/detections_test-dev2017_yolof_maskr50se3xtrainval_results.json')"
   ]
  },
  {
   "cell_type": "code",
   "execution_count": 5,
   "id": "b41d8d02-29fc-49c4-8e36-190a3d8d7cc2",
   "metadata": {},
   "outputs": [
    {
     "name": "stdout",
     "output_type": "stream",
     "text": [
      "JSON is valid\n"
     ]
    }
   ],
   "source": [
    "import ijson\n",
    "\n",
    "with open(\"/Users/giakhang/Downloads/detections_test-dev2017_yolof_maskr50se3xtrainval_results.json\", 'r') as file:\n",
    "    try:\n",
    "        parser = ijson.parse(file)\n",
    "        for prefix, event, value in parser:\n",
    "            # This will iterate over the entire JSON structure\n",
    "            pass\n",
    "        print(\"JSON is valid\")\n",
    "    except ijson.JSONError as e:\n",
    "        print(\"JSONError:\", e)\n"
   ]
  },
  {
   "cell_type": "code",
   "execution_count": 14,
   "id": "a352d2b8-0dd4-46e3-acee-d71feb5fecbe",
   "metadata": {},
   "outputs": [
    {
     "name": "stdout",
     "output_type": "stream",
     "text": [
      "/Users/giakhang/dev/research/Hand_pose_estimation_3D\n"
     ]
    }
   ],
   "source": [
    "!pwd"
   ]
  },
  {
   "cell_type": "code",
   "execution_count": null,
   "id": "c4bce5dd-99be-4a63-9d28-4a91c255c458",
   "metadata": {},
   "outputs": [],
   "source": []
  }
 ],
 "metadata": {
  "kernelspec": {
   "display_name": "Python 3 (ipykernel)",
   "language": "python",
   "name": "python3"
  },
  "language_info": {
   "codemirror_mode": {
    "name": "ipython",
    "version": 3
   },
   "file_extension": ".py",
   "mimetype": "text/x-python",
   "name": "python",
   "nbconvert_exporter": "python",
   "pygments_lexer": "ipython3",
   "version": "3.9.18"
  }
 },
 "nbformat": 4,
 "nbformat_minor": 5
}
