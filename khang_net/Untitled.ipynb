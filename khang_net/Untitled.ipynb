{
 "cells": [
  {
   "cell_type": "code",
   "execution_count": 63,
   "id": "a4d02488-142a-4233-95e8-876058eb25ac",
   "metadata": {},
   "outputs": [],
   "source": [
    "from detectron2.model_zoo import get_config\n",
    "from detectron2.config import LazyConfig\n",
    "from detectron2.config.instantiate import instantiate\n",
    "\n",
    "cfg = LazyConfig.load('./configs/yolof.py')"
   ]
  },
  {
   "cell_type": "code",
   "execution_count": 64,
   "id": "32359e91-d865-40e4-81c9-6a7089bc3bfd",
   "metadata": {},
   "outputs": [],
   "source": [
    "yolof = instantiate(cfg.model)"
   ]
  },
  {
   "cell_type": "code",
   "execution_count": null,
   "id": "4574c322-1ad4-4686-8496-f039099e63c2",
   "metadata": {},
   "outputs": [],
   "source": []
  },
  {
   "cell_type": "code",
   "execution_count": 65,
   "id": "77ee7899-a385-46b7-8f86-4c941173f68c",
   "metadata": {},
   "outputs": [
    {
     "data": {
      "text/plain": [
       "{'constants': {'imagenet_rgb256_mean': [123.675, 116.28, 103.53], 'imagenet_rgb256_std': [58.395, 57.12, 57.375], 'imagenet_bgr256_mean': [103.53, 116.28, 123.675], 'imagenet_bgr256_std': [1.0, 1.0, 1.0]}, 'model': {'backbone': {'stem': {'in_channels': 3, 'out_channels': 64, 'norm': 'FrozenBN', '_target_': <class 'detectron2.modeling.backbone.resnet.BasicStem'>}, 'stages': {'depth': 50, 'stride_in_1x1': True, 'norm': 'FrozenBN', '_target_': <function ResNet.make_default_stages at 0x2ae92d940>}, 'out_features': ['res5'], '_target_': <class 'detectron2.modeling.backbone.resnet.ResNet'>}, 'head': None, 'head_in_features': None, 'anchor_generator': {'sizes': [[128, 161.26989438654377, 203.18733465192952]], 'aspect_ratios': [0.5, 1.0, 2.0], 'strides': [32], 'offset': 0.0, '_target_': <class 'detectron2.modeling.anchor_generator.DefaultAnchorGenerator'>}, 'box2box_transform': {'weights': [1.0, 1.0, 1.0, 1.0], '_target_': <class 'detectron2.modeling.box_regression.Box2BoxTransform'>}, 'anchor_matcher': {'thresholds': [0.4, 0.5], 'labels': [0, -1, 1], 'allow_low_quality_matches': True, '_target_': <class 'detectron2.modeling.matcher.Matcher'>}, 'num_classes': 80, 'focal_loss_alpha': 0.25, 'focal_loss_gamma': 2.0, 'pixel_mean': [103.53, 116.28, 123.675], 'pixel_std': [1.0, 1.0, 1.0], 'input_format': 'BGR', '_target_': <class 'detectron2._cfg_loader2d00.yolof.py.YOLOF'>}}"
      ]
     },
     "execution_count": 65,
     "metadata": {},
     "output_type": "execute_result"
    }
   ],
   "source": [
    "cfg"
   ]
  },
  {
   "cell_type": "code",
   "execution_count": null,
   "id": "4caf60f4-3112-4008-bff6-90d212d94c97",
   "metadata": {},
   "outputs": [],
   "source": []
  },
  {
   "cell_type": "code",
   "execution_count": null,
   "id": "a731ab53-4afb-4129-8ce3-03bbe2165c09",
   "metadata": {},
   "outputs": [],
   "source": []
  },
  {
   "cell_type": "code",
   "execution_count": 66,
   "id": "ee4e9181-0c74-43e9-8c70-7ed426b60cad",
   "metadata": {},
   "outputs": [
    {
     "name": "stdout",
     "output_type": "stream",
     "text": [
      "/Users/giakhang/dev/work/sand_box/hope_to_public_net/khang_net\n"
     ]
    }
   ],
   "source": [
    "!pwd"
   ]
  },
  {
   "cell_type": "code",
   "execution_count": 67,
   "id": "68eab25b-8b18-4eb3-838b-13641f057a1c",
   "metadata": {},
   "outputs": [],
   "source": [
    "from modeling.meta_arch.yolof import YOLOFHead\n",
    "from detectron2.layers.shape_spec import ShapeSpec"
   ]
  },
  {
   "cell_type": "code",
   "execution_count": 68,
   "id": "514efcb8-5984-4680-a3eb-e5ef972e05c2",
   "metadata": {},
   "outputs": [],
   "source": [
    "yolof_head = YOLOFHead(\n",
    "    input_shape=[ShapeSpec(channels=512), ShapeSpec(channels=512), ShapeSpec(channels=512), ShapeSpec(channels=512), ShapeSpec(channels=512)],\n",
    "    num_classes=10, \n",
    "    num_anchors=9,\n",
    "    conv_dims=[256, 256, 256, 256, 256]\n",
    ")"
   ]
  },
  {
   "cell_type": "code",
   "execution_count": null,
   "id": "27759f11-2f5e-41de-8a9a-cec69883924a",
   "metadata": {},
   "outputs": [],
   "source": []
  },
  {
   "cell_type": "code",
   "execution_count": null,
   "id": "41ca0b07-1a6d-4987-8927-5c340c4497d7",
   "metadata": {},
   "outputs": [],
   "source": []
  },
  {
   "cell_type": "code",
   "execution_count": 69,
   "id": "7e00af74-2989-46d9-8f11-c7b6c52203ac",
   "metadata": {},
   "outputs": [],
   "source": [
    "from detectron2.modeling.anchor_generator import DefaultAnchorGenerator, _create_grid_offsets"
   ]
  },
  {
   "cell_type": "code",
   "execution_count": 70,
   "id": "68a6042d-6fc5-4682-a740-3ec27a1516c4",
   "metadata": {},
   "outputs": [],
   "source": [
    "sizes = [[x, x * 2 ** (1.0 / 3), x * 2 ** (2.0 / 3)] for x in [32, 64, 128, 256, 512]]\n",
    "aspect_ratios=[0.5, 1.0, 2.0]\n",
    "strides=[8, 16, 32, 64, 128]\n",
    "offset=0.0"
   ]
  },
  {
   "cell_type": "code",
   "execution_count": 71,
   "id": "52c0d644-c376-4446-a6a6-e73f12dede22",
   "metadata": {},
   "outputs": [],
   "source": [
    "anchor_generator = DefaultAnchorGenerator(\n",
    "    sizes=sizes,\n",
    "    aspect_ratios=aspect_ratios,\n",
    "    strides=strides,\n",
    "    offset=offset\n",
    ")"
   ]
  },
  {
   "cell_type": "code",
   "execution_count": 72,
   "id": "3d9f805f-b436-439b-8b91-d5ada8ad68d6",
   "metadata": {},
   "outputs": [],
   "source": [
    "import torch\n",
    "\n",
    "features = []\n",
    "img_h = img_w = 2048\n",
    "for stride in strides:\n",
    "    feature = torch.randn((10, 10, 2048 // stride, 2048 // stride))\n",
    "    features.append(feature)"
   ]
  },
  {
   "cell_type": "code",
   "execution_count": 73,
   "id": "f95337f9-561e-40e3-9ff7-58aed8b2cd50",
   "metadata": {},
   "outputs": [
    {
     "name": "stderr",
     "output_type": "stream",
     "text": [
      "/Users/giakhang/miniconda3/envs/hope_to_public_net/lib/python3.9/site-packages/torch/functional.py:507: UserWarning: torch.meshgrid: in an upcoming release, it will be required to pass the indexing argument. (Triggered internally at /Users/runner/work/_temp/anaconda/conda-bld/pytorch_1708025539291/work/aten/src/ATen/native/TensorShape.cpp:3550.)\n",
      "  return _VF.meshgrid(tensors, **kwargs)  # type: ignore[attr-defined]\n"
     ]
    }
   ],
   "source": [
    "anchors = anchor_generator(features)"
   ]
  },
  {
   "cell_type": "code",
   "execution_count": 74,
   "id": "498e0810-f7e4-49fe-8e44-11afd89d332e",
   "metadata": {},
   "outputs": [],
   "source": [
    "num_cell_anchors = 9\n",
    "\n",
    "for anchor, feature in zip(anchors, features):\n",
    "    assert len(anchor) == feature.shape[-2] * feature.shape[-1] * num_cell_anchors"
   ]
  },
  {
   "cell_type": "code",
   "execution_count": null,
   "id": "a61b781c-d5e6-4ed5-aa4a-b43e8eae0110",
   "metadata": {},
   "outputs": [],
   "source": []
  },
  {
   "cell_type": "code",
   "execution_count": 75,
   "id": "6c430e6e-03b2-4a5c-bc30-3ebc3314aed3",
   "metadata": {},
   "outputs": [],
   "source": [
    "import os\n",
    "from detectron2.data.datasets import register_coco_instances\n",
    "\n",
    "dataset = 'kitti'\n",
    "annot_dir = '../kitti/training_coco'\n",
    "imgs_dir = '../kitti/training_voc/VOC2012/JPEGImages'\n",
    "\n",
    "for split in ['train', 'val']: \n",
    "    annot_path = os.path.join(annot_dir, f'{split}.json')\n",
    "    d_name = dataset + f'_{split}'\n",
    "    register_coco_instances(d_name, {}, annot_path, imgs_dir)"
   ]
  },
  {
   "cell_type": "code",
   "execution_count": 76,
   "id": "927f821d-bf24-4061-ac18-0e1268f2cf1b",
   "metadata": {},
   "outputs": [],
   "source": [
    "from detectron2.model_zoo import get_config\n",
    "from detectron2.config import LazyConfig\n",
    "from detectron2.config.instantiate import instantiate\n",
    "\n",
    "cfg = LazyConfig.load(\"/Users/giakhang/dev/work/sand_box/hope_to_public_net/detectron2/detectron2/model_zoo/configs/COCO-Detection/retinanet_R_50_FPN_1x.py\")\n",
    "cfg.train.device = 'mps'\n",
    "cfg.dataloader.evaluator.dataset_name = 'kitti_val'\n",
    "cfg.dataloader.train.dataset.names = 'kitti_train'\n",
    "cfg.dataloader.train.mapper.augmentations = []"
   ]
  },
  {
   "cell_type": "code",
   "execution_count": 77,
   "id": "a704db16-69db-4354-b15d-2af5dbc3a1db",
   "metadata": {},
   "outputs": [],
   "source": [
    "train_loader = instantiate(cfg.dataloader.train)"
   ]
  },
  {
   "cell_type": "code",
   "execution_count": 78,
   "id": "9d5f2541-eb79-4b4d-937f-54ec33b1064d",
   "metadata": {},
   "outputs": [],
   "source": [
    "first_batch = next(iter(train_loader))"
   ]
  },
  {
   "cell_type": "code",
   "execution_count": 79,
   "id": "98f27558-73d8-4013-a236-d12b5389757f",
   "metadata": {},
   "outputs": [
    {
     "data": {
      "text/plain": [
       "torch.Size([3, 375, 1242])"
      ]
     },
     "execution_count": 79,
     "metadata": {},
     "output_type": "execute_result"
    }
   ],
   "source": [
    "first_batch[0]['image'].shape"
   ]
  },
  {
   "cell_type": "code",
   "execution_count": 80,
   "id": "b6d0da28-382d-45f8-b02d-2d5bc83970e1",
   "metadata": {},
   "outputs": [],
   "source": [
    "img = first_batch[0]['image'].permute(1, 2, 0)"
   ]
  },
  {
   "cell_type": "code",
   "execution_count": 81,
   "id": "a0cb3fc0-3ae9-40b4-8883-567c15f4a723",
   "metadata": {},
   "outputs": [
    {
     "data": {
      "text/plain": [
       "<matplotlib.image.AxesImage at 0x2d455a6d0>"
      ]
     },
     "execution_count": 81,
     "metadata": {},
     "output_type": "execute_result"
    },
    {
     "data": {
      "image/png": "[encoded data removed]",
      "text/plain": [
       "<Figure size 640x480 with 1 Axes>"
      ]
     },
     "metadata": {},
     "output_type": "display_data"
    }
   ],
   "source": [
    "import matplotlib.pyplot as plt\n",
    "\n",
    "plt.imshow(img.numpy()[:, :, ::-1])"
   ]
  },
  {
   "cell_type": "code",
   "execution_count": 82,
   "id": "b7db4027-444d-42a5-aaa7-6f5659a7ef89",
   "metadata": {},
   "outputs": [
    {
     "data": {
      "text/plain": [
       "Instances(num_instances=6, image_height=375, image_width=1242, fields=[gt_boxes: Boxes(tensor([[1032.,  188., 1242.,  375.],\n",
       "        [ 825.,  137., 1197.,  370.],\n",
       "        [ 786.,  164.,  868.,  235.],\n",
       "        [ 775.,  139.,  844.,  206.],\n",
       "        [ 817.,  186.,  873.,  263.],\n",
       "        [ 700.,  165.,  714.,  194.]])), gt_classes: tensor([7, 7, 7, 6, 2, 1])])"
      ]
     },
     "execution_count": 82,
     "metadata": {},
     "output_type": "execute_result"
    }
   ],
   "source": [
    "first_batch[0]['instances']"
   ]
  },
  {
   "cell_type": "code",
   "execution_count": 83,
   "id": "80057875-7e79-4eb3-95c0-bb2bf35d2b7d",
   "metadata": {},
   "outputs": [
    {
     "data": {
      "text/plain": [
       "Instances(num_instances=1, image_height=375, image_width=1242, fields=[gt_boxes: Boxes(tensor([[775., 139., 844., 206.]])), gt_classes: tensor([6])])"
      ]
     },
     "execution_count": 83,
     "metadata": {},
     "output_type": "execute_result"
    }
   ],
   "source": [
    "first_batch[0]['instances'][3]"
   ]
  },
  {
   "cell_type": "code",
   "execution_count": null,
   "id": "54f4279e-04f0-470b-b53c-9962015d3d5f",
   "metadata": {},
   "outputs": [],
   "source": []
  },
  {
   "cell_type": "code",
   "execution_count": null,
   "id": "ec27d005-3714-4b89-b822-39d508fc6629",
   "metadata": {},
   "outputs": [],
   "source": []
  },
  {
   "cell_type": "code",
   "execution_count": 84,
   "id": "a8090713-3193-4928-ba96-e86c44d0c678",
   "metadata": {
    "scrolled": true
   },
   "outputs": [
    {
     "data": {
      "text/plain": [
       "[Boxes(tensor([[ -22.6274,  -11.3137,   22.6274,   11.3137],\n",
       "         [ -16.0000,  -16.0000,   16.0000,   16.0000],\n",
       "         [ -11.3137,  -22.6274,   11.3137,   22.6274],\n",
       "         ...,\n",
       "         [2004.0812, 2022.0406, 2075.9187, 2057.9595],\n",
       "         [2014.6016, 2014.6016, 2065.3984, 2065.3984],\n",
       "         [2022.0406, 2004.0812, 2057.9595, 2075.9187]])),\n",
       " Boxes(tensor([[ -45.2548,  -22.6274,   45.2548,   22.6274],\n",
       "         [ -32.0000,  -32.0000,   32.0000,   32.0000],\n",
       "         [ -22.6274,  -45.2548,   22.6274,   45.2548],\n",
       "         ...,\n",
       "         [1960.1625, 1996.0812, 2103.8376, 2067.9187],\n",
       "         [1981.2031, 1981.2031, 2082.7969, 2082.7969],\n",
       "         [1996.0812, 1960.1625, 2067.9187, 2103.8376]])),\n",
       " Boxes(tensor([[ -90.5097,  -45.2548,   90.5097,   45.2548],\n",
       "         [ -64.0000,  -64.0000,   64.0000,   64.0000],\n",
       "         [ -45.2548,  -90.5097,   45.2548,   90.5097],\n",
       "         ...,\n",
       "         [1872.3248, 1944.1625, 2159.6750, 2087.8376],\n",
       "         [1914.4064, 1914.4064, 2117.5938, 2117.5938],\n",
       "         [1944.1625, 1872.3248, 2087.8376, 2159.6750]])),\n",
       " Boxes(tensor([[-181.0193,  -90.5097,  181.0193,   90.5097],\n",
       "         [-128.0000, -128.0000,  128.0000,  128.0000],\n",
       "         [ -90.5097, -181.0193,   90.5097,  181.0193],\n",
       "         ...,\n",
       "         [1696.6497, 1840.3248, 2271.3503, 2127.6750],\n",
       "         [1780.8126, 1780.8126, 2187.1873, 2187.1873],\n",
       "         [1840.3248, 1696.6497, 2127.6750, 2271.3503]])),\n",
       " Boxes(tensor([[-362.0387, -181.0193,  362.0387,  181.0193],\n",
       "         [-256.0000, -256.0000,  256.0000,  256.0000],\n",
       "         [-181.0193, -362.0387,  181.0193,  362.0387],\n",
       "         ...,\n",
       "         [1345.2994, 1632.6497, 2494.7007, 2207.3503],\n",
       "         [1513.6254, 1513.6254, 2326.3748, 2326.3748],\n",
       "         [1632.6497, 1345.2994, 2207.3503, 2494.7007]]))]"
      ]
     },
     "execution_count": 84,
     "metadata": {},
     "output_type": "execute_result"
    }
   ],
   "source": [
    "anchors"
   ]
  },
  {
   "cell_type": "code",
   "execution_count": 85,
   "id": "6db2a6dd-689b-4375-9556-4d3076c465ae",
   "metadata": {},
   "outputs": [],
   "source": [
    "from detectron2.structures import Boxes, pairwise_iou\n",
    "from detectron2.structures.boxes import pairwise_intersection"
   ]
  },
  {
   "cell_type": "code",
   "execution_count": 86,
   "id": "1f44d99c-be23-4976-811c-70d2ba85b234",
   "metadata": {},
   "outputs": [
    {
     "data": {
      "text/plain": [
       "785664"
      ]
     },
     "execution_count": 86,
     "metadata": {},
     "output_type": "execute_result"
    }
   ],
   "source": [
    "len(Boxes.cat(anchors))"
   ]
  },
  {
   "cell_type": "code",
   "execution_count": 87,
   "id": "85ea811e-cd67-445e-b5a8-85910abe1911",
   "metadata": {},
   "outputs": [],
   "source": [
    "num_anchors_all_level = 0\n",
    "\n",
    "for anchor in anchors:\n",
    "    num_anchors_all_level += len(anchor)\n",
    "\n",
    "assert num_anchors_all_level == len(Boxes.cat(anchors))"
   ]
  },
  {
   "cell_type": "code",
   "execution_count": 88,
   "id": "e4860ecd-bfe0-4605-8cee-0da70538bb38",
   "metadata": {},
   "outputs": [],
   "source": [
    "boxes_1 = first_batch[0]['instances'].gt_boxes\n",
    "boxes_2 = Boxes.cat(anchors)"
   ]
  },
  {
   "cell_type": "code",
   "execution_count": 89,
   "id": "cf153c42-4890-4810-bee6-28e0f49eadcc",
   "metadata": {},
   "outputs": [],
   "source": [
    "def pairwise_intersection(boxes_1, boxes_2):\n",
    "    boxes_1, boxes_2 = boxes_1.tensor, boxes_2.tensor  # boxes_1.shape = (N, 4); boxes_2.shape = (M, 4)\n",
    "\n",
    "    inter_x1y1 = torch.max(boxes_1[:, None, :2], boxes_2[:, :2])  # inter_x1y1.shape = (N, M, 4)\n",
    "    inter_x2y2 = torch.min(boxes_1[:, None, 2:], boxes_2[:, 2:])  # inter_x2y2.shape = (N, M, 4)\n",
    "    inter_wh = inter_x2y2 - inter_x1y1\n",
    "\n",
    "    inter_wh.clamp_(min=0)\n",
    "    intersection_area = inter_wh.prod(dim=-1)  # [N, M]\n",
    "\n",
    "    return intersection_area"
   ]
  },
  {
   "cell_type": "code",
   "execution_count": 90,
   "id": "5a3a9355-351a-40ea-b379-7905ae15675b",
   "metadata": {},
   "outputs": [],
   "source": [
    "inter_area = pairwise_intersection(boxes_1, boxes_2)"
   ]
  },
  {
   "cell_type": "code",
   "execution_count": 91,
   "id": "5f4c84b4-7ee5-4f39-ad2d-b1194e0b8748",
   "metadata": {},
   "outputs": [],
   "source": [
    "def pairwise_iou(boxes_1, boxes_2):\n",
    "    area1, area2 = boxes_1.area(), boxes_2.area()\n",
    "    inter_area = pairwise_intersection(boxes_1, boxes_2)\n",
    "    iou = torch.where(\n",
    "        inter_area > 0,\n",
    "        inter_area / (area1[:, None] + area2 - inter_area),\n",
    "        torch.zeros(1)\n",
    "    )\n",
    "\n",
    "    return iou"
   ]
  },
  {
   "cell_type": "code",
   "execution_count": 92,
   "id": "051470f0-e126-428d-b66b-996fd831a7f9",
   "metadata": {},
   "outputs": [],
   "source": [
    "iou = pairwise_iou(boxes_1, boxes_2)"
   ]
  },
  {
   "cell_type": "code",
   "execution_count": 93,
   "id": "38c68618-20a9-4266-8ef0-d2df03278657",
   "metadata": {},
   "outputs": [
    {
     "data": {
      "text/plain": [
       "tensor([[0., 0., 0.,  ..., 0., 0., 0.],\n",
       "        [0., 0., 0.,  ..., 0., 0., 0.],\n",
       "        [0., 0., 0.,  ..., 0., 0., 0.],\n",
       "        [0., 0., 0.,  ..., 0., 0., 0.],\n",
       "        [0., 0., 0.,  ..., 0., 0., 0.],\n",
       "        [0., 0., 0.,  ..., 0., 0., 0.]])"
      ]
     },
     "execution_count": 93,
     "metadata": {},
     "output_type": "execute_result"
    }
   ],
   "source": [
    "iou"
   ]
  },
  {
   "cell_type": "code",
   "execution_count": null,
   "id": "afa9241d-a84f-4a65-8163-564ffefd8595",
   "metadata": {},
   "outputs": [],
   "source": []
  },
  {
   "cell_type": "code",
   "execution_count": 94,
   "id": "ee920a52-48af-4fd9-9e68-8819197fbe62",
   "metadata": {},
   "outputs": [],
   "source": [
    "thresholds = [-float('inf'), 0.4, 0.4, float('inf')]\n",
    "labels = [0, -1, 1]\n",
    "\n",
    "def assign_boxes(iou):\n",
    "    assert iou.dim() == 2\n",
    "    assert torch.all(iou >= 0)\n",
    "\n",
    "    # Find the max iou per predicted box\n",
    "    match_values, match_gt_idxs = iou.max(dim=0)\n",
    "    \n",
    "    # Assign label \n",
    "    match_labels = match_gt_idxs.new_full(match_gt_idxs.size(), 1, dtype=torch.int8)\n",
    "    for (l, low, high) in zip(labels, thresholds[:-1], thresholds[1:]):\n",
    "        idx = (match_values >= low) & (match_values < high)\n",
    "        match_labels[idx] = l\n",
    "\n",
    "    return match_gt_idxs, match_labels"
   ]
  },
  {
   "cell_type": "code",
   "execution_count": 95,
   "id": "a26933de-c6b2-41f2-8021-610f94b76143",
   "metadata": {},
   "outputs": [],
   "source": [
    "matched_idxs, anchor_labels = assign_boxes(iou)"
   ]
  },
  {
   "cell_type": "code",
   "execution_count": 96,
   "id": "ebb8b94b-50ba-4067-b386-62dcd0a982b9",
   "metadata": {},
   "outputs": [],
   "source": [
    "gt = first_batch[0]['instances']"
   ]
  },
  {
   "cell_type": "code",
   "execution_count": 97,
   "id": "e46dd8b8-f82d-409a-b5a1-f5d6f65ecf7d",
   "metadata": {},
   "outputs": [],
   "source": [
    "matched_gt_boxes_i = gt.gt_boxes.tensor[matched_idxs]\n",
    "\n",
    "gt_labels_i = gt.gt_classes[matched_idxs]"
   ]
  },
  {
   "cell_type": "code",
   "execution_count": 98,
   "id": "3e6a0d4b-c051-497b-85e2-483b65b852d6",
   "metadata": {},
   "outputs": [
    {
     "data": {
      "text/plain": [
       "torch.Size([785664, 4])"
      ]
     },
     "execution_count": 98,
     "metadata": {},
     "output_type": "execute_result"
    }
   ],
   "source": [
    "matched_gt_boxes_i.shape"
   ]
  },
  {
   "cell_type": "code",
   "execution_count": 99,
   "id": "80320628-0f83-4a9d-aba5-add429feef95",
   "metadata": {},
   "outputs": [
    {
     "data": {
      "text/plain": [
       "torch.Size([785664])"
      ]
     },
     "execution_count": 99,
     "metadata": {},
     "output_type": "execute_result"
    }
   ],
   "source": [
    "matched_idxs.shape"
   ]
  },
  {
   "cell_type": "code",
   "execution_count": 100,
   "id": "37b6feb6-f9be-4682-9d9c-0028c211686b",
   "metadata": {},
   "outputs": [
    {
     "data": {
      "text/plain": [
       "torch.Size([785664])"
      ]
     },
     "execution_count": 100,
     "metadata": {},
     "output_type": "execute_result"
    }
   ],
   "source": [
    "gt_labels_i.shape"
   ]
  },
  {
   "cell_type": "code",
   "execution_count": 101,
   "id": "d4144ec5-81ba-4394-9e26-c31b2a61887b",
   "metadata": {},
   "outputs": [
    {
     "data": {
      "text/plain": [
       "tensor([7, 7, 7, 6, 2, 1])"
      ]
     },
     "execution_count": 101,
     "metadata": {},
     "output_type": "execute_result"
    }
   ],
   "source": [
    "gt.gt_classes"
   ]
  },
  {
   "cell_type": "code",
   "execution_count": 102,
   "id": "0e875b1c-dcbf-49ba-b21b-70f552014b66",
   "metadata": {},
   "outputs": [
    {
     "data": {
      "text/plain": [
       "tensor([True, True, True,  ..., True, True, True])"
      ]
     },
     "execution_count": 102,
     "metadata": {},
     "output_type": "execute_result"
    }
   ],
   "source": [
    "anchor_labels == 0"
   ]
  },
  {
   "cell_type": "code",
   "execution_count": 103,
   "id": "c8ec20fe-9ffb-4e22-b97f-7a0d89a87501",
   "metadata": {},
   "outputs": [
    {
     "data": {
      "text/plain": [
       "torch.Size([785664])"
      ]
     },
     "execution_count": 103,
     "metadata": {},
     "output_type": "execute_result"
    }
   ],
   "source": [
    "gt_labels_i.shape"
   ]
  },
  {
   "cell_type": "code",
   "execution_count": 104,
   "id": "d7af826f-8d34-46da-8fbe-805465285da0",
   "metadata": {},
   "outputs": [
    {
     "data": {
      "text/plain": [
       "Instances(num_instances=6, image_height=375, image_width=1242, fields=[gt_boxes: Boxes(tensor([[1032.,  188., 1242.,  375.],\n",
       "        [ 825.,  137., 1197.,  370.],\n",
       "        [ 786.,  164.,  868.,  235.],\n",
       "        [ 775.,  139.,  844.,  206.],\n",
       "        [ 817.,  186.,  873.,  263.],\n",
       "        [ 700.,  165.,  714.,  194.]])), gt_classes: tensor([7, 7, 7, 6, 2, 1])])"
      ]
     },
     "execution_count": 104,
     "metadata": {},
     "output_type": "execute_result"
    }
   ],
   "source": [
    "first_batch[0]['instances']"
   ]
  },
  {
   "cell_type": "code",
   "execution_count": null,
   "id": "e2a1ac60-6d75-47ae-b6f9-0209ccd329f6",
   "metadata": {},
   "outputs": [],
   "source": []
  },
  {
   "cell_type": "code",
   "execution_count": null,
   "id": "77b752f2-bcac-4486-b236-61377760efda",
   "metadata": {},
   "outputs": [],
   "source": []
  },
  {
   "cell_type": "code",
   "execution_count": 105,
   "id": "b1bb52c2-407d-4bab-8946-d72fd0539338",
   "metadata": {},
   "outputs": [],
   "source": [
    "from detectron2.layers import cat\n",
    "\n",
    "strides = [8, 16, 32, 64, 128]\n",
    "img_h = img_w = 2048\n",
    "num_anchor_per_loc = 9\n",
    "batch_size = 16\n",
    "num_classes = 9\n",
    "\n",
    "pred_anchor_deltas, pred_logits = [], []\n",
    "\n",
    "for stride in strides:\n",
    "    feature_w, feature_h = img_w // stride, img_h // stride\n",
    "    output_from_level_i = torch.randn(batch_size, \n",
    "                                      feature_w * feature_h * num_anchor_per_loc,\n",
    "                                      4)\n",
    "    pred_anchor_deltas.append(output_from_level_i)\n",
    "\n",
    "    torch.rand(batch_size,\n",
    "                "
   ]
  },
  {
   "cell_type": "code",
   "execution_count": 133,
   "id": "5bcc52a7-4ace-4913-b7c1-f73cce3e95d7",
   "metadata": {},
   "outputs": [],
   "source": [
    "features = []\n",
    "img_h = img_w = 2048\n",
    "for stride in strides:\n",
    "    feature = torch.randn((10, 10, 2048 // stride, 2048 // stride))\n",
    "    features.append(feature)\n",
    "\n",
    "anchors = anchor_generator(features)\n",
    "\n",
    "gt_instances = []\n",
    "for img in first_batch:\n",
    "    gt_instances.append(img['instances'].gt_boxes)\n",
    "\n",
    "gt_labels = []\n",
    "num_classes = 9\n",
    "\n",
    "for i, gt_boxes_per_img in enumerate(gt_instances):\n",
    "    iou = pairwise_iou(gt_boxes_per_img, Boxes.cat(anchors))\n",
    "    match_gt_idxs, match_labels = assign_boxes(iou)\n",
    "\n",
    "    gt_box = first_batch[i]['instances'].gt_boxes.tensor\n",
    "    gt_cls = first_batch[i]['instances'].gt_classes\n",
    "\n",
    "    match_gt_boxes = gt_box[match_gt_idxs]\n",
    "    match_cls = gt_cls[match_gt_idxs]\n",
    "    match_cls[match_labels == 0] = num_classes\n",
    "    match_cls[match_labels == -1] = -1\n",
    "    \n",
    "    gt_labels.append(match_cls)"
   ]
  },
  {
   "cell_type": "code",
   "execution_count": 107,
   "id": "28cf4e00-fcc1-48dc-bfd8-4175cf99c355",
   "metadata": {},
   "outputs": [
    {
     "data": {
      "text/plain": [
       "torch.Size([16, 2304, 4])"
      ]
     },
     "execution_count": 107,
     "metadata": {},
     "output_type": "execute_result"
    }
   ],
   "source": [
    "pred_anchor_deltas[-1].shape"
   ]
  },
  {
   "cell_type": "code",
   "execution_count": 108,
   "id": "62c40d4d-248f-42b5-aff2-19d758292797",
   "metadata": {},
   "outputs": [],
   "source": [
    "gt_labels = torch.stack(gt_labels)"
   ]
  },
  {
   "cell_type": "code",
   "execution_count": 114,
   "id": "ec329606-4c21-4cea-9175-4bd36326d67a",
   "metadata": {},
   "outputs": [],
   "source": [
    "pos_mask = (gt_labels >= 0) & (gt_labels != num_classes)"
   ]
  },
  {
   "cell_type": "code",
   "execution_count": 109,
   "id": "06f0e1f0-8b72-40db-aac9-9a837043fdf4",
   "metadata": {},
   "outputs": [],
   "source": [
    "gt_boxes = torch.stack(gt_boxes)"
   ]
  },
  {
   "cell_type": "code",
   "execution_count": 110,
   "id": "1f395ccc-ac49-4ac4-8c7a-873276be87ee",
   "metadata": {},
   "outputs": [],
   "source": [
    "preds = cat(pred_anchor_deltas, dim=1)"
   ]
  },
  {
   "cell_type": "code",
   "execution_count": 111,
   "id": "692082c9-1945-46c2-8349-e5892e919178",
   "metadata": {},
   "outputs": [
    {
     "data": {
      "text/plain": [
       "torch.Size([16, 785664, 4])"
      ]
     },
     "execution_count": 111,
     "metadata": {},
     "output_type": "execute_result"
    }
   ],
   "source": [
    "preds.shape"
   ]
  },
  {
   "cell_type": "code",
   "execution_count": 112,
   "id": "510c1cba-2e08-4f02-b463-4bbe302ca37a",
   "metadata": {},
   "outputs": [
    {
     "data": {
      "text/plain": [
       "torch.Size([16, 785664, 4])"
      ]
     },
     "execution_count": 112,
     "metadata": {},
     "output_type": "execute_result"
    }
   ],
   "source": [
    "gt_boxes.shape"
   ]
  },
  {
   "cell_type": "code",
   "execution_count": 115,
   "id": "47d60c54-1a9c-4836-b5ab-afb1146207cc",
   "metadata": {},
   "outputs": [
    {
     "data": {
      "text/plain": [
       "tensor(5952)"
      ]
     },
     "execution_count": 115,
     "metadata": {},
     "output_type": "execute_result"
    }
   ],
   "source": [
    "torch.sum(pos_mask)"
   ]
  },
  {
   "cell_type": "code",
   "execution_count": 116,
   "id": "6dcdc353-e4bf-4669-a25b-6d93dcac4374",
   "metadata": {},
   "outputs": [
    {
     "data": {
      "text/plain": [
       "torch.Size([5952, 4])"
      ]
     },
     "execution_count": 116,
     "metadata": {},
     "output_type": "execute_result"
    }
   ],
   "source": [
    "preds[pos_mask].shape"
   ]
  },
  {
   "cell_type": "code",
   "execution_count": 117,
   "id": "28fa6ff7-4add-4e01-bcb1-8529b28fe29a",
   "metadata": {},
   "outputs": [
    {
     "data": {
      "text/plain": [
       "torch.Size([16, 785664])"
      ]
     },
     "execution_count": 117,
     "metadata": {},
     "output_type": "execute_result"
    }
   ],
   "source": [
    "gt_labels.shape"
   ]
  },
  {
   "cell_type": "code",
   "execution_count": 118,
   "id": "412529fe-1d18-463f-9fec-d88115ab084e",
   "metadata": {},
   "outputs": [
    {
     "data": {
      "text/plain": [
       "Instances(num_instances=6, image_height=375, image_width=1242, fields=[gt_boxes: Boxes(tensor([[1032.,  188., 1242.,  375.],\n",
       "        [ 825.,  137., 1197.,  370.],\n",
       "        [ 786.,  164.,  868.,  235.],\n",
       "        [ 775.,  139.,  844.,  206.],\n",
       "        [ 817.,  186.,  873.,  263.],\n",
       "        [ 700.,  165.,  714.,  194.]])), gt_classes: tensor([7, 7, 7, 6, 2, 1])])"
      ]
     },
     "execution_count": 118,
     "metadata": {},
     "output_type": "execute_result"
    }
   ],
   "source": [
    "first_batch[0]['instances']"
   ]
  },
  {
   "cell_type": "code",
   "execution_count": null,
   "id": "a1dedff8-2b3d-43a4-a43b-f23ddca24201",
   "metadata": {},
   "outputs": [],
   "source": []
  },
  {
   "cell_type": "code",
   "execution_count": 119,
   "id": "becc0f23-03fc-4b26-bbfd-d4ffc1945765",
   "metadata": {},
   "outputs": [],
   "source": [
    "import torch\n",
    "import torch.nn.functional as F\n",
    "\n",
    "cls_ids = torch.arange(0, 5) % 3"
   ]
  },
  {
   "cell_type": "code",
   "execution_count": 120,
   "id": "2f0eb12c-e869-435e-917b-2fee0dea02ea",
   "metadata": {},
   "outputs": [
    {
     "data": {
      "text/plain": [
       "tensor([[1, 0, 0],\n",
       "        [0, 1, 0],\n",
       "        [0, 0, 1],\n",
       "        [1, 0, 0],\n",
       "        [0, 1, 0]])"
      ]
     },
     "execution_count": 120,
     "metadata": {},
     "output_type": "execute_result"
    }
   ],
   "source": [
    "F.one_hot(cls_ids, num_classes=3)"
   ]
  },
  {
   "cell_type": "code",
   "execution_count": 170,
   "id": "21f5cc25-eec2-46f8-99d4-ba1e936cb575",
   "metadata": {},
   "outputs": [],
   "source": [
    "from functools import reduce\n",
    "\n",
    "num_classes = 9\n",
    "batch_size = 2\n",
    "img_size = 512\n",
    "strides = [8, 16, 32, 64, 128]\n",
    "feature_map_sizes = [img_size // s for s in strides]\n",
    "num_anchors_per_loc = 9\n",
    "num_anchors_all_pyramid = 0\n",
    "for grid_size in feature_map_sizes:\n",
    "    num_anchors_all_pyramid += grid_size ** 2 * num_anchors_per_loc\n",
    "    \n",
    "shape = (batch_size, num_anchors_all_pyramid)\n",
    "\n",
    "gt_labels = torch.randint(-1, num_classes + 1, shape)"
   ]
  },
  {
   "cell_type": "code",
   "execution_count": 171,
   "id": "71138e3d-7117-4e8f-8b81-a61b828f8a16",
   "metadata": {},
   "outputs": [
    {
     "data": {
      "text/plain": [
       "torch.Size([2, 49104])"
      ]
     },
     "execution_count": 171,
     "metadata": {},
     "output_type": "execute_result"
    }
   ],
   "source": [
    "gt_labels.shape"
   ]
  },
  {
   "cell_type": "code",
   "execution_count": 188,
   "id": "be1b8921-8c36-42aa-a367-3612e68b3358",
   "metadata": {},
   "outputs": [],
   "source": [
    "gt_labels_target = F.one_hot(gt_labels[gt_labels >= 0], num_classes=num_classes + 1)[:, :-1]"
   ]
  },
  {
   "cell_type": "code",
   "execution_count": 189,
   "id": "b8f4c43e-4a2c-475c-a726-60466faba776",
   "metadata": {},
   "outputs": [
    {
     "data": {
      "text/plain": [
       "torch.Size([89300, 9])"
      ]
     },
     "execution_count": 189,
     "metadata": {},
     "output_type": "execute_result"
    }
   ],
   "source": [
    "gt_labels_target.shape"
   ]
  },
  {
   "cell_type": "code",
   "execution_count": 190,
   "id": "400e0712-fd95-434c-b0ea-369fc739fae1",
   "metadata": {},
   "outputs": [],
   "source": [
    "num_classes = 9\n",
    "batch_size = 2\n",
    "img_size = 512\n",
    "strides = [8, 16, 32, 64, 128]\n",
    "feature_map_sizes = [img_size // s for s in strides]\n",
    "num_anchors_per_loc = 9\n",
    "num_anchors_all_pyramid = 0\n",
    "for grid_size in feature_map_sizes:\n",
    "    num_anchors_all_pyramid += grid_size ** 2 * num_anchors_per_loc\n",
    "\n",
    "shape = (batch_size, num_anchors_all_pyramid)\n",
    "pred_logits = []\n",
    "\n",
    "for stride in strides:\n",
    "    grid_s = img_size // stride\n",
    "    pred_logit_in_level_i = torch.rand((batch_size, grid_s ** 2 * num_anchors_per_loc, num_classes))\n",
    "    pred_logits.append(pred_logit_in_level_i)"
   ]
  },
  {
   "cell_type": "code",
   "execution_count": 191,
   "id": "71b5bffc-e7a6-4f95-9519-4ef34d9019d1",
   "metadata": {},
   "outputs": [],
   "source": [
    "pred_logits = cat(pred_logits, dim=1)"
   ]
  },
  {
   "cell_type": "code",
   "execution_count": 192,
   "id": "49ccac83-b399-48d1-b93f-20870e788947",
   "metadata": {},
   "outputs": [
    {
     "data": {
      "text/plain": [
       "torch.Size([89300, 9])"
      ]
     },
     "execution_count": 192,
     "metadata": {},
     "output_type": "execute_result"
    }
   ],
   "source": [
    "pred_logits[gt_labels >= 0].shape"
   ]
  },
  {
   "cell_type": "code",
   "execution_count": null,
   "id": "78d865a5-aa14-4d8a-87ba-51c86e2bdfda",
   "metadata": {},
   "outputs": [],
   "source": []
  },
  {
   "cell_type": "code",
   "execution_count": 194,
   "id": "2ec6bf9a-7e36-4bc5-bfee-13279032e933",
   "metadata": {},
   "outputs": [
    {
     "data": {
      "text/plain": [
       "16"
      ]
     },
     "execution_count": 194,
     "metadata": {},
     "output_type": "execute_result"
    }
   ],
   "source": [
    "len(first_batch)"
   ]
  },
  {
   "cell_type": "code",
   "execution_count": null,
   "id": "58d2e3ef-0918-41df-bdf9-4f04a045573b",
   "metadata": {},
   "outputs": [],
   "source": []
  },
  {
   "cell_type": "code",
   "execution_count": null,
   "id": "cf503e3e-d3ed-4467-8a91-6cc9e041fc0c",
   "metadata": {},
   "outputs": [],
   "source": []
  }
 ],
 "metadata": {
  "kernelspec": {
   "display_name": "Python 3 (ipykernel)",
   "language": "python",
   "name": "python3"
  },
  "language_info": {
   "codemirror_mode": {
    "name": "ipython",
    "version": 3
   },
   "file_extension": ".py",
   "mimetype": "text/x-python",
   "name": "python",
   "nbconvert_exporter": "python",
   "pygments_lexer": "ipython3",
   "version": "3.9.18"
  }
 },
 "nbformat": 4,
 "nbformat_minor": 5
}
