{
 "cells": [
  {
   "cell_type": "code",
   "execution_count": 1,
   "metadata": {},
   "outputs": [
    {
     "name": "stdout",
     "output_type": "stream",
     "text": [
      "/home/giakhang/dev/multi_task_autopilot/YOLOF-Mask/test\n"
     ]
    }
   ],
   "source": [
    "!pwd"
   ]
  },
  {
   "cell_type": "code",
   "execution_count": 12,
   "metadata": {},
   "outputs": [
    {
     "name": "stdout",
     "output_type": "stream",
     "text": [
      "/home/giakhang/dev/multi_task_autopilot/YOLOF-Mask/yolof_mask\n"
     ]
    }
   ],
   "source": [
    "%cd /home/giakhang/dev/multi_task_autopilot/YOLOF-Mask/yolof_mask"
   ]
  },
  {
   "cell_type": "code",
   "execution_count": 13,
   "metadata": {},
   "outputs": [],
   "source": [
    "import torch\n",
    "from modeling.semantic_segmentation.semantic_segmentation_branch import SemanticSegmentationBranch\n",
    "\n",
    "from detectron2.layers import ShapeSpec"
   ]
  },
  {
   "cell_type": "code",
   "execution_count": 15,
   "metadata": {},
   "outputs": [
    {
     "data": {
      "text/plain": [
       "SemanticSegmentationBranch(\n",
       "  (sem_seg_head): Sequential(\n",
       "    (0): Conv2d(\n",
       "      512, 256, kernel_size=(3, 3), stride=(1, 1), padding=(1, 1), bias=False\n",
       "      (norm): GroupNorm(32, 256, eps=1e-05, affine=True)\n",
       "    )\n",
       "    (1): Upsample(scale_factor=2.0, mode='bilinear')\n",
       "    (2): Conv2d(\n",
       "      256, 128, kernel_size=(3, 3), stride=(1, 1), padding=(1, 1), bias=False\n",
       "      (norm): GroupNorm(32, 128, eps=1e-05, affine=True)\n",
       "    )\n",
       "    (3): Upsample(scale_factor=2.0, mode='bilinear')\n",
       "    (4): Conv2d(\n",
       "      128, 128, kernel_size=(3, 3), stride=(1, 1), padding=(1, 1), bias=False\n",
       "      (norm): GroupNorm(32, 128, eps=1e-05, affine=True)\n",
       "    )\n",
       "    (5): Upsample(scale_factor=2.0, mode='bilinear')\n",
       "  )\n",
       "  (predictor): Conv2d(128, 31, kernel_size=(1, 1), stride=(1, 1))\n",
       ")"
      ]
     },
     "execution_count": 15,
     "metadata": {},
     "output_type": "execute_result"
    }
   ],
   "source": [
    "sem_seg_head = SemanticSegmentationBranch(\n",
    "    input_shape=ShapeSpec(stride=32, channels=512),\n",
    "    ignore_value=0,\n",
    "    num_classes=31,\n",
    "    last_conv_dims=128,\n",
    "    common_stride=4,\n",
    "    loss_weight=0.5,\n",
    "    norm=\"GN\",\n",
    ")\n",
    "\n",
    "sem_seg_head.to(\"cuda\")"
   ]
  },
  {
   "cell_type": "code",
   "execution_count": 16,
   "metadata": {},
   "outputs": [],
   "source": [
    "input_tensor = torch.randn(1, 512, 23, 40).to(\"cuda\")\n",
    "sem_seg_head.eval()\n",
    "output = sem_seg_head(input_tensor)"
   ]
  },
  {
   "cell_type": "code",
   "execution_count": 17,
   "metadata": {},
   "outputs": [],
   "source": [
    "sem_seg_rs, _ = output"
   ]
  },
  {
   "cell_type": "code",
   "execution_count": 18,
   "metadata": {},
   "outputs": [
    {
     "data": {
      "text/plain": [
       "torch.Size([1, 31, 736, 1280])"
      ]
     },
     "execution_count": 18,
     "metadata": {},
     "output_type": "execute_result"
    }
   ],
   "source": [
    "sem_seg_rs.shape"
   ]
  },
  {
   "cell_type": "code",
   "execution_count": 19,
   "metadata": {},
   "outputs": [
    {
     "data": {
      "text/plain": [
       "SemanticSegmentationBranch(\n",
       "  (sem_seg_head): Sequential(\n",
       "    (0): Conv2d(\n",
       "      512, 256, kernel_size=(3, 3), stride=(1, 1), padding=(1, 1), bias=False\n",
       "      (norm): GroupNorm(32, 256, eps=1e-05, affine=True)\n",
       "    )\n",
       "    (1): Upsample(scale_factor=2.0, mode='bilinear')\n",
       "    (2): Conv2d(\n",
       "      256, 128, kernel_size=(3, 3), stride=(1, 1), padding=(1, 1), bias=False\n",
       "      (norm): GroupNorm(32, 128, eps=1e-05, affine=True)\n",
       "    )\n",
       "    (3): Upsample(scale_factor=2.0, mode='bilinear')\n",
       "    (4): Conv2d(\n",
       "      128, 128, kernel_size=(3, 3), stride=(1, 1), padding=(1, 1), bias=False\n",
       "      (norm): GroupNorm(32, 128, eps=1e-05, affine=True)\n",
       "    )\n",
       "    (5): Upsample(scale_factor=2.0, mode='bilinear')\n",
       "  )\n",
       "  (predictor): Conv2d(128, 31, kernel_size=(1, 1), stride=(1, 1))\n",
       ")"
      ]
     },
     "execution_count": 19,
     "metadata": {},
     "output_type": "execute_result"
    }
   ],
   "source": [
    "sem_seg_head = SemanticSegmentationBranch(\n",
    "    input_shape=ShapeSpec(stride=32, channels=512),\n",
    "    ignore_value=0,\n",
    "    num_classes=31,\n",
    "    last_conv_dims=128,\n",
    "    common_stride=4,\n",
    "    loss_weight=0.5,\n",
    "    norm=\"GN\",\n",
    ")\n",
    "\n",
    "sem_seg_head.to(\"cuda\")"
   ]
  },
  {
   "cell_type": "code",
   "execution_count": 20,
   "metadata": {},
   "outputs": [],
   "source": [
    "output_tensor = torch.randn(1, 512, 23, 40).to(\"cuda\")\n",
    "target_tensor = torch.randint(31, (1, 736, 1280)).to(\"cuda\")\n",
    "output = sem_seg_head(input_tensor, target_tensor)"
   ]
  },
  {
   "cell_type": "code",
   "execution_count": 21,
   "metadata": {},
   "outputs": [],
   "source": [
    "_, loss = output"
   ]
  },
  {
   "cell_type": "code",
   "execution_count": null,
   "metadata": {},
   "outputs": [],
   "source": []
  }
 ],
 "metadata": {
  "kernelspec": {
   "display_name": "yolof_mask",
   "language": "python",
   "name": "python3"
  },
  "language_info": {
   "codemirror_mode": {
    "name": "ipython",
    "version": 3
   },
   "file_extension": ".py",
   "mimetype": "text/x-python",
   "name": "python",
   "nbconvert_exporter": "python",
   "pygments_lexer": "ipython3",
   "version": "3.10.15"
  }
 },
 "nbformat": 4,
 "nbformat_minor": 2
}
