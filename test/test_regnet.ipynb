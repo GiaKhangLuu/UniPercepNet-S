{
 "cells": [
  {
   "cell_type": "code",
   "execution_count": 1,
   "metadata": {},
   "outputs": [
    {
     "name": "stdout",
     "output_type": "stream",
     "text": [
      "/home/giakhang/dev/multi_task_autopilot/YOLOF-Mask/test\n"
     ]
    }
   ],
   "source": [
    "!pwd"
   ]
  },
  {
   "cell_type": "code",
   "execution_count": 3,
   "metadata": {},
   "outputs": [],
   "source": [
    "from detectron2.modeling.backbone import RegNet\n",
    "from detectron2.modeling.backbone.regnet import SimpleStem, ResBottleneckBlock"
   ]
  },
  {
   "cell_type": "code",
   "execution_count": 10,
   "metadata": {},
   "outputs": [],
   "source": [
    "reg_net = RegNet(\n",
    "    stem_class=SimpleStem,\n",
    "    stem_width=32,\n",
    "    block_class=ResBottleneckBlock,\n",
    "    depth=23,\n",
    "    w_a=38.65,\n",
    "    w_0=96,\n",
    "    w_m=2.43,\n",
    "    group_width=40,\n",
    "    freeze_at=2,\n",
    "    norm=\"FrozenBN\",\n",
    "    out_features=[\"s4\"]\n",
    ")"
   ]
  },
  {
   "cell_type": "code",
   "execution_count": 11,
   "metadata": {},
   "outputs": [
    {
     "data": {
      "text/plain": [
       "{'s4': ShapeSpec(channels=1360, height=None, width=None, stride=32)}"
      ]
     },
     "execution_count": 11,
     "metadata": {},
     "output_type": "execute_result"
    }
   ],
   "source": [
    "reg_net.output_shape()"
   ]
  },
  {
   "cell_type": "code",
   "execution_count": null,
   "metadata": {},
   "outputs": [],
   "source": []
  }
 ],
 "metadata": {
  "kernelspec": {
   "display_name": "yolof_mask",
   "language": "python",
   "name": "python3"
  },
  "language_info": {
   "codemirror_mode": {
    "name": "ipython",
    "version": 3
   },
   "file_extension": ".py",
   "mimetype": "text/x-python",
   "name": "python",
   "nbconvert_exporter": "python",
   "pygments_lexer": "ipython3",
   "version": "3.10.15"
  }
 },
 "nbformat": 4,
 "nbformat_minor": 2
}
