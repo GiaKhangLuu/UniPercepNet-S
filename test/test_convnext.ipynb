{
 "cells": [
  {
   "cell_type": "code",
   "execution_count": 1,
   "metadata": {},
   "outputs": [
    {
     "name": "stdout",
     "output_type": "stream",
     "text": [
      "/home/giakhang/dev/multi_task_autopilot/YOLOF-Mask/test\n"
     ]
    }
   ],
   "source": [
    "!pwd"
   ]
  },
  {
   "cell_type": "code",
   "execution_count": 1,
   "metadata": {},
   "outputs": [],
   "source": [
    "import sys\n",
    "import torch.nn as nn\n",
    "import numpy as np\n",
    "sys.path.append(\"/home/giakhang/dev/multi_task_autopilot/YOLOF-Mask\")"
   ]
  },
  {
   "cell_type": "code",
   "execution_count": 2,
   "metadata": {},
   "outputs": [],
   "source": [
    "import torch\n",
    "from yolof_mask.modeling.backbone.convnext import ConvNeXt"
   ]
  },
  {
   "cell_type": "code",
   "execution_count": 11,
   "metadata": {},
   "outputs": [],
   "source": [
    "convnext = ConvNeXt(out_features=[\"stage_1\", \"stage_2\", \"stage_3\", \"stage_4\"])"
   ]
  },
  {
   "cell_type": "code",
   "execution_count": 12,
   "metadata": {},
   "outputs": [
    {
     "data": {
      "text/plain": [
       "{'stage_1': 96, 'stage_2': 192, 'stage_3': 384, 'stage_4': 768}"
      ]
     },
     "execution_count": 12,
     "metadata": {},
     "output_type": "execute_result"
    }
   ],
   "source": [
    "convnext._out_feature_channels"
   ]
  },
  {
   "cell_type": "code",
   "execution_count": 13,
   "metadata": {},
   "outputs": [
    {
     "data": {
      "text/plain": [
       "{'stage_1': 4, 'stage_2': 8, 'stage_3': 16, 'stage_4': 32}"
      ]
     },
     "execution_count": 13,
     "metadata": {},
     "output_type": "execute_result"
    }
   ],
   "source": [
    "convnext._out_feature_strides"
   ]
  },
  {
   "cell_type": "code",
   "execution_count": 14,
   "metadata": {},
   "outputs": [
    {
     "data": {
      "text/plain": [
       "{'stage_1': ShapeSpec(channels=96, height=None, width=None, stride=4),\n",
       " 'stage_2': ShapeSpec(channels=192, height=None, width=None, stride=8),\n",
       " 'stage_3': ShapeSpec(channels=384, height=None, width=None, stride=16),\n",
       " 'stage_4': ShapeSpec(channels=768, height=None, width=None, stride=32)}"
      ]
     },
     "execution_count": 14,
     "metadata": {},
     "output_type": "execute_result"
    }
   ],
   "source": [
    "convnext.output_shape()"
   ]
  },
  {
   "cell_type": "code",
   "execution_count": 15,
   "metadata": {},
   "outputs": [],
   "source": [
    "input = torch.randn(1, 3, 720, 1280)"
   ]
  },
  {
   "cell_type": "code",
   "execution_count": 16,
   "metadata": {},
   "outputs": [],
   "source": [
    "output = convnext(input)"
   ]
  },
  {
   "cell_type": "code",
   "execution_count": null,
   "metadata": {},
   "outputs": [],
   "source": []
  },
  {
   "cell_type": "code",
   "execution_count": 20,
   "metadata": {},
   "outputs": [
    {
     "data": {
      "text/plain": [
       "torch.Size([1, 768, 22, 40])"
      ]
     },
     "execution_count": 20,
     "metadata": {},
     "output_type": "execute_result"
    }
   ],
   "source": [
    "output['stage_4'].shape"
   ]
  },
  {
   "cell_type": "code",
   "execution_count": null,
   "metadata": {},
   "outputs": [],
   "source": []
  },
  {
   "cell_type": "code",
   "execution_count": null,
   "metadata": {},
   "outputs": [],
   "source": []
  },
  {
   "cell_type": "code",
   "execution_count": 3,
   "metadata": {},
   "outputs": [],
   "source": [
    "convnext = ConvNeXt(\n",
    "    in_chans=3, \n",
    "    depths=[3, 3, 27, 3], \n",
    "    dims=[128, 256, 512, 1024], \n",
    "    drop_path_rate=0., \n",
    "    layer_scale_init_value=1e-6, \n",
    "    out_features=[\"stage_4\"],\n",
    "    size_divisibility=32,\n",
    ")"
   ]
  },
  {
   "cell_type": "code",
   "execution_count": 4,
   "metadata": {},
   "outputs": [
    {
     "name": "stderr",
     "output_type": "stream",
     "text": [
      "Downloading: \"https://dl.fbaipublicfiles.com/convnext/convnext_base_22k_224.pth\" to /home/giakhang/.cache/torch/hub/checkpoints/convnext_base_22k_224.pth\n",
      "100%|██████████| 420M/420M [00:11<00:00, 39.4MB/s] \n"
     ]
    }
   ],
   "source": [
    "url = \"https://dl.fbaipublicfiles.com/convnext/convnext_base_22k_224.pth\"\n",
    "checkpoint = torch.hub.load_state_dict_from_url(url=url, map_location=\"cpu\", check_hash=True)"
   ]
  },
  {
   "cell_type": "code",
   "execution_count": 5,
   "metadata": {},
   "outputs": [],
   "source": [
    "state_dict = checkpoint[\"model\"]\n",
    "new_state_dict = {}\n",
    "\n",
    "for key, value in state_dict.items():\n",
    "    if \"downsample_layers\" in key:\n",
    "        old_keys = key.split(\".\")\n",
    "        new_keys = old_keys\n",
    "        new_keys[1] = f\"downsample_layer_{int(old_keys[1]) + 1}\"\n",
    "        new_key = \".\".join(new_keys)\n",
    "    elif \"stages\" in key:\n",
    "        old_keys = key.split(\".\")\n",
    "        new_keys = old_keys\n",
    "        new_keys[1] = f\"stage_{int(old_keys[1]) + 1}\"\n",
    "        new_key = \".\".join(new_keys)\n",
    "    else:\n",
    "        continue\n",
    "    new_state_dict[new_key] = value"
   ]
  },
  {
   "cell_type": "code",
   "execution_count": 6,
   "metadata": {},
   "outputs": [
    {
     "data": {
      "text/plain": [
       "_IncompatibleKeys(missing_keys=['norm_1.weight', 'norm_1.bias', 'norm_2.weight', 'norm_2.bias', 'norm_3.weight', 'norm_3.bias', 'norm_4.weight', 'norm_4.bias'], unexpected_keys=[])"
      ]
     },
     "execution_count": 6,
     "metadata": {},
     "output_type": "execute_result"
    }
   ],
   "source": [
    "convnext.load_state_dict(new_state_dict, strict=False)"
   ]
  },
  {
   "cell_type": "code",
   "execution_count": null,
   "metadata": {},
   "outputs": [],
   "source": []
  }
 ],
 "metadata": {
  "kernelspec": {
   "display_name": "yolof_mask",
   "language": "python",
   "name": "python3"
  },
  "language_info": {
   "codemirror_mode": {
    "name": "ipython",
    "version": 3
   },
   "file_extension": ".py",
   "mimetype": "text/x-python",
   "name": "python",
   "nbconvert_exporter": "python",
   "pygments_lexer": "ipython3",
   "version": "3.10.15"
  }
 },
 "nbformat": 4,
 "nbformat_minor": 2
}
