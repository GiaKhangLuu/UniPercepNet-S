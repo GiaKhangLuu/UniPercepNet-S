{
 "cells": [
  {
   "cell_type": "code",
   "execution_count": 2,
   "metadata": {},
   "outputs": [],
   "source": [
    "import json\n",
    "import re"
   ]
  },
  {
   "cell_type": "code",
   "execution_count": 4,
   "metadata": {},
   "outputs": [],
   "source": [
    "file_path = './detections_test-dev2017_regnety_4gf_sam_4x_results.json'"
   ]
  },
  {
   "cell_type": "code",
   "execution_count": 5,
   "metadata": {},
   "outputs": [],
   "source": [
    "with open(file_path, 'r', encoding='utf-8') as f:\n",
    "    data = json.load(f)"
   ]
  },
  {
   "cell_type": "code",
   "execution_count": 4,
   "metadata": {},
   "outputs": [
    {
     "name": "stdout",
     "output_type": "stream",
     "text": [
      "✅ JSON fixed and loaded.\n",
      "Saved to: fixed_file.json\n"
     ]
    }
   ],
   "source": [
    "output_path = \"fixed_file.json\"\n",
    "\n",
    "# Step 1: Read the content\n",
    "with open(file_path, \"r\") as f:\n",
    "    content = f.read()\n",
    "\n",
    "# Step 2: Replace 2 or more commas with a single comma\n",
    "fixed_content = re.sub(r\",\\s*,{1,}\", \",\", content)\n",
    "\n",
    "# Step 3: Truncate to last valid closing bracket\n",
    "cutoff = max(fixed_content.rfind(\"}\"), fixed_content.rfind(\"]\"))\n",
    "fixed_content = fixed_content[:cutoff + 1]\n",
    "\n",
    "# Step 4: Try loading the JSON\n",
    "try:\n",
    "    data = json.loads(fixed_content)\n",
    "    print(\"✅ JSON fixed and loaded.\")\n",
    "\n",
    "    with open(output_path, \"w\") as f:\n",
    "        json.dump(data, f, indent=2)\n",
    "    print(f\"Saved to: {output_path}\")\n",
    "except json.JSONDecodeError as e:\n",
    "    print(\"❌ Still invalid after fix:\", e)"
   ]
  },
  {
   "cell_type": "code",
   "execution_count": null,
   "metadata": {},
   "outputs": [],
   "source": []
  },
  {
   "cell_type": "code",
   "execution_count": 8,
   "metadata": {},
   "outputs": [
    {
     "data": {
      "text/plain": [
       "861857"
      ]
     },
     "execution_count": 8,
     "metadata": {},
     "output_type": "execute_result"
    }
   ],
   "source": [
    "len(data)"
   ]
  },
  {
   "cell_type": "code",
   "execution_count": null,
   "metadata": {},
   "outputs": [],
   "source": []
  },
  {
   "cell_type": "code",
   "execution_count": null,
   "metadata": {},
   "outputs": [],
   "source": []
  }
 ],
 "metadata": {
  "kernelspec": {
   "display_name": "rdpn6d",
   "language": "python",
   "name": "python3"
  },
  "language_info": {
   "codemirror_mode": {
    "name": "ipython",
    "version": 3
   },
   "file_extension": ".py",
   "mimetype": "text/x-python",
   "name": "python",
   "nbconvert_exporter": "python",
   "pygments_lexer": "ipython3",
   "version": "3.10.14"
  }
 },
 "nbformat": 4,
 "nbformat_minor": 2
}
