{
 "cells": [
  {
   "cell_type": "code",
   "execution_count": 1,
   "id": "9ef146f9-f0d1-442e-9db0-9a71b585153c",
   "metadata": {},
   "outputs": [
    {
     "name": "stderr",
     "output_type": "stream",
     "text": [
      "2024-05-13 14:17:50.418 python[32502:20608724] WARNING: AVCaptureDeviceTypeExternal is deprecated for Continuity Cameras. Please use AVCaptureDeviceTypeContinuityCamera and add NSCameraUseContinuityCameraDeviceType to your Info.plist.\n"
     ]
    }
   ],
   "source": [
    "import cv2\n",
    "\n",
    "def stream_external_camera():\n",
    "    # Try to access the external camera\n",
    "    cap = cv2.VideoCapture(1)  # Change the index if needed (0, 1, 2, etc.)\n",
    "\n",
    "    if not cap.isOpened():\n",
    "        print(\"Error: Could not access the external camera.\")\n",
    "        return\n",
    "\n",
    "    # Loop to continuously read frames and display them\n",
    "    while True:\n",
    "        ret, frame = cap.read()\n",
    "\n",
    "        if ret:\n",
    "            # Display the frame\n",
    "            cv2.imshow('External Camera Stream', frame)\n",
    "\n",
    "            # Check for 'q' key to exit the stream\n",
    "            if cv2.waitKey(1) & 0xFF == ord('q'):\n",
    "                break\n",
    "        else:\n",
    "            print(\"Error: Failed to read frame from the external camera.\")\n",
    "            break\n",
    "\n",
    "    # Release the camera and close all OpenCV windows\n",
    "    cap.release()\n",
    "    cv2.destroyAllWindows()\n",
    "\n",
    "# Call the function to start streaming from the external camera\n",
    "stream_external_camera()\n"
   ]
  },
  {
   "cell_type": "code",
   "execution_count": null,
   "id": "afc7dd7a-14ce-4f54-8009-7d588b3607bf",
   "metadata": {},
   "outputs": [],
   "source": []
  }
 ],
 "metadata": {
  "kernelspec": {
   "display_name": "Python 3 (ipykernel)",
   "language": "python",
   "name": "python3"
  },
  "language_info": {
   "codemirror_mode": {
    "name": "ipython",
    "version": 3
   },
   "file_extension": ".py",
   "mimetype": "text/x-python",
   "name": "python",
   "nbconvert_exporter": "python",
   "pygments_lexer": "ipython3",
   "version": "3.9.18"
  }
 },
 "nbformat": 4,
 "nbformat_minor": 5
}
